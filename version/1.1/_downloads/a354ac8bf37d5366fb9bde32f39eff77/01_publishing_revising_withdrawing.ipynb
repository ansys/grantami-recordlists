{
 "cells": [
  {
   "cell_type": "markdown",
   "id": "7328a3df",
   "metadata": {},
   "source": [
    "# Publishing, revising, and withdrawing record lists\n",
    "This example shows how to connect to Granta MI and perform advanced operations on record lists,\n",
    "such as publishing, withdrawing, and revising a list. For more information about the concepts\n",
    "discussed here, see the Help in the Granta MI Favorites app."
   ]
  },
  {
   "cell_type": "markdown",
   "id": "53965db5",
   "metadata": {},
   "source": [
    ".. note:: Running this notebook requires permissions to request publication of, to publish, and to\n",
    "revise a record list. Contact your Granta MI administrator for more information."
   ]
  },
  {
   "cell_type": "markdown",
   "id": "1718e9d8",
   "metadata": {},
   "source": [
    "## Connect to Granta MI and create a record list"
   ]
  },
  {
   "cell_type": "markdown",
   "id": "56394284",
   "metadata": {},
   "source": [
    "Import the ``Connection`` class and create the connection. See the\n",
    "[Getting started](00_basic_usage.ipynb) example for more details."
   ]
  },
  {
   "cell_type": "code",
   "execution_count": null,
   "id": "24ab683c",
   "metadata": {
    "tags": []
   },
   "outputs": [],
   "source": [
    "from ansys.grantami.recordlists import Connection\n",
    "\n",
    "connection = Connection(\"http://my_grantami_server/mi_servicelayer\").with_autologon()\n",
    "client = connection.connect()"
   ]
  },
  {
   "cell_type": "markdown",
   "id": "6b7f3de3",
   "metadata": {},
   "source": [
    "Create a record list for use in this example."
   ]
  },
  {
   "cell_type": "code",
   "execution_count": null,
   "id": "6c873aec",
   "metadata": {
    "tags": []
   },
   "outputs": [],
   "source": [
    "example_list = client.create_list(\n",
    "    name=\"Example list\",\n",
    "    description=f\"Created by example 01_Advanced_usage\",\n",
    ")\n",
    "example_list"
   ]
  },
  {
   "cell_type": "markdown",
   "id": "2e463f34",
   "metadata": {
    "lines_to_next_cell": 2
   },
   "source": [
    "Record lists include two properties describing two aspects of their status: whether they are\n",
    "awaiting approval to be published, and whether they are currently published.\n",
    "Define a function to display the status properties."
   ]
  },
  {
   "cell_type": "code",
   "execution_count": null,
   "id": "9b1c5e15",
   "metadata": {
    "tags": []
   },
   "outputs": [],
   "source": [
    "def print_status(record_list):\n",
    "    print(f\"Awaiting approval: {record_list.awaiting_approval}\")\n",
    "    print(f\"Published: {record_list.published}\")\n",
    "\n",
    "\n",
    "print_status(example_list)"
   ]
  },
  {
   "cell_type": "markdown",
   "id": "24a65f68",
   "metadata": {},
   "source": [
    "## Publish a record list"
   ]
  },
  {
   "cell_type": "markdown",
   "id": "aa25b146",
   "metadata": {},
   "source": [
    "A record list is proposed for publication by calling the ``request_list_approval`` method with the\n",
    "record list to be published."
   ]
  },
  {
   "cell_type": "code",
   "execution_count": null,
   "id": "0944faa5",
   "metadata": {
    "tags": []
   },
   "outputs": [],
   "source": [
    "updated_list = client.request_list_approval(example_list)\n",
    "\n",
    "print_status(updated_list)"
   ]
  },
  {
   "cell_type": "markdown",
   "id": "e5143700",
   "metadata": {},
   "source": [
    "Publish the record list by using the ``publish_list`` method."
   ]
  },
  {
   "cell_type": "code",
   "execution_count": null,
   "id": "69485527",
   "metadata": {
    "tags": []
   },
   "outputs": [],
   "source": [
    "updated_list = client.publish_list(example_list)\n",
    "\n",
    "print_status(updated_list)"
   ]
  },
  {
   "cell_type": "markdown",
   "id": "dabb21cb",
   "metadata": {},
   "source": [
    "## Revise a record list"
   ]
  },
  {
   "cell_type": "markdown",
   "id": "6d83ad05",
   "metadata": {},
   "source": [
    "A published record list cannot be modified directly. Instead, first create a revision of the\n",
    "published record list using the ``revise_list`` method. This creates an editable copy of the\n",
    "original record list (a list revision), and leaves the original record list unchanged."
   ]
  },
  {
   "cell_type": "code",
   "execution_count": null,
   "id": "6b1191cd",
   "metadata": {
    "tags": []
   },
   "outputs": [],
   "source": [
    "revision_list = client.revise_list(example_list)\n",
    "\n",
    "print_status(revision_list)"
   ]
  },
  {
   "cell_type": "markdown",
   "id": "ddf41729",
   "metadata": {},
   "source": [
    "The record list revision includes a property tracking the parent record list:"
   ]
  },
  {
   "cell_type": "code",
   "execution_count": null,
   "id": "ebfa18eb",
   "metadata": {
    "tags": []
   },
   "outputs": [],
   "source": [
    "print(f\"Is revision: {revision_list.is_revision}\")\n",
    "print(f\"Parent identifier: {revision_list.parent_record_list_identifier}\")"
   ]
  },
  {
   "cell_type": "markdown",
   "id": "5cc4f0e3",
   "metadata": {},
   "source": [
    "Modifications made to the list revision are applied to the original list when the list revision\n",
    "is published. Once the original list is updated, the list revision is deleted and is no longer\n",
    "available."
   ]
  },
  {
   "cell_type": "code",
   "execution_count": null,
   "id": "3ba2d93d",
   "metadata": {
    "tags": []
   },
   "outputs": [],
   "source": [
    "updated_revision_list = client.update_list(revision_list, notes=\"Added during revision process\")\n",
    "updated_revision_list = client.request_list_approval(updated_revision_list)\n",
    "updated_original_list = client.publish_list(updated_revision_list)\n",
    "\n",
    "# When publishing a revision list, the returned object is the updated parent list.\n",
    "# Check the notes of the list to confirm the revisions were made successfully.\n",
    "print(f\"Notes: {updated_original_list.notes}\")\n",
    "print(f\"Is published: {updated_original_list.published}\")"
   ]
  },
  {
   "cell_type": "markdown",
   "id": "2d5f288a",
   "metadata": {},
   "source": [
    "## Withdraw a record list\n",
    "When a record list is in the published state, calling ``request_list_approval`` requests the\n",
    "withdrawal of that list."
   ]
  },
  {
   "cell_type": "code",
   "execution_count": null,
   "id": "d50445ba",
   "metadata": {
    "tags": []
   },
   "outputs": [],
   "source": [
    "updated_list = client.request_list_approval(example_list)\n",
    "\n",
    "print_status(updated_list)"
   ]
  },
  {
   "cell_type": "markdown",
   "id": "07b9ca64",
   "metadata": {},
   "source": [
    "Use the ``unpublish_list`` method to withdraw a record list."
   ]
  },
  {
   "cell_type": "code",
   "execution_count": null,
   "id": "ee82810c",
   "metadata": {
    "tags": []
   },
   "outputs": [],
   "source": [
    "updated_list = client.unpublish_list(example_list)\n",
    "\n",
    "print_status(updated_list)"
   ]
  },
  {
   "cell_type": "code",
   "execution_count": null,
   "id": "d2982205",
   "metadata": {
    "nbsphinx": "hidden"
   },
   "outputs": [],
   "source": [
    "client.delete_list(example_list)"
   ]
  }
 ],
 "metadata": {
  "jupytext": {
   "formats": "ipynb,py:light"
  },
  "kernelspec": {
   "display_name": "Python 3 (ipykernel)",
   "language": "python",
   "name": "python3"
  }
 },
 "nbformat": 4,
 "nbformat_minor": 5
}
