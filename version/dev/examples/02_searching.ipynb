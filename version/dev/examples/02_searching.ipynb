{
 "cells": [
  {
   "cell_type": "markdown",
   "id": "b833537e",
   "metadata": {},
   "source": [
    "# Searching\n",
    "This notebook demonstrates how to search for record lists using ``SearchCriterion`` and\n",
    "``BooleanCriterion``."
   ]
  },
  {
   "cell_type": "markdown",
   "id": "2470cde6",
   "metadata": {},
   "source": [
    ".. note:: Running this notebook requires permissions to request publication of, to publish, and to\n",
    "revise a record list. Contact your Granta MI administrator for more information."
   ]
  },
  {
   "cell_type": "markdown",
   "id": "c19948ec",
   "metadata": {},
   "source": [
    "## Connect to Granta MI and create a record list"
   ]
  },
  {
   "cell_type": "markdown",
   "id": "5b3b4eaf",
   "metadata": {},
   "source": [
    "Import the ``Connection`` class and create the connection. See the\n",
    "[Getting started](00_basic_usage.ipynb) example for more details."
   ]
  },
  {
   "cell_type": "code",
   "execution_count": 1,
   "id": "27ed766a",
   "metadata": {
    "execution": {
     "iopub.execute_input": "2025-10-27T12:37:38.179814Z",
     "iopub.status.busy": "2025-10-27T12:37:38.179609Z",
     "iopub.status.idle": "2025-10-27T12:37:38.619262Z",
     "shell.execute_reply": "2025-10-27T12:37:38.618411Z"
    },
    "tags": []
   },
   "outputs": [],
   "source": [
    "from ansys.grantami.recordlists import (\n",
    "    BooleanCriterion,\n",
    "    Connection,\n",
    "    RecordListItem,\n",
    "    SearchCriterion,\n",
    "    UserRole,\n",
    ")\n",
    "\n",
    "connection = Connection(\"http://my_grantami_server/mi_servicelayer\").with_autologon()\n",
    "client = connection.connect()"
   ]
  },
  {
   "cell_type": "markdown",
   "id": "a0ee860a",
   "metadata": {},
   "source": [
    "Create some record lists for use in this example:\n",
    "\n",
    "* ``identifier_a``: Published, empty\n",
    "* ``identifier_b``: Published, populated\n",
    "* ``identifier_c``: Revision of ``identifier_b``\n",
    "* ``identifier_d``: Unpublished\n",
    "\n",
    "See the\n",
    "[Publishing, revising, and withdrawing record lists](01_publishing_revising_withdrawing.ipynb)\n",
    "example for more details."
   ]
  },
  {
   "cell_type": "code",
   "execution_count": 2,
   "id": "a83d3b8b",
   "metadata": {
    "execution": {
     "iopub.execute_input": "2025-10-27T12:37:38.621112Z",
     "iopub.status.busy": "2025-10-27T12:37:38.620927Z",
     "iopub.status.idle": "2025-10-27T12:37:39.930958Z",
     "shell.execute_reply": "2025-10-27T12:37:39.930065Z"
    },
    "tags": []
   },
   "outputs": [],
   "source": [
    "list_a = client.create_list(name=\"Approved materials - Metals\")\n",
    "list_a = client.request_list_approval(list_a)\n",
    "list_a = client.publish_list(list_a)\n",
    "\n",
    "list_b = client.create_list(name=\"Approved materials - Ceramics\")\n",
    "list_b_item = RecordListItem(\n",
    "    \"9716c5a3-da85-4126-a922-3fbb854656d8\",\n",
    "    \"d352fd12-c342-41c1-9da7-dac0dac1c6d9\",\n",
    "    \"c61e8f3a-d7e1-4b7f-8232-b2495eae6c15\",\n",
    ")\n",
    "client.add_items_to_list(\n",
    "    list_b,\n",
    "    items=[list_b_item],\n",
    ")\n",
    "list_b = client.request_list_approval(list_b)\n",
    "list_b = client.publish_list(list_b)\n",
    "\n",
    "list_c = client.revise_list(list_b)\n",
    "list_d = client.create_list(name=\"My personal list\")"
   ]
  },
  {
   "cell_type": "markdown",
   "id": "75b22c8a",
   "metadata": {},
   "source": [
    "## Search for a record list by name"
   ]
  },
  {
   "cell_type": "markdown",
   "id": "228fd7ab",
   "metadata": {},
   "source": [
    "Use the `name_contains` keyword argument for the ``SearchCriterion`` constructor to specify\n",
    "a search criterion based on the record list name."
   ]
  },
  {
   "cell_type": "code",
   "execution_count": 3,
   "id": "f056df1c",
   "metadata": {
    "execution": {
     "iopub.execute_input": "2025-10-27T12:37:39.933161Z",
     "iopub.status.busy": "2025-10-27T12:37:39.932971Z",
     "iopub.status.idle": "2025-10-27T12:37:40.186110Z",
     "shell.execute_reply": "2025-10-27T12:37:40.185254Z"
    },
    "tags": []
   },
   "outputs": [
    {
     "data": {
      "text/plain": [
       "[<SearchResult name: Approved materials - Ceramics>,\n",
       " <SearchResult name: Approved materials - Ceramics>]"
      ]
     },
     "execution_count": 3,
     "metadata": {},
     "output_type": "execute_result"
    }
   ],
   "source": [
    "results = client.search_for_lists(SearchCriterion(name_contains=\"Approved materials - Ceramics\"))\n",
    "results"
   ]
  },
  {
   "cell_type": "markdown",
   "id": "3cc4b789",
   "metadata": {},
   "source": [
    "## Search for 'personal' record lists\n",
    "A 'personal' record list is a list that the current user has created for their own use. It is\n",
    "owned by the current user, is not published, is not awaiting approval, and is not a revision of\n",
    "another list. Lists are generally in this state if they are created in the Favorites or Explore\n",
    "apps and are not submitted for publication."
   ]
  },
  {
   "cell_type": "markdown",
   "id": "53cc9f3c",
   "metadata": {},
   "source": [
    "To search for a list of this type, use the ``SearchCriterion`` below. Set\n",
    "``is_internal_use=False`` to exclude transient record lists created by Granta MI for\n",
    "internal use only, which would otherwise be returned by this search."
   ]
  },
  {
   "cell_type": "code",
   "execution_count": 4,
   "id": "35526e3d",
   "metadata": {
    "execution": {
     "iopub.execute_input": "2025-10-27T12:37:40.187854Z",
     "iopub.status.busy": "2025-10-27T12:37:40.187617Z",
     "iopub.status.idle": "2025-10-27T12:37:40.599304Z",
     "shell.execute_reply": "2025-10-27T12:37:40.598475Z"
    },
    "tags": []
   },
   "outputs": [
    {
     "data": {
      "text/plain": [
       "[<SearchResult name: My personal list>]"
      ]
     },
     "execution_count": 4,
     "metadata": {},
     "output_type": "execute_result"
    }
   ],
   "source": [
    "criterion = SearchCriterion(\n",
    "    is_published=False,\n",
    "    is_revision=False,\n",
    "    is_awaiting_approval=False,\n",
    "    is_internal_use=False,\n",
    "    user_role=UserRole.OWNER,\n",
    ")\n",
    "results = client.search_for_lists(criterion)\n",
    "results"
   ]
  },
  {
   "cell_type": "markdown",
   "id": "4c033603",
   "metadata": {},
   "source": [
    "## Search for a record list by contents\n",
    "Search for record lists that contain a specific record with the ``contains_records`` keyword.\n",
    "Specifying ``include_items=True`` when calling ``search_for_lists`` will populate ``items`` on\n",
    "the results."
   ]
  },
  {
   "cell_type": "code",
   "execution_count": 5,
   "id": "2e133d2b",
   "metadata": {
    "execution": {
     "iopub.execute_input": "2025-10-27T12:37:40.601191Z",
     "iopub.status.busy": "2025-10-27T12:37:40.600980Z",
     "iopub.status.idle": "2025-10-27T12:37:40.845626Z",
     "shell.execute_reply": "2025-10-27T12:37:40.844854Z"
    },
    "tags": []
   },
   "outputs": [
    {
     "data": {
      "text/plain": [
       "[<SearchResult name: Approved materials - Ceramics>,\n",
       " <SearchResult name: Approved materials - Ceramics>]"
      ]
     },
     "execution_count": 5,
     "metadata": {},
     "output_type": "execute_result"
    }
   ],
   "source": [
    "criterion = SearchCriterion(contains_records=[list_b_item])\n",
    "results = client.search_for_lists(criterion, include_items=True)\n",
    "results"
   ]
  },
  {
   "cell_type": "code",
   "execution_count": 6,
   "id": "7208eb73",
   "metadata": {
    "execution": {
     "iopub.execute_input": "2025-10-27T12:37:40.847389Z",
     "iopub.status.busy": "2025-10-27T12:37:40.847113Z",
     "iopub.status.idle": "2025-10-27T12:37:40.851056Z",
     "shell.execute_reply": "2025-10-27T12:37:40.850271Z"
    },
    "lines_to_next_cell": 2,
    "tags": []
   },
   "outputs": [
    {
     "data": {
      "text/plain": [
       "[<RecordListItem(database_guid='9716c5a3-da85-4126-a922-3fbb854656d8', record_history_guid='c61e8f3a-d7e1-4b7f-8232-b2495eae6c15')>]"
      ]
     },
     "execution_count": 6,
     "metadata": {},
     "output_type": "execute_result"
    }
   ],
   "source": [
    "results[0].items"
   ]
  },
  {
   "cell_type": "markdown",
   "id": "b9783446",
   "metadata": {},
   "source": [
    "## Search using a complex criterion\n",
    "Build complex queries with ``BooleanCriterion``. For example, search for published record lists\n",
    "following the naming convention \"Approved materials - {Material family}\", but specifically only\n",
    "metals and ceramics."
   ]
  },
  {
   "cell_type": "code",
   "execution_count": 7,
   "id": "bf2a965e",
   "metadata": {
    "execution": {
     "iopub.execute_input": "2025-10-27T12:37:40.852673Z",
     "iopub.status.busy": "2025-10-27T12:37:40.852508Z",
     "iopub.status.idle": "2025-10-27T12:37:41.112989Z",
     "shell.execute_reply": "2025-10-27T12:37:41.112172Z"
    },
    "tags": []
   },
   "outputs": [
    {
     "data": {
      "text/plain": [
       "[<SearchResult name: Approved materials - Ceramics>,\n",
       " <SearchResult name: Approved materials - Metals>]"
      ]
     },
     "execution_count": 7,
     "metadata": {},
     "output_type": "execute_result"
    }
   ],
   "source": [
    "criterion = BooleanCriterion(\n",
    "    match_all=[\n",
    "        SearchCriterion(\n",
    "            name_contains=\"Approved materials\",\n",
    "            is_published=True,\n",
    "        ),\n",
    "        BooleanCriterion(\n",
    "            match_any=[\n",
    "                SearchCriterion(\n",
    "                    name_contains=\"Metals\",\n",
    "                ),\n",
    "                SearchCriterion(\n",
    "                    name_contains=\"Ceramics\",\n",
    "                ),\n",
    "            ]\n",
    "        ),\n",
    "    ]\n",
    ")\n",
    "results = client.search_for_lists(criterion)\n",
    "results"
   ]
  },
  {
   "cell_type": "code",
   "execution_count": 8,
   "id": "54f3688b",
   "metadata": {
    "execution": {
     "iopub.execute_input": "2025-10-27T12:37:41.114655Z",
     "iopub.status.busy": "2025-10-27T12:37:41.114471Z",
     "iopub.status.idle": "2025-10-27T12:37:41.685017Z",
     "shell.execute_reply": "2025-10-27T12:37:41.684160Z"
    },
    "nbsphinx": "hidden"
   },
   "outputs": [],
   "source": [
    "client.delete_list(list_a)\n",
    "client.delete_list(list_b)\n",
    "client.delete_list(list_c)\n",
    "client.delete_list(list_d)"
   ]
  }
 ],
 "metadata": {
  "jupytext": {
   "formats": "ipynb,py:light"
  },
  "kernelspec": {
   "display_name": "Python 3 (ipykernel)",
   "language": "python",
   "name": "python3"
  },
  "language_info": {
   "codemirror_mode": {
    "name": "ipython",
    "version": 3
   },
   "file_extension": ".py",
   "mimetype": "text/x-python",
   "name": "python",
   "nbconvert_exporter": "python",
   "pygments_lexer": "ipython3",
   "version": "3.11.13"
  }
 },
 "nbformat": 4,
 "nbformat_minor": 5
}
