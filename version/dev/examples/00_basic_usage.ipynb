{
 "cells": [
  {
   "cell_type": "markdown",
   "id": "872b72ea",
   "metadata": {},
   "source": [
    "# Getting started\n",
    "This example shows how to connect to Granta MI and perform basic operations on record lists."
   ]
  },
  {
   "cell_type": "markdown",
   "id": "220ff179",
   "metadata": {},
   "source": [
    "## Connect to Granta MI"
   ]
  },
  {
   "cell_type": "markdown",
   "id": "af52a0ef",
   "metadata": {},
   "source": [
    "First, use the ``ansys.grantami.recordlists.Connection`` class to connect to the Granta MI\n",
    "server. The ``Connection`` class uses a fluent interface to build the connection, which is\n",
    "always invoked in the following sequence:\n",
    "\n",
    "1. Specify your Granta MI Service Layer URL as a parameter to the ``Connection`` class.\n",
    "2. Specify the authentication method using a ``Connection.with_...()`` method.\n",
    "3. Use the ``Connection.connect()`` method to finalize the connection.\n",
    "\n",
    "This returns a client object, called ``client`` in these examples."
   ]
  },
  {
   "cell_type": "code",
   "execution_count": 1,
   "id": "515a3c75",
   "metadata": {
    "execution": {
     "iopub.execute_input": "2024-05-06T12:39:13.175436Z",
     "iopub.status.busy": "2024-05-06T12:39:13.175237Z",
     "iopub.status.idle": "2024-05-06T12:39:15.472035Z",
     "shell.execute_reply": "2024-05-06T12:39:15.471403Z"
    },
    "tags": []
   },
   "outputs": [],
   "source": [
    "from ansys.grantami.recordlists import Connection, RecordListItem\n",
    "\n",
    "connection = Connection(\"http://my_grantami_server/mi_servicelayer\").with_autologon()\n",
    "client = connection.connect()"
   ]
  },
  {
   "cell_type": "markdown",
   "id": "d12bef87",
   "metadata": {},
   "source": [
    "## Create a new record list\n",
    "API operations expect a ``RecordList`` instance as input. For the purpose of this example, create\n",
    "a new record list, using the ``create_list`` method. It returns a ``RecordList`` instance."
   ]
  },
  {
   "cell_type": "code",
   "execution_count": 2,
   "id": "ccbcca70",
   "metadata": {
    "execution": {
     "iopub.execute_input": "2024-05-06T12:39:15.475123Z",
     "iopub.status.busy": "2024-05-06T12:39:15.474703Z",
     "iopub.status.idle": "2024-05-06T12:39:15.518217Z",
     "shell.execute_reply": "2024-05-06T12:39:15.517494Z"
    },
    "tags": []
   },
   "outputs": [
    {
     "data": {
      "text/plain": [
       "<RecordList name: Example list>"
      ]
     },
     "execution_count": 2,
     "metadata": {},
     "output_type": "execute_result"
    }
   ],
   "source": [
    "example_list = client.create_list(\n",
    "    name=\"Example list\",\n",
    "    description=f\"Created by example 00_Basic_usage\",\n",
    ")\n",
    "example_list"
   ]
  },
  {
   "cell_type": "markdown",
   "id": "afbeb57e",
   "metadata": {},
   "source": [
    "## Get the details of an existing record list\n",
    "The ``get_list`` method allows obtaining a ``RecordList`` instance from an existing record list\n",
    "unique identifier. This can be useful when the identifier is already known, for example if it has\n",
    "been obtained from the Favorites application or if it is hard-coded in the script configuration."
   ]
  },
  {
   "cell_type": "code",
   "execution_count": 3,
   "id": "2f8add77",
   "metadata": {
    "execution": {
     "iopub.execute_input": "2024-05-06T12:39:15.520783Z",
     "iopub.status.busy": "2024-05-06T12:39:15.520388Z",
     "iopub.status.idle": "2024-05-06T12:39:15.568620Z",
     "shell.execute_reply": "2024-05-06T12:39:15.567953Z"
    },
    "tags": []
   },
   "outputs": [
    {
     "data": {
      "text/plain": [
       "<RecordList name: Example list>"
      ]
     },
     "execution_count": 3,
     "metadata": {},
     "output_type": "execute_result"
    }
   ],
   "source": [
    "list_details = client.get_list(example_list.identifier)\n",
    "list_details"
   ]
  },
  {
   "cell_type": "code",
   "execution_count": 4,
   "id": "a4dbd4a7",
   "metadata": {
    "execution": {
     "iopub.execute_input": "2024-05-06T12:39:15.571401Z",
     "iopub.status.busy": "2024-05-06T12:39:15.570934Z",
     "iopub.status.idle": "2024-05-06T12:39:15.575070Z",
     "shell.execute_reply": "2024-05-06T12:39:15.574429Z"
    },
    "tags": []
   },
   "outputs": [
    {
     "name": "stdout",
     "output_type": "stream",
     "text": [
      "Name: Example list\n",
      "Identifier: 15267f58-8b7c-4300-be56-1871013937bb\n",
      "Notes: None\n",
      "Description: Created by example 00_Basic_usage\n",
      "Created timestamp: 2024-05-06 12:39:15.500000+00:00\n"
     ]
    }
   ],
   "source": [
    "print(f\"Name: {list_details.name}\")\n",
    "print(f\"Identifier: {list_details.identifier}\")\n",
    "print(f\"Notes: {list_details.notes}\")\n",
    "print(f\"Description: {list_details.description}\")\n",
    "print(f\"Created timestamp: {list_details.created_timestamp}\")"
   ]
  },
  {
   "cell_type": "markdown",
   "id": "33c6c3b4",
   "metadata": {},
   "source": [
    "## Get all record lists"
   ]
  },
  {
   "cell_type": "code",
   "execution_count": 5,
   "id": "9aaad151",
   "metadata": {
    "execution": {
     "iopub.execute_input": "2024-05-06T12:39:15.577387Z",
     "iopub.status.busy": "2024-05-06T12:39:15.577045Z",
     "iopub.status.idle": "2024-05-06T12:39:15.621619Z",
     "shell.execute_reply": "2024-05-06T12:39:15.620924Z"
    },
    "tags": []
   },
   "outputs": [
    {
     "data": {
      "text/plain": [
       "[<RecordList name: Example list>,\n",
       " <RecordList name: IntegrationTestList_6f35d35c-ee80-44e9-b100-c35606b8f4bc>,\n",
       " <RecordList name: IntegrationTestList_19a0adca-179e-4b52-a0eb-52bd853d87d4>,\n",
       " <RecordList name: IntegrationTestList_6bfe2a72-1baa-4adc-94f7-9ec5f110a6d0>,\n",
       " <RecordList name: IntegrationTestList_ef8fb6be-49c9-4e85-9ecb-c2f0dd3de499>]"
      ]
     },
     "execution_count": 5,
     "metadata": {},
     "output_type": "execute_result"
    }
   ],
   "source": [
    "all_lists = client.get_all_lists()\n",
    "all_lists"
   ]
  },
  {
   "cell_type": "markdown",
   "id": "05b3e101",
   "metadata": {},
   "source": [
    "## Copy a record list"
   ]
  },
  {
   "cell_type": "code",
   "execution_count": 6,
   "id": "7247e17a",
   "metadata": {
    "execution": {
     "iopub.execute_input": "2024-05-06T12:39:15.624142Z",
     "iopub.status.busy": "2024-05-06T12:39:15.623769Z",
     "iopub.status.idle": "2024-05-06T12:39:15.675535Z",
     "shell.execute_reply": "2024-05-06T12:39:15.674892Z"
    },
    "tags": []
   },
   "outputs": [
    {
     "data": {
      "text/plain": [
       "<RecordList name: Example list copy_20240506083915>"
      ]
     },
     "execution_count": 6,
     "metadata": {},
     "output_type": "execute_result"
    }
   ],
   "source": [
    "list_copy = client.copy_list(example_list)\n",
    "list_copy"
   ]
  },
  {
   "cell_type": "markdown",
   "id": "5f560e7c",
   "metadata": {},
   "source": [
    "## Update a record list"
   ]
  },
  {
   "cell_type": "code",
   "execution_count": 7,
   "id": "bb8ec5a7",
   "metadata": {
    "execution": {
     "iopub.execute_input": "2024-05-06T12:39:15.678011Z",
     "iopub.status.busy": "2024-05-06T12:39:15.677646Z",
     "iopub.status.idle": "2024-05-06T12:39:15.728967Z",
     "shell.execute_reply": "2024-05-06T12:39:15.728321Z"
    },
    "tags": []
   },
   "outputs": [
    {
     "name": "stdout",
     "output_type": "stream",
     "text": [
      "Name: Copied - Example List\n",
      "Identifier: cc3569b6-4fb9-4006-9015-1d98be3a38e8\n",
      "Notes: Copy of the example list\n",
      "Description: None\n",
      "Created timestamp: 2024-05-06 12:39:15.660000+00:00\n"
     ]
    }
   ],
   "source": [
    "updated_list_copy = client.update_list(\n",
    "    list_copy,\n",
    "    name=\"Copied - Example List\",\n",
    "    description=None,\n",
    "    notes=\"Copy of the example list\",\n",
    ")\n",
    "print(f\"Name: {updated_list_copy.name}\")\n",
    "print(f\"Identifier: {updated_list_copy.identifier}\")\n",
    "print(f\"Notes: {updated_list_copy.notes}\")\n",
    "print(f\"Description: {updated_list_copy.description}\")\n",
    "print(f\"Created timestamp: {updated_list_copy.created_timestamp}\")"
   ]
  },
  {
   "cell_type": "markdown",
   "id": "5e4d5697",
   "metadata": {},
   "source": [
    "## Delete a record list"
   ]
  },
  {
   "cell_type": "code",
   "execution_count": 8,
   "id": "660f2880",
   "metadata": {
    "execution": {
     "iopub.execute_input": "2024-05-06T12:39:15.731241Z",
     "iopub.status.busy": "2024-05-06T12:39:15.731048Z",
     "iopub.status.idle": "2024-05-06T12:39:15.778221Z",
     "shell.execute_reply": "2024-05-06T12:39:15.777596Z"
    },
    "tags": []
   },
   "outputs": [],
   "source": [
    "client.delete_list(updated_list_copy)"
   ]
  },
  {
   "cell_type": "markdown",
   "id": "e840910a",
   "metadata": {},
   "source": [
    "## Read the items in a record list\n",
    "The list was created at the beginning of this example, so the list is currently empty."
   ]
  },
  {
   "cell_type": "code",
   "execution_count": 9,
   "id": "4b219e7b",
   "metadata": {
    "execution": {
     "iopub.execute_input": "2024-05-06T12:39:15.780786Z",
     "iopub.status.busy": "2024-05-06T12:39:15.780434Z",
     "iopub.status.idle": "2024-05-06T12:39:15.824911Z",
     "shell.execute_reply": "2024-05-06T12:39:15.824372Z"
    },
    "tags": []
   },
   "outputs": [
    {
     "data": {
      "text/plain": [
       "[]"
      ]
     },
     "execution_count": 9,
     "metadata": {},
     "output_type": "execute_result"
    }
   ],
   "source": [
    "items = client.get_list_items(example_list)\n",
    "items"
   ]
  },
  {
   "cell_type": "markdown",
   "id": "b41273e8",
   "metadata": {},
   "source": [
    "## Add items to a record list\n",
    "Add items to a list using ``add_items_to_list``.\n",
    "Items are described using the database GUID, table GUID, and record history GUID."
   ]
  },
  {
   "cell_type": "code",
   "execution_count": 10,
   "id": "ff89e5e5",
   "metadata": {
    "execution": {
     "iopub.execute_input": "2024-05-06T12:39:15.827196Z",
     "iopub.status.busy": "2024-05-06T12:39:15.827004Z",
     "iopub.status.idle": "2024-05-06T12:39:15.883135Z",
     "shell.execute_reply": "2024-05-06T12:39:15.882508Z"
    },
    "tags": []
   },
   "outputs": [
    {
     "data": {
      "text/plain": [
       "[<RecordListItem(database_guid='e595fe23-b450-4d18-8c08-4a0f378ef095', record_history_guid='3bc2b82f-0199-4f3b-a7af-8d520250b180')>]"
      ]
     },
     "execution_count": 10,
     "metadata": {},
     "output_type": "execute_result"
    }
   ],
   "source": [
    "client.add_items_to_list(\n",
    "    example_list,\n",
    "    items=[\n",
    "        RecordListItem(\n",
    "            database_guid=\"e595fe23-b450-4d18-8c08-4a0f378ef095\",\n",
    "            table_guid=\"81dff531-0254-4fbe-9621-174b10aaee3d\",\n",
    "            record_history_guid=\"3bc2b82f-0199-4f3b-a7af-8d520250b180\",\n",
    "        ),\n",
    "    ],\n",
    ")"
   ]
  },
  {
   "cell_type": "markdown",
   "id": "f323e155",
   "metadata": {},
   "source": [
    "Then retrieve the items and confirm that the record list now includes the added items."
   ]
  },
  {
   "cell_type": "code",
   "execution_count": 11,
   "id": "e7da2eb6",
   "metadata": {
    "execution": {
     "iopub.execute_input": "2024-05-06T12:39:15.885675Z",
     "iopub.status.busy": "2024-05-06T12:39:15.885223Z",
     "iopub.status.idle": "2024-05-06T12:39:15.930289Z",
     "shell.execute_reply": "2024-05-06T12:39:15.929769Z"
    },
    "tags": []
   },
   "outputs": [
    {
     "data": {
      "text/plain": [
       "[<RecordListItem(database_guid='e595fe23-b450-4d18-8c08-4a0f378ef095', record_history_guid='3bc2b82f-0199-4f3b-a7af-8d520250b180')>]"
      ]
     },
     "execution_count": 11,
     "metadata": {},
     "output_type": "execute_result"
    }
   ],
   "source": [
    "list_items = client.get_list_items(example_list)\n",
    "list_items"
   ]
  },
  {
   "cell_type": "markdown",
   "id": "d14ac9ce",
   "metadata": {},
   "source": [
    "## Remove items from a record list\n",
    "Remove items from a record list using ``remove_items_from_list``."
   ]
  },
  {
   "cell_type": "code",
   "execution_count": 12,
   "id": "f4396c14",
   "metadata": {
    "execution": {
     "iopub.execute_input": "2024-05-06T12:39:15.932675Z",
     "iopub.status.busy": "2024-05-06T12:39:15.932334Z",
     "iopub.status.idle": "2024-05-06T12:39:15.989541Z",
     "shell.execute_reply": "2024-05-06T12:39:15.988978Z"
    },
    "tags": []
   },
   "outputs": [
    {
     "data": {
      "text/plain": [
       "[]"
      ]
     },
     "execution_count": 12,
     "metadata": {},
     "output_type": "execute_result"
    }
   ],
   "source": [
    "client.remove_items_from_list(\n",
    "    example_list,\n",
    "    items=list_items,\n",
    ")"
   ]
  },
  {
   "cell_type": "markdown",
   "id": "ff0e31dd",
   "metadata": {},
   "source": [
    "Then retrieve the items again and confirm that the record list is empty."
   ]
  },
  {
   "cell_type": "code",
   "execution_count": 13,
   "id": "26dfdcb6",
   "metadata": {
    "execution": {
     "iopub.execute_input": "2024-05-06T12:39:15.991893Z",
     "iopub.status.busy": "2024-05-06T12:39:15.991693Z",
     "iopub.status.idle": "2024-05-06T12:39:16.036534Z",
     "shell.execute_reply": "2024-05-06T12:39:16.035913Z"
    },
    "lines_to_next_cell": 2,
    "tags": []
   },
   "outputs": [
    {
     "data": {
      "text/plain": [
       "[]"
      ]
     },
     "execution_count": 13,
     "metadata": {},
     "output_type": "execute_result"
    }
   ],
   "source": [
    "items = client.get_list_items(example_list)\n",
    "items"
   ]
  },
  {
   "cell_type": "code",
   "execution_count": 14,
   "id": "5991a66c",
   "metadata": {
    "execution": {
     "iopub.execute_input": "2024-05-06T12:39:16.038974Z",
     "iopub.status.busy": "2024-05-06T12:39:16.038601Z",
     "iopub.status.idle": "2024-05-06T12:39:16.086524Z",
     "shell.execute_reply": "2024-05-06T12:39:16.085840Z"
    },
    "nbsphinx": "hidden"
   },
   "outputs": [],
   "source": [
    "client.delete_list(example_list)"
   ]
  }
 ],
 "metadata": {
  "jupytext": {
   "formats": "ipynb,py:light"
  },
  "kernelspec": {
   "display_name": "Python 3 (ipykernel)",
   "language": "python",
   "name": "python3"
  },
  "language_info": {
   "codemirror_mode": {
    "name": "ipython",
    "version": 3
   },
   "file_extension": ".py",
   "mimetype": "text/x-python",
   "name": "python",
   "nbconvert_exporter": "python",
   "pygments_lexer": "ipython3",
   "version": "3.10.14"
  }
 },
 "nbformat": 4,
 "nbformat_minor": 5
}
