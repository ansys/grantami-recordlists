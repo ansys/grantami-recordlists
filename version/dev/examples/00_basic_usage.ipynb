{
 "cells": [
  {
   "cell_type": "markdown",
   "id": "98854bf6",
   "metadata": {},
   "source": [
    "# Getting started\n",
    "This example shows how to connect to Granta MI and perform basic operations on record lists."
   ]
  },
  {
   "cell_type": "markdown",
   "id": "42ecfe21",
   "metadata": {},
   "source": [
    "## Connect to Granta MI"
   ]
  },
  {
   "cell_type": "markdown",
   "id": "df76036e",
   "metadata": {},
   "source": [
    "First, use the ``ansys.grantami.recordlists.Connection`` class to connect to the Granta MI\n",
    "server. The ``Connection`` class uses a fluent interface to build the connection, which is\n",
    "always invoked in the following sequence:\n",
    "\n",
    "1. Specify your Granta MI Service Layer URL as a parameter to the ``Connection`` class.\n",
    "2. Specify the authentication method using a ``Connection.with_...()`` method.\n",
    "3. Use the ``Connection.connect()`` method to finalize the connection.\n",
    "\n",
    "This returns a client object, called ``client`` in these examples."
   ]
  },
  {
   "cell_type": "code",
   "execution_count": 1,
   "id": "2dbb3564",
   "metadata": {
    "execution": {
     "iopub.execute_input": "2025-10-27T12:37:27.055705Z",
     "iopub.status.busy": "2025-10-27T12:37:27.055515Z",
     "iopub.status.idle": "2025-10-27T12:37:27.508070Z",
     "shell.execute_reply": "2025-10-27T12:37:27.507109Z"
    },
    "tags": []
   },
   "outputs": [],
   "source": [
    "from ansys.grantami.recordlists import Connection, RecordListItem\n",
    "\n",
    "connection = Connection(\"http://my_grantami_server/mi_servicelayer\").with_autologon()\n",
    "client = connection.connect()"
   ]
  },
  {
   "cell_type": "markdown",
   "id": "1878f451",
   "metadata": {},
   "source": [
    "## Create a new record list\n",
    "API operations expect a ``RecordList`` instance as input. For the purpose of this example, create\n",
    "a new record list, using the ``create_list`` method. It returns a ``RecordList`` instance."
   ]
  },
  {
   "cell_type": "code",
   "execution_count": 2,
   "id": "964f2163",
   "metadata": {
    "execution": {
     "iopub.execute_input": "2025-10-27T12:37:27.510051Z",
     "iopub.status.busy": "2025-10-27T12:37:27.509873Z",
     "iopub.status.idle": "2025-10-27T12:37:27.622691Z",
     "shell.execute_reply": "2025-10-27T12:37:27.621803Z"
    },
    "tags": []
   },
   "outputs": [
    {
     "data": {
      "text/plain": [
       "<RecordList name: Example list>"
      ]
     },
     "execution_count": 2,
     "metadata": {},
     "output_type": "execute_result"
    }
   ],
   "source": [
    "example_list = client.create_list(\n",
    "    name=\"Example list\",\n",
    "    description=f\"Created by example 00_Basic_usage\",\n",
    ")\n",
    "example_list"
   ]
  },
  {
   "cell_type": "markdown",
   "id": "db83c87a",
   "metadata": {},
   "source": [
    "## Get the details of an existing record list\n",
    "The ``get_list`` method allows obtaining a ``RecordList`` instance from an existing record list\n",
    "unique identifier. This can be useful when the identifier is already known, for example if it has\n",
    "been obtained from the Favorites application or if it is hard-coded in the script configuration."
   ]
  },
  {
   "cell_type": "code",
   "execution_count": 3,
   "id": "15a5d3c9",
   "metadata": {
    "execution": {
     "iopub.execute_input": "2025-10-27T12:37:27.624402Z",
     "iopub.status.busy": "2025-10-27T12:37:27.624224Z",
     "iopub.status.idle": "2025-10-27T12:37:27.749214Z",
     "shell.execute_reply": "2025-10-27T12:37:27.748397Z"
    },
    "tags": []
   },
   "outputs": [
    {
     "data": {
      "text/plain": [
       "<RecordList name: Example list>"
      ]
     },
     "execution_count": 3,
     "metadata": {},
     "output_type": "execute_result"
    }
   ],
   "source": [
    "list_details = client.get_list(example_list.identifier)\n",
    "list_details"
   ]
  },
  {
   "cell_type": "code",
   "execution_count": 4,
   "id": "8b596df9",
   "metadata": {
    "execution": {
     "iopub.execute_input": "2025-10-27T12:37:27.751004Z",
     "iopub.status.busy": "2025-10-27T12:37:27.750819Z",
     "iopub.status.idle": "2025-10-27T12:37:27.754427Z",
     "shell.execute_reply": "2025-10-27T12:37:27.753612Z"
    },
    "tags": []
   },
   "outputs": [
    {
     "name": "stdout",
     "output_type": "stream",
     "text": [
      "Name: Example list\n",
      "Identifier: 87defa51-703e-459a-88ad-ee31ce5246ce\n",
      "Notes: None\n",
      "Description: Created by example 00_Basic_usage\n",
      "Created timestamp: 2025-10-27 12:37:27.560000+00:00\n"
     ]
    }
   ],
   "source": [
    "print(f\"Name: {list_details.name}\")\n",
    "print(f\"Identifier: {list_details.identifier}\")\n",
    "print(f\"Notes: {list_details.notes}\")\n",
    "print(f\"Description: {list_details.description}\")\n",
    "print(f\"Created timestamp: {list_details.created_timestamp}\")"
   ]
  },
  {
   "cell_type": "markdown",
   "id": "6ef86307",
   "metadata": {},
   "source": [
    "## Get all record lists"
   ]
  },
  {
   "cell_type": "code",
   "execution_count": 5,
   "id": "ce814a0e",
   "metadata": {
    "execution": {
     "iopub.execute_input": "2025-10-27T12:37:27.755971Z",
     "iopub.status.busy": "2025-10-27T12:37:27.755795Z",
     "iopub.status.idle": "2025-10-27T12:37:27.882556Z",
     "shell.execute_reply": "2025-10-27T12:37:27.881704Z"
    },
    "tags": []
   },
   "outputs": [
    {
     "data": {
      "text/plain": [
       "[<RecordList name: Example list>]"
      ]
     },
     "execution_count": 5,
     "metadata": {},
     "output_type": "execute_result"
    }
   ],
   "source": [
    "all_lists = client.get_all_lists()\n",
    "all_lists"
   ]
  },
  {
   "cell_type": "markdown",
   "id": "a8a0010b",
   "metadata": {},
   "source": [
    "## Copy a record list"
   ]
  },
  {
   "cell_type": "code",
   "execution_count": 6,
   "id": "dbcdd4b9",
   "metadata": {
    "execution": {
     "iopub.execute_input": "2025-10-27T12:37:27.884253Z",
     "iopub.status.busy": "2025-10-27T12:37:27.884078Z",
     "iopub.status.idle": "2025-10-27T12:37:28.031186Z",
     "shell.execute_reply": "2025-10-27T12:37:28.030325Z"
    },
    "tags": []
   },
   "outputs": [
    {
     "data": {
      "text/plain": [
       "<RecordList name: Example list copy_20251027083727>"
      ]
     },
     "execution_count": 6,
     "metadata": {},
     "output_type": "execute_result"
    }
   ],
   "source": [
    "list_copy = client.copy_list(example_list)\n",
    "list_copy"
   ]
  },
  {
   "cell_type": "markdown",
   "id": "589354f0",
   "metadata": {},
   "source": [
    "## Update a record list"
   ]
  },
  {
   "cell_type": "code",
   "execution_count": 7,
   "id": "3f282b5d",
   "metadata": {
    "execution": {
     "iopub.execute_input": "2025-10-27T12:37:28.033012Z",
     "iopub.status.busy": "2025-10-27T12:37:28.032821Z",
     "iopub.status.idle": "2025-10-27T12:37:28.221079Z",
     "shell.execute_reply": "2025-10-27T12:37:28.220186Z"
    },
    "tags": []
   },
   "outputs": [
    {
     "name": "stdout",
     "output_type": "stream",
     "text": [
      "Name: Copied - Example List\n",
      "Identifier: 3d5f8ace-86b9-41b8-bc6f-d4f791d13bf9\n",
      "Notes: Copy of the example list\n",
      "Description: None\n",
      "Created timestamp: 2025-10-27 12:37:27.970000+00:00\n"
     ]
    }
   ],
   "source": [
    "updated_list_copy = client.update_list(\n",
    "    list_copy,\n",
    "    name=\"Copied - Example List\",\n",
    "    description=None,\n",
    "    notes=\"Copy of the example list\",\n",
    ")\n",
    "print(f\"Name: {updated_list_copy.name}\")\n",
    "print(f\"Identifier: {updated_list_copy.identifier}\")\n",
    "print(f\"Notes: {updated_list_copy.notes}\")\n",
    "print(f\"Description: {updated_list_copy.description}\")\n",
    "print(f\"Created timestamp: {updated_list_copy.created_timestamp}\")"
   ]
  },
  {
   "cell_type": "markdown",
   "id": "3bcef55a",
   "metadata": {},
   "source": [
    "## Delete a record list"
   ]
  },
  {
   "cell_type": "code",
   "execution_count": 8,
   "id": "f71f825f",
   "metadata": {
    "execution": {
     "iopub.execute_input": "2025-10-27T12:37:28.222742Z",
     "iopub.status.busy": "2025-10-27T12:37:28.222549Z",
     "iopub.status.idle": "2025-10-27T12:37:28.351420Z",
     "shell.execute_reply": "2025-10-27T12:37:28.350502Z"
    },
    "tags": []
   },
   "outputs": [],
   "source": [
    "client.delete_list(updated_list_copy)"
   ]
  },
  {
   "cell_type": "markdown",
   "id": "a0914fc7",
   "metadata": {},
   "source": [
    "## Read the items in a record list\n",
    "The list was created at the beginning of this example, so the list is currently empty."
   ]
  },
  {
   "cell_type": "code",
   "execution_count": 9,
   "id": "c12a0d69",
   "metadata": {
    "execution": {
     "iopub.execute_input": "2025-10-27T12:37:28.353228Z",
     "iopub.status.busy": "2025-10-27T12:37:28.353048Z",
     "iopub.status.idle": "2025-10-27T12:37:28.479430Z",
     "shell.execute_reply": "2025-10-27T12:37:28.478597Z"
    },
    "tags": []
   },
   "outputs": [
    {
     "data": {
      "text/plain": [
       "[]"
      ]
     },
     "execution_count": 9,
     "metadata": {},
     "output_type": "execute_result"
    }
   ],
   "source": [
    "items = client.get_list_items(example_list)\n",
    "items"
   ]
  },
  {
   "cell_type": "markdown",
   "id": "903e3805",
   "metadata": {},
   "source": [
    "## Add items to a record list\n",
    "Add items to a list using ``add_items_to_list``.\n",
    "Items are described using the database GUID, table GUID, and record history GUID."
   ]
  },
  {
   "cell_type": "code",
   "execution_count": 10,
   "id": "8681e7d2",
   "metadata": {
    "execution": {
     "iopub.execute_input": "2025-10-27T12:37:28.481289Z",
     "iopub.status.busy": "2025-10-27T12:37:28.481115Z",
     "iopub.status.idle": "2025-10-27T12:37:28.666794Z",
     "shell.execute_reply": "2025-10-27T12:37:28.665936Z"
    },
    "tags": []
   },
   "outputs": [
    {
     "data": {
      "text/plain": [
       "[<RecordListItem(database_guid='e595fe23-b450-4d18-8c08-4a0f378ef095', record_history_guid='3bc2b82f-0199-4f3b-a7af-8d520250b180')>]"
      ]
     },
     "execution_count": 10,
     "metadata": {},
     "output_type": "execute_result"
    }
   ],
   "source": [
    "client.add_items_to_list(\n",
    "    example_list,\n",
    "    items=[\n",
    "        RecordListItem(\n",
    "            database_guid=\"e595fe23-b450-4d18-8c08-4a0f378ef095\",\n",
    "            table_guid=\"81dff531-0254-4fbe-9621-174b10aaee3d\",\n",
    "            record_history_guid=\"3bc2b82f-0199-4f3b-a7af-8d520250b180\",\n",
    "        ),\n",
    "    ],\n",
    ")"
   ]
  },
  {
   "cell_type": "markdown",
   "id": "f7ba51a3",
   "metadata": {},
   "source": [
    "Then retrieve the items and confirm that the record list now includes the added items."
   ]
  },
  {
   "cell_type": "code",
   "execution_count": 11,
   "id": "17ec86f8",
   "metadata": {
    "execution": {
     "iopub.execute_input": "2025-10-27T12:37:28.668636Z",
     "iopub.status.busy": "2025-10-27T12:37:28.668444Z",
     "iopub.status.idle": "2025-10-27T12:37:28.796640Z",
     "shell.execute_reply": "2025-10-27T12:37:28.795462Z"
    },
    "tags": []
   },
   "outputs": [
    {
     "data": {
      "text/plain": [
       "[<RecordListItem(database_guid='e595fe23-b450-4d18-8c08-4a0f378ef095', record_history_guid='3bc2b82f-0199-4f3b-a7af-8d520250b180')>]"
      ]
     },
     "execution_count": 11,
     "metadata": {},
     "output_type": "execute_result"
    }
   ],
   "source": [
    "list_items = client.get_list_items(example_list)\n",
    "list_items"
   ]
  },
  {
   "cell_type": "markdown",
   "id": "08c3cc1d",
   "metadata": {},
   "source": [
    "## Remove items from a record list\n",
    "Remove items from a record list using ``remove_items_from_list``."
   ]
  },
  {
   "cell_type": "code",
   "execution_count": 12,
   "id": "4fcb17ae",
   "metadata": {
    "execution": {
     "iopub.execute_input": "2025-10-27T12:37:28.798497Z",
     "iopub.status.busy": "2025-10-27T12:37:28.798291Z",
     "iopub.status.idle": "2025-10-27T12:37:28.969869Z",
     "shell.execute_reply": "2025-10-27T12:37:28.968716Z"
    },
    "tags": []
   },
   "outputs": [
    {
     "data": {
      "text/plain": [
       "[]"
      ]
     },
     "execution_count": 12,
     "metadata": {},
     "output_type": "execute_result"
    }
   ],
   "source": [
    "client.remove_items_from_list(\n",
    "    example_list,\n",
    "    items=list_items,\n",
    ")"
   ]
  },
  {
   "cell_type": "markdown",
   "id": "12ed8f9e",
   "metadata": {},
   "source": [
    "Then retrieve the items again and confirm that the record list is empty."
   ]
  },
  {
   "cell_type": "code",
   "execution_count": 13,
   "id": "70a9caa5",
   "metadata": {
    "execution": {
     "iopub.execute_input": "2025-10-27T12:37:28.972338Z",
     "iopub.status.busy": "2025-10-27T12:37:28.972057Z",
     "iopub.status.idle": "2025-10-27T12:37:29.096984Z",
     "shell.execute_reply": "2025-10-27T12:37:29.096014Z"
    },
    "lines_to_next_cell": 2,
    "tags": []
   },
   "outputs": [
    {
     "data": {
      "text/plain": [
       "[]"
      ]
     },
     "execution_count": 13,
     "metadata": {},
     "output_type": "execute_result"
    }
   ],
   "source": [
    "items = client.get_list_items(example_list)\n",
    "items"
   ]
  },
  {
   "cell_type": "code",
   "execution_count": 14,
   "id": "9d65b2a5",
   "metadata": {
    "execution": {
     "iopub.execute_input": "2025-10-27T12:37:29.098646Z",
     "iopub.status.busy": "2025-10-27T12:37:29.098459Z",
     "iopub.status.idle": "2025-10-27T12:37:29.229257Z",
     "shell.execute_reply": "2025-10-27T12:37:29.228423Z"
    },
    "nbsphinx": "hidden"
   },
   "outputs": [],
   "source": [
    "client.delete_list(example_list)"
   ]
  }
 ],
 "metadata": {
  "jupytext": {
   "formats": "ipynb,py:light"
  },
  "kernelspec": {
   "display_name": "Python 3 (ipykernel)",
   "language": "python",
   "name": "python3"
  },
  "language_info": {
   "codemirror_mode": {
    "name": "ipython",
    "version": 3
   },
   "file_extension": ".py",
   "mimetype": "text/x-python",
   "name": "python",
   "nbconvert_exporter": "python",
   "pygments_lexer": "ipython3",
   "version": "3.11.13"
  }
 },
 "nbformat": 4,
 "nbformat_minor": 5
}
