{
 "cells": [
  {
   "cell_type": "markdown",
   "id": "64e0cfc8",
   "metadata": {},
   "source": [
    "# Publishing, revising, and withdrawing record lists\n",
    "This example shows how to connect to Granta MI and perform advanced operations on record lists,\n",
    "such as publishing, withdrawing, and revising a list. For more information about the concepts\n",
    "discussed here, see the Help in the Granta MI Favorites app."
   ]
  },
  {
   "cell_type": "markdown",
   "id": "f1e2df5d",
   "metadata": {},
   "source": [
    ".. note:: Running this notebook requires permissions to request publication of, to publish, and to\n",
    "revise a record list. Contact your Granta MI administrator for more information."
   ]
  },
  {
   "cell_type": "markdown",
   "id": "5825adcb",
   "metadata": {},
   "source": [
    "## Connect to Granta MI and create a record list"
   ]
  },
  {
   "cell_type": "markdown",
   "id": "8dc6d5ea",
   "metadata": {},
   "source": [
    "Import the ``Connection`` class and create the connection. See the\n",
    "[Getting started](00_basic_usage.ipynb) example for more details."
   ]
  },
  {
   "cell_type": "code",
   "execution_count": 1,
   "id": "bfae71d3",
   "metadata": {
    "execution": {
     "iopub.execute_input": "2024-05-06T12:39:21.152121Z",
     "iopub.status.busy": "2024-05-06T12:39:21.151897Z",
     "iopub.status.idle": "2024-05-06T12:39:23.414823Z",
     "shell.execute_reply": "2024-05-06T12:39:23.414134Z"
    },
    "tags": []
   },
   "outputs": [],
   "source": [
    "from ansys.grantami.recordlists import Connection\n",
    "\n",
    "connection = Connection(\"http://my_grantami_server/mi_servicelayer\").with_autologon()\n",
    "client = connection.connect()"
   ]
  },
  {
   "cell_type": "markdown",
   "id": "5a3b6b7f",
   "metadata": {},
   "source": [
    "Create a record list for use in this example."
   ]
  },
  {
   "cell_type": "code",
   "execution_count": 2,
   "id": "79396665",
   "metadata": {
    "execution": {
     "iopub.execute_input": "2024-05-06T12:39:23.417669Z",
     "iopub.status.busy": "2024-05-06T12:39:23.417438Z",
     "iopub.status.idle": "2024-05-06T12:39:23.461147Z",
     "shell.execute_reply": "2024-05-06T12:39:23.460599Z"
    },
    "tags": []
   },
   "outputs": [
    {
     "data": {
      "text/plain": [
       "<RecordList name: Example list>"
      ]
     },
     "execution_count": 2,
     "metadata": {},
     "output_type": "execute_result"
    }
   ],
   "source": [
    "example_list = client.create_list(\n",
    "    name=\"Example list\",\n",
    "    description=f\"Created by example 01_Advanced_usage\",\n",
    ")\n",
    "example_list"
   ]
  },
  {
   "cell_type": "markdown",
   "id": "a5a68b80",
   "metadata": {
    "lines_to_next_cell": 2
   },
   "source": [
    "Record lists include two properties describing two aspects of their status: whether they are\n",
    "awaiting approval to be published, and whether they are currently published.\n",
    "Define a function to display the status properties."
   ]
  },
  {
   "cell_type": "code",
   "execution_count": 3,
   "id": "47a18627",
   "metadata": {
    "execution": {
     "iopub.execute_input": "2024-05-06T12:39:23.463398Z",
     "iopub.status.busy": "2024-05-06T12:39:23.463168Z",
     "iopub.status.idle": "2024-05-06T12:39:23.467038Z",
     "shell.execute_reply": "2024-05-06T12:39:23.466426Z"
    },
    "tags": []
   },
   "outputs": [
    {
     "name": "stdout",
     "output_type": "stream",
     "text": [
      "Awaiting approval: False\n",
      "Published: False\n"
     ]
    }
   ],
   "source": [
    "def print_status(record_list):\n",
    "    print(f\"Awaiting approval: {record_list.awaiting_approval}\")\n",
    "    print(f\"Published: {record_list.published}\")\n",
    "\n",
    "\n",
    "print_status(example_list)"
   ]
  },
  {
   "cell_type": "markdown",
   "id": "b1003a27",
   "metadata": {},
   "source": [
    "## Publish a record list"
   ]
  },
  {
   "cell_type": "markdown",
   "id": "34620d62",
   "metadata": {},
   "source": [
    "A record list is proposed for publication by calling the ``request_list_approval`` method with the\n",
    "record list to be published."
   ]
  },
  {
   "cell_type": "code",
   "execution_count": 4,
   "id": "42f41e12",
   "metadata": {
    "execution": {
     "iopub.execute_input": "2024-05-06T12:39:23.469557Z",
     "iopub.status.busy": "2024-05-06T12:39:23.469189Z",
     "iopub.status.idle": "2024-05-06T12:39:23.520079Z",
     "shell.execute_reply": "2024-05-06T12:39:23.519539Z"
    },
    "tags": []
   },
   "outputs": [
    {
     "name": "stdout",
     "output_type": "stream",
     "text": [
      "Awaiting approval: True\n",
      "Published: False\n"
     ]
    }
   ],
   "source": [
    "updated_list = client.request_list_approval(example_list)\n",
    "\n",
    "print_status(updated_list)"
   ]
  },
  {
   "cell_type": "markdown",
   "id": "05b00183",
   "metadata": {},
   "source": [
    "Publish the record list by using the ``publish_list`` method."
   ]
  },
  {
   "cell_type": "code",
   "execution_count": 5,
   "id": "53ed797c",
   "metadata": {
    "execution": {
     "iopub.execute_input": "2024-05-06T12:39:23.522301Z",
     "iopub.status.busy": "2024-05-06T12:39:23.522111Z",
     "iopub.status.idle": "2024-05-06T12:39:23.579848Z",
     "shell.execute_reply": "2024-05-06T12:39:23.579310Z"
    },
    "tags": []
   },
   "outputs": [
    {
     "name": "stdout",
     "output_type": "stream",
     "text": [
      "Awaiting approval: False\n",
      "Published: True\n"
     ]
    }
   ],
   "source": [
    "updated_list = client.publish_list(example_list)\n",
    "\n",
    "print_status(updated_list)"
   ]
  },
  {
   "cell_type": "markdown",
   "id": "423d5e40",
   "metadata": {},
   "source": [
    "## Revise a record list"
   ]
  },
  {
   "cell_type": "markdown",
   "id": "96c974b5",
   "metadata": {},
   "source": [
    "A published record list cannot be modified directly. Instead, first create a revision of the\n",
    "published record list using the ``revise_list`` method. This creates an editable copy of the\n",
    "original record list (a list revision), and leaves the original record list unchanged."
   ]
  },
  {
   "cell_type": "code",
   "execution_count": 6,
   "id": "5a614ede",
   "metadata": {
    "execution": {
     "iopub.execute_input": "2024-05-06T12:39:23.582052Z",
     "iopub.status.busy": "2024-05-06T12:39:23.581863Z",
     "iopub.status.idle": "2024-05-06T12:39:23.638603Z",
     "shell.execute_reply": "2024-05-06T12:39:23.638059Z"
    },
    "tags": []
   },
   "outputs": [
    {
     "name": "stdout",
     "output_type": "stream",
     "text": [
      "Awaiting approval: False\n",
      "Published: False\n"
     ]
    }
   ],
   "source": [
    "revision_list = client.revise_list(example_list)\n",
    "\n",
    "print_status(revision_list)"
   ]
  },
  {
   "cell_type": "markdown",
   "id": "820b60a5",
   "metadata": {},
   "source": [
    "The record list revision includes a property tracking the parent record list:"
   ]
  },
  {
   "cell_type": "code",
   "execution_count": 7,
   "id": "be7ba624",
   "metadata": {
    "execution": {
     "iopub.execute_input": "2024-05-06T12:39:23.640787Z",
     "iopub.status.busy": "2024-05-06T12:39:23.640596Z",
     "iopub.status.idle": "2024-05-06T12:39:23.643761Z",
     "shell.execute_reply": "2024-05-06T12:39:23.643134Z"
    },
    "tags": []
   },
   "outputs": [
    {
     "name": "stdout",
     "output_type": "stream",
     "text": [
      "Is revision: True\n",
      "Parent identifier: 90a723b8-11f6-47b2-b606-8a7c144573a9\n"
     ]
    }
   ],
   "source": [
    "print(f\"Is revision: {revision_list.is_revision}\")\n",
    "print(f\"Parent identifier: {revision_list.parent_record_list_identifier}\")"
   ]
  },
  {
   "cell_type": "markdown",
   "id": "42b2e040",
   "metadata": {},
   "source": [
    "Modifications made to the list revision are applied to the original list when the list revision\n",
    "is published. Once the original list is updated, the list revision is deleted and is no longer\n",
    "available."
   ]
  },
  {
   "cell_type": "code",
   "execution_count": 8,
   "id": "73e111bf",
   "metadata": {
    "execution": {
     "iopub.execute_input": "2024-05-06T12:39:23.646030Z",
     "iopub.status.busy": "2024-05-06T12:39:23.645841Z",
     "iopub.status.idle": "2024-05-06T12:39:23.811540Z",
     "shell.execute_reply": "2024-05-06T12:39:23.810935Z"
    },
    "tags": []
   },
   "outputs": [
    {
     "name": "stdout",
     "output_type": "stream",
     "text": [
      "Notes: None\n",
      "Is published: True\n"
     ]
    }
   ],
   "source": [
    "updated_revision_list = client.update_list(revision_list, notes=\"Added during revision process\")\n",
    "updated_revision_list = client.request_list_approval(updated_revision_list)\n",
    "updated_original_list = client.publish_list(updated_revision_list)\n",
    "\n",
    "# When publishing a revision list, the returned object is the updated parent list.\n",
    "# Check the notes of the list to confirm the revisions were made successfully.\n",
    "print(f\"Notes: {updated_original_list.notes}\")\n",
    "print(f\"Is published: {updated_original_list.published}\")"
   ]
  },
  {
   "cell_type": "markdown",
   "id": "a3838895",
   "metadata": {},
   "source": [
    "## Withdraw a record list\n",
    "When a record list is in the published state, calling ``request_list_approval`` requests the\n",
    "withdrawal of that list."
   ]
  },
  {
   "cell_type": "code",
   "execution_count": 9,
   "id": "664a8989",
   "metadata": {
    "execution": {
     "iopub.execute_input": "2024-05-06T12:39:23.814051Z",
     "iopub.status.busy": "2024-05-06T12:39:23.813658Z",
     "iopub.status.idle": "2024-05-06T12:39:23.867760Z",
     "shell.execute_reply": "2024-05-06T12:39:23.867250Z"
    },
    "tags": []
   },
   "outputs": [
    {
     "name": "stdout",
     "output_type": "stream",
     "text": [
      "Awaiting approval: True\n",
      "Published: True\n"
     ]
    }
   ],
   "source": [
    "updated_list = client.request_list_approval(example_list)\n",
    "\n",
    "print_status(updated_list)"
   ]
  },
  {
   "cell_type": "markdown",
   "id": "a92b8dfc",
   "metadata": {},
   "source": [
    "Use the ``unpublish_list`` method to withdraw a record list."
   ]
  },
  {
   "cell_type": "code",
   "execution_count": 10,
   "id": "fead9906",
   "metadata": {
    "execution": {
     "iopub.execute_input": "2024-05-06T12:39:23.870160Z",
     "iopub.status.busy": "2024-05-06T12:39:23.869781Z",
     "iopub.status.idle": "2024-05-06T12:39:23.927341Z",
     "shell.execute_reply": "2024-05-06T12:39:23.926758Z"
    },
    "tags": []
   },
   "outputs": [
    {
     "name": "stdout",
     "output_type": "stream",
     "text": [
      "Awaiting approval: False\n",
      "Published: False\n"
     ]
    }
   ],
   "source": [
    "updated_list = client.unpublish_list(example_list)\n",
    "\n",
    "print_status(updated_list)"
   ]
  },
  {
   "cell_type": "code",
   "execution_count": 11,
   "id": "3c70f10c",
   "metadata": {
    "execution": {
     "iopub.execute_input": "2024-05-06T12:39:23.929689Z",
     "iopub.status.busy": "2024-05-06T12:39:23.929300Z",
     "iopub.status.idle": "2024-05-06T12:39:23.979509Z",
     "shell.execute_reply": "2024-05-06T12:39:23.978972Z"
    },
    "nbsphinx": "hidden"
   },
   "outputs": [],
   "source": [
    "client.delete_list(example_list)"
   ]
  }
 ],
 "metadata": {
  "jupytext": {
   "formats": "ipynb,py:light"
  },
  "kernelspec": {
   "display_name": "Python 3 (ipykernel)",
   "language": "python",
   "name": "python3"
  },
  "language_info": {
   "codemirror_mode": {
    "name": "ipython",
    "version": 3
   },
   "file_extension": ".py",
   "mimetype": "text/x-python",
   "name": "python",
   "nbconvert_exporter": "python",
   "pygments_lexer": "ipython3",
   "version": "3.10.14"
  }
 },
 "nbformat": 4,
 "nbformat_minor": 5
}
