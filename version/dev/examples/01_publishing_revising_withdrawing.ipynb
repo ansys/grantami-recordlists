{
 "cells": [
  {
   "cell_type": "markdown",
   "id": "b4a88a0b",
   "metadata": {},
   "source": [
    "# Publishing, revising, and withdrawing record lists\n",
    "This example shows how to connect to Granta MI and perform advanced operations on record lists,\n",
    "such as publishing, withdrawing, and revising a list. For more information about the concepts\n",
    "discussed here, see the Help in the Granta MI Favorites app."
   ]
  },
  {
   "cell_type": "markdown",
   "id": "eb3de881",
   "metadata": {},
   "source": [
    ".. note:: Running this notebook requires permissions to request publication of, to publish, and to\n",
    "revise a record list. Contact your Granta MI administrator for more information."
   ]
  },
  {
   "cell_type": "markdown",
   "id": "fe07edb1",
   "metadata": {},
   "source": [
    "## Connect to Granta MI and create a record list"
   ]
  },
  {
   "cell_type": "markdown",
   "id": "0f8d9b78",
   "metadata": {},
   "source": [
    "Import the ``Connection`` class and create the connection. See the\n",
    "[Getting started](00_basic_usage.ipynb) example for more details."
   ]
  },
  {
   "cell_type": "code",
   "execution_count": 1,
   "id": "fd2b0762",
   "metadata": {
    "execution": {
     "iopub.execute_input": "2025-10-27T12:37:32.632014Z",
     "iopub.status.busy": "2025-10-27T12:37:32.631758Z",
     "iopub.status.idle": "2025-10-27T12:37:33.105762Z",
     "shell.execute_reply": "2025-10-27T12:37:33.104754Z"
    },
    "tags": []
   },
   "outputs": [],
   "source": [
    "from ansys.grantami.recordlists import Connection\n",
    "\n",
    "connection = Connection(\"http://my_grantami_server/mi_servicelayer\").with_autologon()\n",
    "client = connection.connect()"
   ]
  },
  {
   "cell_type": "markdown",
   "id": "961d16da",
   "metadata": {},
   "source": [
    "Create a record list for use in this example."
   ]
  },
  {
   "cell_type": "code",
   "execution_count": 2,
   "id": "38aca856",
   "metadata": {
    "execution": {
     "iopub.execute_input": "2025-10-27T12:37:33.107704Z",
     "iopub.status.busy": "2025-10-27T12:37:33.107506Z",
     "iopub.status.idle": "2025-10-27T12:37:33.210133Z",
     "shell.execute_reply": "2025-10-27T12:37:33.209319Z"
    },
    "tags": []
   },
   "outputs": [
    {
     "data": {
      "text/plain": [
       "<RecordList name: Example list>"
      ]
     },
     "execution_count": 2,
     "metadata": {},
     "output_type": "execute_result"
    }
   ],
   "source": [
    "example_list = client.create_list(\n",
    "    name=\"Example list\",\n",
    "    description=f\"Created by example 01_Advanced_usage\",\n",
    ")\n",
    "example_list"
   ]
  },
  {
   "cell_type": "markdown",
   "id": "bd9d7244",
   "metadata": {
    "lines_to_next_cell": 2
   },
   "source": [
    "Record lists include two properties describing two aspects of their status: whether they are\n",
    "awaiting approval to be published, and whether they are currently published.\n",
    "Define a function to display the status properties."
   ]
  },
  {
   "cell_type": "code",
   "execution_count": 3,
   "id": "e52c00c0",
   "metadata": {
    "execution": {
     "iopub.execute_input": "2025-10-27T12:37:33.212210Z",
     "iopub.status.busy": "2025-10-27T12:37:33.212022Z",
     "iopub.status.idle": "2025-10-27T12:37:33.216057Z",
     "shell.execute_reply": "2025-10-27T12:37:33.215080Z"
    },
    "tags": []
   },
   "outputs": [
    {
     "name": "stdout",
     "output_type": "stream",
     "text": [
      "Awaiting approval: False\n",
      "Published: False\n"
     ]
    }
   ],
   "source": [
    "def print_status(record_list):\n",
    "    print(f\"Awaiting approval: {record_list.awaiting_approval}\")\n",
    "    print(f\"Published: {record_list.published}\")\n",
    "\n",
    "\n",
    "print_status(example_list)"
   ]
  },
  {
   "cell_type": "markdown",
   "id": "0ad6a3cb",
   "metadata": {},
   "source": [
    "## Publish a record list"
   ]
  },
  {
   "cell_type": "markdown",
   "id": "762e9a5b",
   "metadata": {},
   "source": [
    "A record list is proposed for publication by calling the ``request_list_approval`` method with the\n",
    "record list to be published."
   ]
  },
  {
   "cell_type": "code",
   "execution_count": 4,
   "id": "32a8a126",
   "metadata": {
    "execution": {
     "iopub.execute_input": "2025-10-27T12:37:33.217607Z",
     "iopub.status.busy": "2025-10-27T12:37:33.217443Z",
     "iopub.status.idle": "2025-10-27T12:37:33.389214Z",
     "shell.execute_reply": "2025-10-27T12:37:33.388305Z"
    },
    "tags": []
   },
   "outputs": [
    {
     "name": "stdout",
     "output_type": "stream",
     "text": [
      "Awaiting approval: True\n",
      "Published: False\n"
     ]
    }
   ],
   "source": [
    "updated_list = client.request_list_approval(example_list)\n",
    "\n",
    "print_status(updated_list)"
   ]
  },
  {
   "cell_type": "markdown",
   "id": "636e43e5",
   "metadata": {},
   "source": [
    "Publish the record list by using the ``publish_list`` method."
   ]
  },
  {
   "cell_type": "code",
   "execution_count": 5,
   "id": "787961f8",
   "metadata": {
    "execution": {
     "iopub.execute_input": "2025-10-27T12:37:33.391138Z",
     "iopub.status.busy": "2025-10-27T12:37:33.390944Z",
     "iopub.status.idle": "2025-10-27T12:37:33.569080Z",
     "shell.execute_reply": "2025-10-27T12:37:33.568183Z"
    },
    "tags": []
   },
   "outputs": [
    {
     "name": "stdout",
     "output_type": "stream",
     "text": [
      "Awaiting approval: False\n",
      "Published: True\n"
     ]
    }
   ],
   "source": [
    "updated_list = client.publish_list(example_list)\n",
    "\n",
    "print_status(updated_list)"
   ]
  },
  {
   "cell_type": "markdown",
   "id": "f23865df",
   "metadata": {},
   "source": [
    "## Revise a record list"
   ]
  },
  {
   "cell_type": "markdown",
   "id": "9c5fc9f1",
   "metadata": {},
   "source": [
    "A published record list cannot be modified directly. Instead, first create a revision of the\n",
    "published record list using the ``revise_list`` method. This creates an editable copy of the\n",
    "original record list (a list revision), and leaves the original record list unchanged."
   ]
  },
  {
   "cell_type": "code",
   "execution_count": 6,
   "id": "8784d95a",
   "metadata": {
    "execution": {
     "iopub.execute_input": "2025-10-27T12:37:33.571302Z",
     "iopub.status.busy": "2025-10-27T12:37:33.571140Z",
     "iopub.status.idle": "2025-10-27T12:37:33.754527Z",
     "shell.execute_reply": "2025-10-27T12:37:33.753672Z"
    },
    "tags": []
   },
   "outputs": [
    {
     "name": "stdout",
     "output_type": "stream",
     "text": [
      "Awaiting approval: False\n",
      "Published: False\n"
     ]
    }
   ],
   "source": [
    "revision_list = client.revise_list(example_list)\n",
    "\n",
    "print_status(revision_list)"
   ]
  },
  {
   "cell_type": "markdown",
   "id": "e8ddd323",
   "metadata": {},
   "source": [
    "The record list revision includes a property tracking the parent record list:"
   ]
  },
  {
   "cell_type": "code",
   "execution_count": 7,
   "id": "d46f19bf",
   "metadata": {
    "execution": {
     "iopub.execute_input": "2025-10-27T12:37:33.756224Z",
     "iopub.status.busy": "2025-10-27T12:37:33.756042Z",
     "iopub.status.idle": "2025-10-27T12:37:33.759240Z",
     "shell.execute_reply": "2025-10-27T12:37:33.758455Z"
    },
    "tags": []
   },
   "outputs": [
    {
     "name": "stdout",
     "output_type": "stream",
     "text": [
      "Is revision: True\n",
      "Parent identifier: 8db091d0-a35e-4c47-90d0-09edfa88f019\n"
     ]
    }
   ],
   "source": [
    "print(f\"Is revision: {revision_list.is_revision}\")\n",
    "print(f\"Parent identifier: {revision_list.parent_record_list_identifier}\")"
   ]
  },
  {
   "cell_type": "markdown",
   "id": "c0c4ff27",
   "metadata": {},
   "source": [
    "Modifications made to the list revision are applied to the original list when the list revision\n",
    "is published. Once the original list is updated, the list revision is deleted and is no longer\n",
    "available."
   ]
  },
  {
   "cell_type": "code",
   "execution_count": 8,
   "id": "398c2de8",
   "metadata": {
    "execution": {
     "iopub.execute_input": "2025-10-27T12:37:33.760745Z",
     "iopub.status.busy": "2025-10-27T12:37:33.760572Z",
     "iopub.status.idle": "2025-10-27T12:37:34.280434Z",
     "shell.execute_reply": "2025-10-27T12:37:34.279570Z"
    },
    "tags": []
   },
   "outputs": [
    {
     "name": "stdout",
     "output_type": "stream",
     "text": [
      "Notes: None\n",
      "Is published: True\n"
     ]
    }
   ],
   "source": [
    "updated_revision_list = client.update_list(revision_list, notes=\"Added during revision process\")\n",
    "updated_revision_list = client.request_list_approval(updated_revision_list)\n",
    "updated_original_list = client.publish_list(updated_revision_list)\n",
    "\n",
    "# When publishing a revision list, the returned object is the updated parent list.\n",
    "# Check the notes of the list to confirm the revisions were made successfully.\n",
    "print(f\"Notes: {updated_original_list.notes}\")\n",
    "print(f\"Is published: {updated_original_list.published}\")"
   ]
  },
  {
   "cell_type": "markdown",
   "id": "5f18b01b",
   "metadata": {},
   "source": [
    "## Withdraw a record list\n",
    "When a record list is in the published state, calling ``request_list_approval`` requests the\n",
    "withdrawal of that list."
   ]
  },
  {
   "cell_type": "code",
   "execution_count": 9,
   "id": "556e1754",
   "metadata": {
    "execution": {
     "iopub.execute_input": "2025-10-27T12:37:34.282211Z",
     "iopub.status.busy": "2025-10-27T12:37:34.282040Z",
     "iopub.status.idle": "2025-10-27T12:37:34.452758Z",
     "shell.execute_reply": "2025-10-27T12:37:34.451905Z"
    },
    "tags": []
   },
   "outputs": [
    {
     "name": "stdout",
     "output_type": "stream",
     "text": [
      "Awaiting approval: True\n",
      "Published: True\n"
     ]
    }
   ],
   "source": [
    "updated_list = client.request_list_approval(example_list)\n",
    "\n",
    "print_status(updated_list)"
   ]
  },
  {
   "cell_type": "markdown",
   "id": "a1e713f4",
   "metadata": {},
   "source": [
    "Use the ``unpublish_list`` method to withdraw a record list."
   ]
  },
  {
   "cell_type": "code",
   "execution_count": 10,
   "id": "00784b15",
   "metadata": {
    "execution": {
     "iopub.execute_input": "2025-10-27T12:37:34.454639Z",
     "iopub.status.busy": "2025-10-27T12:37:34.454452Z",
     "iopub.status.idle": "2025-10-27T12:37:34.658408Z",
     "shell.execute_reply": "2025-10-27T12:37:34.657474Z"
    },
    "tags": []
   },
   "outputs": [
    {
     "name": "stdout",
     "output_type": "stream",
     "text": [
      "Awaiting approval: False\n",
      "Published: False\n"
     ]
    }
   ],
   "source": [
    "updated_list = client.unpublish_list(example_list)\n",
    "\n",
    "print_status(updated_list)"
   ]
  },
  {
   "cell_type": "code",
   "execution_count": 11,
   "id": "14a4838b",
   "metadata": {
    "execution": {
     "iopub.execute_input": "2025-10-27T12:37:34.660053Z",
     "iopub.status.busy": "2025-10-27T12:37:34.659871Z",
     "iopub.status.idle": "2025-10-27T12:37:34.791153Z",
     "shell.execute_reply": "2025-10-27T12:37:34.790257Z"
    },
    "nbsphinx": "hidden"
   },
   "outputs": [],
   "source": [
    "client.delete_list(example_list)"
   ]
  }
 ],
 "metadata": {
  "jupytext": {
   "formats": "ipynb,py:light"
  },
  "kernelspec": {
   "display_name": "Python 3 (ipykernel)",
   "language": "python",
   "name": "python3"
  },
  "language_info": {
   "codemirror_mode": {
    "name": "ipython",
    "version": 3
   },
   "file_extension": ".py",
   "mimetype": "text/x-python",
   "name": "python",
   "nbconvert_exporter": "python",
   "pygments_lexer": "ipython3",
   "version": "3.11.13"
  }
 },
 "nbformat": 4,
 "nbformat_minor": 5
}
