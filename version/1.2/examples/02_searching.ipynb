{
 "cells": [
  {
   "cell_type": "markdown",
   "id": "817a8269",
   "metadata": {},
   "source": [
    "# Searching\n",
    "This notebook demonstrates how to search for record lists using ``SearchCriterion`` and\n",
    "``BooleanCriterion``."
   ]
  },
  {
   "cell_type": "markdown",
   "id": "3412895a",
   "metadata": {},
   "source": [
    ".. note:: Running this notebook requires permissions to request publication of, to publish, and to\n",
    "revise a record list. Contact your Granta MI administrator for more information."
   ]
  },
  {
   "cell_type": "markdown",
   "id": "e6c1f86f",
   "metadata": {},
   "source": [
    "## Connect to Granta MI and create a record list"
   ]
  },
  {
   "cell_type": "markdown",
   "id": "6c0ba161",
   "metadata": {},
   "source": [
    "Import the ``Connection`` class and create the connection. See the\n",
    "[Getting started](00_basic_usage.ipynb) example for more details."
   ]
  },
  {
   "cell_type": "code",
   "execution_count": 1,
   "id": "11d0ba13",
   "metadata": {
    "execution": {
     "iopub.execute_input": "2024-05-02T16:35:42.323276Z",
     "iopub.status.busy": "2024-05-02T16:35:42.323088Z",
     "iopub.status.idle": "2024-05-02T16:35:45.316537Z",
     "shell.execute_reply": "2024-05-02T16:35:45.315915Z"
    },
    "tags": []
   },
   "outputs": [],
   "source": [
    "from ansys.grantami.recordlists import (\n",
    "    BooleanCriterion,\n",
    "    Connection,\n",
    "    RecordListItem,\n",
    "    SearchCriterion,\n",
    "    UserRole,\n",
    ")\n",
    "\n",
    "connection = Connection(\"http://my_grantami_server/mi_servicelayer\").with_autologon()\n",
    "client = connection.connect()"
   ]
  },
  {
   "cell_type": "markdown",
   "id": "781f567a",
   "metadata": {},
   "source": [
    "Create some record lists for use in this example:\n",
    "\n",
    "* ``identifier_a``: Published, empty\n",
    "* ``identifier_b``: Published, populated\n",
    "* ``identifier_c``: Revision of ``identifier_b``\n",
    "* ``identifier_d``: Unpublished\n",
    "\n",
    "See the\n",
    "[Publishing, revising, and withdrawing record lists](01_publishing_revising_withdrawing.ipynb)\n",
    "example for more details."
   ]
  },
  {
   "cell_type": "code",
   "execution_count": 2,
   "id": "1a41f3cb",
   "metadata": {
    "execution": {
     "iopub.execute_input": "2024-05-02T16:35:45.319537Z",
     "iopub.status.busy": "2024-05-02T16:35:45.319063Z",
     "iopub.status.idle": "2024-05-02T16:35:46.044824Z",
     "shell.execute_reply": "2024-05-02T16:35:46.044206Z"
    },
    "tags": []
   },
   "outputs": [],
   "source": [
    "list_a = client.create_list(name=\"Approved materials - Metals\")\n",
    "list_a = client.request_list_approval(list_a)\n",
    "list_a = client.publish_list(list_a)\n",
    "\n",
    "list_b = client.create_list(name=\"Approved materials - Ceramics\")\n",
    "client.add_items_to_list(\n",
    "    list_b,\n",
    "    items=[\n",
    "        RecordListItem(\n",
    "            \"9716c5a3-da85-4126-a922-3fbb854656d8\",\n",
    "            \"d352fd12-c342-41c1-9da7-dac0dac1c6d9\",\n",
    "            \"c61e8f3a-d7e1-4b7f-8232-b2495eae6c15\",\n",
    "        )\n",
    "    ],\n",
    ")\n",
    "list_b = client.request_list_approval(list_b)\n",
    "list_b = client.publish_list(list_b)\n",
    "\n",
    "list_c = client.revise_list(list_b)\n",
    "list_d = client.create_list(name=\"My personal list\")"
   ]
  },
  {
   "cell_type": "markdown",
   "id": "4cfa04bb",
   "metadata": {},
   "source": [
    "## Search for a record list by name"
   ]
  },
  {
   "cell_type": "markdown",
   "id": "037574b1",
   "metadata": {},
   "source": [
    "Use the `name_contains` keyword argument for the ``SearchCriterion`` constructor to specify\n",
    "a search criterion based on the record list name."
   ]
  },
  {
   "cell_type": "code",
   "execution_count": 3,
   "id": "6b02aa83",
   "metadata": {
    "execution": {
     "iopub.execute_input": "2024-05-02T16:35:46.047483Z",
     "iopub.status.busy": "2024-05-02T16:35:46.047285Z",
     "iopub.status.idle": "2024-05-02T16:35:46.194330Z",
     "shell.execute_reply": "2024-05-02T16:35:46.193696Z"
    },
    "tags": []
   },
   "outputs": [
    {
     "data": {
      "text/plain": [
       "[<SearchResult name: Approved materials - Ceramics>,\n",
       " <SearchResult name: Approved materials - Ceramics>]"
      ]
     },
     "execution_count": 3,
     "metadata": {},
     "output_type": "execute_result"
    }
   ],
   "source": [
    "results = client.search_for_lists(SearchCriterion(name_contains=\"Approved materials - Ceramics\"))\n",
    "results"
   ]
  },
  {
   "cell_type": "markdown",
   "id": "3145520f",
   "metadata": {},
   "source": [
    "## Search for 'personal' record lists\n",
    "A 'personal' record list is a list that the current user has created for their own use. It is\n",
    "owned by the current user, is not published, is not awaiting approval, and is not a revision of\n",
    "another list. Lists are generally in this state if they are created in the Favorites or Explore\n",
    "apps and are not submitted for publication."
   ]
  },
  {
   "cell_type": "markdown",
   "id": "fe75fd53",
   "metadata": {},
   "source": [
    "To search for a list of this type, use the ``SearchCriterion`` below. Set\n",
    "``is_internal_use=False`` to exclude transient record lists created by Granta MI for\n",
    "internal use only, which would otherwise be returned by this search."
   ]
  },
  {
   "cell_type": "code",
   "execution_count": 4,
   "id": "a43783cc",
   "metadata": {
    "execution": {
     "iopub.execute_input": "2024-05-02T16:35:46.196835Z",
     "iopub.status.busy": "2024-05-02T16:35:46.196638Z",
     "iopub.status.idle": "2024-05-02T16:35:46.338895Z",
     "shell.execute_reply": "2024-05-02T16:35:46.338227Z"
    },
    "tags": []
   },
   "outputs": [
    {
     "data": {
      "text/plain": [
       "[<SearchResult name: IntegrationTestList_19a0adca-179e-4b52-a0eb-52bd853d87d4>,\n",
       " <SearchResult name: IntegrationTestList_6bfe2a72-1baa-4adc-94f7-9ec5f110a6d0>,\n",
       " <SearchResult name: IntegrationTestList_6f35d35c-ee80-44e9-b100-c35606b8f4bc>,\n",
       " <SearchResult name: IntegrationTestList_ef8fb6be-49c9-4e85-9ecb-c2f0dd3de499>,\n",
       " <SearchResult name: My personal list>]"
      ]
     },
     "execution_count": 4,
     "metadata": {},
     "output_type": "execute_result"
    }
   ],
   "source": [
    "criterion = SearchCriterion(\n",
    "    is_published=False,\n",
    "    is_revision=False,\n",
    "    is_awaiting_approval=False,\n",
    "    is_internal_use=False,\n",
    "    user_role=UserRole.OWNER,\n",
    ")\n",
    "results = client.search_for_lists(criterion)\n",
    "results"
   ]
  },
  {
   "cell_type": "markdown",
   "id": "f7516273",
   "metadata": {},
   "source": [
    "## Search for a record list by contents\n",
    "Search for record lists that contain a specific record with the ``contains_records`` keyword.\n",
    "Specifying ``include_items=True`` when calling ``search_for_lists`` will populate ``items`` on\n",
    "the results."
   ]
  },
  {
   "cell_type": "code",
   "execution_count": 5,
   "id": "6d0d127b",
   "metadata": {
    "execution": {
     "iopub.execute_input": "2024-05-02T16:35:46.341556Z",
     "iopub.status.busy": "2024-05-02T16:35:46.341092Z",
     "iopub.status.idle": "2024-05-02T16:35:46.486385Z",
     "shell.execute_reply": "2024-05-02T16:35:46.485813Z"
    },
    "tags": []
   },
   "outputs": [
    {
     "data": {
      "text/plain": [
       "[<SearchResult name: Approved materials - Ceramics>,\n",
       " <SearchResult name: Approved materials - Ceramics>]"
      ]
     },
     "execution_count": 5,
     "metadata": {},
     "output_type": "execute_result"
    }
   ],
   "source": [
    "criterion = SearchCriterion(contains_records=[\"c61e8f3a-d7e1-4b7f-8232-b2495eae6c15\"])\n",
    "results = client.search_for_lists(criterion, include_items=True)\n",
    "results"
   ]
  },
  {
   "cell_type": "code",
   "execution_count": 6,
   "id": "5bd48577",
   "metadata": {
    "execution": {
     "iopub.execute_input": "2024-05-02T16:35:46.488775Z",
     "iopub.status.busy": "2024-05-02T16:35:46.488385Z",
     "iopub.status.idle": "2024-05-02T16:35:46.492339Z",
     "shell.execute_reply": "2024-05-02T16:35:46.491753Z"
    },
    "lines_to_next_cell": 2,
    "tags": []
   },
   "outputs": [
    {
     "data": {
      "text/plain": [
       "[<RecordListItem(database_guid='9716c5a3-da85-4126-a922-3fbb854656d8', record_history_guid='c61e8f3a-d7e1-4b7f-8232-b2495eae6c15')>]"
      ]
     },
     "execution_count": 6,
     "metadata": {},
     "output_type": "execute_result"
    }
   ],
   "source": [
    "results[0].items"
   ]
  },
  {
   "cell_type": "markdown",
   "id": "a4a0e9a4",
   "metadata": {},
   "source": [
    "## Search using a complex criterion\n",
    "Build complex queries with ``BooleanCriterion``. For example, search for published record lists\n",
    "following the naming convention \"Approved materials - {Material family}\", but specifically only\n",
    "metals and ceramics."
   ]
  },
  {
   "cell_type": "code",
   "execution_count": 7,
   "id": "bb7f9a9d",
   "metadata": {
    "execution": {
     "iopub.execute_input": "2024-05-02T16:35:46.494823Z",
     "iopub.status.busy": "2024-05-02T16:35:46.494461Z",
     "iopub.status.idle": "2024-05-02T16:35:46.645558Z",
     "shell.execute_reply": "2024-05-02T16:35:46.644930Z"
    },
    "tags": []
   },
   "outputs": [
    {
     "data": {
      "text/plain": [
       "[<SearchResult name: Approved materials - Ceramics>,\n",
       " <SearchResult name: Approved materials - Metals>]"
      ]
     },
     "execution_count": 7,
     "metadata": {},
     "output_type": "execute_result"
    }
   ],
   "source": [
    "criterion = BooleanCriterion(\n",
    "    match_all=[\n",
    "        SearchCriterion(\n",
    "            name_contains=\"Approved materials\",\n",
    "            is_published=True,\n",
    "        ),\n",
    "        BooleanCriterion(\n",
    "            match_any=[\n",
    "                SearchCriterion(\n",
    "                    name_contains=\"Metals\",\n",
    "                ),\n",
    "                SearchCriterion(\n",
    "                    name_contains=\"Ceramics\",\n",
    "                ),\n",
    "            ]\n",
    "        ),\n",
    "    ]\n",
    ")\n",
    "results = client.search_for_lists(criterion)\n",
    "results"
   ]
  },
  {
   "cell_type": "code",
   "execution_count": 8,
   "id": "a0550021",
   "metadata": {
    "execution": {
     "iopub.execute_input": "2024-05-02T16:35:46.648000Z",
     "iopub.status.busy": "2024-05-02T16:35:46.647632Z",
     "iopub.status.idle": "2024-05-02T16:35:46.964773Z",
     "shell.execute_reply": "2024-05-02T16:35:46.964137Z"
    },
    "nbsphinx": "hidden"
   },
   "outputs": [],
   "source": [
    "client.delete_list(list_a)\n",
    "client.delete_list(list_b)\n",
    "client.delete_list(list_c)\n",
    "client.delete_list(list_d)"
   ]
  }
 ],
 "metadata": {
  "jupytext": {
   "formats": "ipynb,py:light"
  },
  "kernelspec": {
   "display_name": "Python 3 (ipykernel)",
   "language": "python",
   "name": "python3"
  },
  "language_info": {
   "codemirror_mode": {
    "name": "ipython",
    "version": 3
   },
   "file_extension": ".py",
   "mimetype": "text/x-python",
   "name": "python",
   "nbconvert_exporter": "python",
   "pygments_lexer": "ipython3",
   "version": "3.10.14"
  }
 },
 "nbformat": 4,
 "nbformat_minor": 5
}
