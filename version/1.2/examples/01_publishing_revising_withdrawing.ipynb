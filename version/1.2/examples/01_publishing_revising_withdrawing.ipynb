{
 "cells": [
  {
   "cell_type": "markdown",
   "id": "52e1b6ef",
   "metadata": {},
   "source": [
    "# Publishing, revising, and withdrawing record lists\n",
    "This example shows how to connect to Granta MI and perform advanced operations on record lists,\n",
    "such as publishing, withdrawing, and revising a list. For more information about the concepts\n",
    "discussed here, see the Help in the Granta MI Favorites app."
   ]
  },
  {
   "cell_type": "markdown",
   "id": "5fea6cab",
   "metadata": {},
   "source": [
    ".. note:: Running this notebook requires permissions to request publication of, to publish, and to\n",
    "revise a record list. Contact your Granta MI administrator for more information."
   ]
  },
  {
   "cell_type": "markdown",
   "id": "927d8ae6",
   "metadata": {},
   "source": [
    "## Connect to Granta MI and create a record list"
   ]
  },
  {
   "cell_type": "markdown",
   "id": "c0c0cff8",
   "metadata": {},
   "source": [
    "Import the ``Connection`` class and create the connection. See the\n",
    "[Getting started](00_basic_usage.ipynb) example for more details."
   ]
  },
  {
   "cell_type": "code",
   "execution_count": 1,
   "id": "081651a5",
   "metadata": {
    "execution": {
     "iopub.execute_input": "2024-05-07T12:58:58.277254Z",
     "iopub.status.busy": "2024-05-07T12:58:58.276767Z",
     "iopub.status.idle": "2024-05-07T12:59:00.548391Z",
     "shell.execute_reply": "2024-05-07T12:59:00.547736Z"
    },
    "tags": []
   },
   "outputs": [],
   "source": [
    "from ansys.grantami.recordlists import Connection\n",
    "\n",
    "connection = Connection(\"http://my_grantami_server/mi_servicelayer\").with_autologon()\n",
    "client = connection.connect()"
   ]
  },
  {
   "cell_type": "markdown",
   "id": "120b2c80",
   "metadata": {},
   "source": [
    "Create a record list for use in this example."
   ]
  },
  {
   "cell_type": "code",
   "execution_count": 2,
   "id": "b8211f36",
   "metadata": {
    "execution": {
     "iopub.execute_input": "2024-05-07T12:59:00.551205Z",
     "iopub.status.busy": "2024-05-07T12:59:00.550839Z",
     "iopub.status.idle": "2024-05-07T12:59:00.599633Z",
     "shell.execute_reply": "2024-05-07T12:59:00.599017Z"
    },
    "tags": []
   },
   "outputs": [
    {
     "data": {
      "text/plain": [
       "<RecordList name: Example list>"
      ]
     },
     "execution_count": 2,
     "metadata": {},
     "output_type": "execute_result"
    }
   ],
   "source": [
    "example_list = client.create_list(\n",
    "    name=\"Example list\",\n",
    "    description=f\"Created by example 01_Advanced_usage\",\n",
    ")\n",
    "example_list"
   ]
  },
  {
   "cell_type": "markdown",
   "id": "f048593f",
   "metadata": {
    "lines_to_next_cell": 2
   },
   "source": [
    "Record lists include two properties describing two aspects of their status: whether they are\n",
    "awaiting approval to be published, and whether they are currently published.\n",
    "Define a function to display the status properties."
   ]
  },
  {
   "cell_type": "code",
   "execution_count": 3,
   "id": "ec7cc3bc",
   "metadata": {
    "execution": {
     "iopub.execute_input": "2024-05-07T12:59:00.602141Z",
     "iopub.status.busy": "2024-05-07T12:59:00.601783Z",
     "iopub.status.idle": "2024-05-07T12:59:00.605761Z",
     "shell.execute_reply": "2024-05-07T12:59:00.605132Z"
    },
    "tags": []
   },
   "outputs": [
    {
     "name": "stdout",
     "output_type": "stream",
     "text": [
      "Awaiting approval: False\n",
      "Published: False\n"
     ]
    }
   ],
   "source": [
    "def print_status(record_list):\n",
    "    print(f\"Awaiting approval: {record_list.awaiting_approval}\")\n",
    "    print(f\"Published: {record_list.published}\")\n",
    "\n",
    "\n",
    "print_status(example_list)"
   ]
  },
  {
   "cell_type": "markdown",
   "id": "811f1f22",
   "metadata": {},
   "source": [
    "## Publish a record list"
   ]
  },
  {
   "cell_type": "markdown",
   "id": "2bd4657d",
   "metadata": {},
   "source": [
    "A record list is proposed for publication by calling the ``request_list_approval`` method with the\n",
    "record list to be published."
   ]
  },
  {
   "cell_type": "code",
   "execution_count": 4,
   "id": "24ad6a6f",
   "metadata": {
    "execution": {
     "iopub.execute_input": "2024-05-07T12:59:00.608118Z",
     "iopub.status.busy": "2024-05-07T12:59:00.607753Z",
     "iopub.status.idle": "2024-05-07T12:59:00.663206Z",
     "shell.execute_reply": "2024-05-07T12:59:00.662607Z"
    },
    "tags": []
   },
   "outputs": [
    {
     "name": "stdout",
     "output_type": "stream",
     "text": [
      "Awaiting approval: True\n",
      "Published: False\n"
     ]
    }
   ],
   "source": [
    "updated_list = client.request_list_approval(example_list)\n",
    "\n",
    "print_status(updated_list)"
   ]
  },
  {
   "cell_type": "markdown",
   "id": "29dc3c8e",
   "metadata": {},
   "source": [
    "Publish the record list by using the ``publish_list`` method."
   ]
  },
  {
   "cell_type": "code",
   "execution_count": 5,
   "id": "01131432",
   "metadata": {
    "execution": {
     "iopub.execute_input": "2024-05-07T12:59:00.665822Z",
     "iopub.status.busy": "2024-05-07T12:59:00.665372Z",
     "iopub.status.idle": "2024-05-07T12:59:00.726256Z",
     "shell.execute_reply": "2024-05-07T12:59:00.725758Z"
    },
    "tags": []
   },
   "outputs": [
    {
     "name": "stdout",
     "output_type": "stream",
     "text": [
      "Awaiting approval: False\n",
      "Published: True\n"
     ]
    }
   ],
   "source": [
    "updated_list = client.publish_list(example_list)\n",
    "\n",
    "print_status(updated_list)"
   ]
  },
  {
   "cell_type": "markdown",
   "id": "970e1d6f",
   "metadata": {},
   "source": [
    "## Revise a record list"
   ]
  },
  {
   "cell_type": "markdown",
   "id": "9fba725e",
   "metadata": {},
   "source": [
    "A published record list cannot be modified directly. Instead, first create a revision of the\n",
    "published record list using the ``revise_list`` method. This creates an editable copy of the\n",
    "original record list (a list revision), and leaves the original record list unchanged."
   ]
  },
  {
   "cell_type": "code",
   "execution_count": 6,
   "id": "a66c9038",
   "metadata": {
    "execution": {
     "iopub.execute_input": "2024-05-07T12:59:00.728586Z",
     "iopub.status.busy": "2024-05-07T12:59:00.728241Z",
     "iopub.status.idle": "2024-05-07T12:59:00.789928Z",
     "shell.execute_reply": "2024-05-07T12:59:00.789299Z"
    },
    "tags": []
   },
   "outputs": [
    {
     "name": "stdout",
     "output_type": "stream",
     "text": [
      "Awaiting approval: False\n",
      "Published: False\n"
     ]
    }
   ],
   "source": [
    "revision_list = client.revise_list(example_list)\n",
    "\n",
    "print_status(revision_list)"
   ]
  },
  {
   "cell_type": "markdown",
   "id": "cbe09e4c",
   "metadata": {},
   "source": [
    "The record list revision includes a property tracking the parent record list:"
   ]
  },
  {
   "cell_type": "code",
   "execution_count": 7,
   "id": "c760a7ce",
   "metadata": {
    "execution": {
     "iopub.execute_input": "2024-05-07T12:59:00.792217Z",
     "iopub.status.busy": "2024-05-07T12:59:00.792003Z",
     "iopub.status.idle": "2024-05-07T12:59:00.795182Z",
     "shell.execute_reply": "2024-05-07T12:59:00.794569Z"
    },
    "tags": []
   },
   "outputs": [
    {
     "name": "stdout",
     "output_type": "stream",
     "text": [
      "Is revision: True\n",
      "Parent identifier: 58901a1f-f1e5-41e0-a122-dbf964fc785b\n"
     ]
    }
   ],
   "source": [
    "print(f\"Is revision: {revision_list.is_revision}\")\n",
    "print(f\"Parent identifier: {revision_list.parent_record_list_identifier}\")"
   ]
  },
  {
   "cell_type": "markdown",
   "id": "4ecb5799",
   "metadata": {},
   "source": [
    "Modifications made to the list revision are applied to the original list when the list revision\n",
    "is published. Once the original list is updated, the list revision is deleted and is no longer\n",
    "available."
   ]
  },
  {
   "cell_type": "code",
   "execution_count": 8,
   "id": "8f73e7b5",
   "metadata": {
    "execution": {
     "iopub.execute_input": "2024-05-07T12:59:00.797641Z",
     "iopub.status.busy": "2024-05-07T12:59:00.797286Z",
     "iopub.status.idle": "2024-05-07T12:59:00.979648Z",
     "shell.execute_reply": "2024-05-07T12:59:00.979072Z"
    },
    "tags": []
   },
   "outputs": [
    {
     "name": "stdout",
     "output_type": "stream",
     "text": [
      "Notes: None\n",
      "Is published: True\n"
     ]
    }
   ],
   "source": [
    "updated_revision_list = client.update_list(revision_list, notes=\"Added during revision process\")\n",
    "updated_revision_list = client.request_list_approval(updated_revision_list)\n",
    "updated_original_list = client.publish_list(updated_revision_list)\n",
    "\n",
    "# When publishing a revision list, the returned object is the updated parent list.\n",
    "# Check the notes of the list to confirm the revisions were made successfully.\n",
    "print(f\"Notes: {updated_original_list.notes}\")\n",
    "print(f\"Is published: {updated_original_list.published}\")"
   ]
  },
  {
   "cell_type": "markdown",
   "id": "8f9a7680",
   "metadata": {},
   "source": [
    "## Withdraw a record list\n",
    "When a record list is in the published state, calling ``request_list_approval`` requests the\n",
    "withdrawal of that list."
   ]
  },
  {
   "cell_type": "code",
   "execution_count": 9,
   "id": "c9ede27d",
   "metadata": {
    "execution": {
     "iopub.execute_input": "2024-05-07T12:59:00.982008Z",
     "iopub.status.busy": "2024-05-07T12:59:00.981656Z",
     "iopub.status.idle": "2024-05-07T12:59:01.039935Z",
     "shell.execute_reply": "2024-05-07T12:59:01.039372Z"
    },
    "tags": []
   },
   "outputs": [
    {
     "name": "stdout",
     "output_type": "stream",
     "text": [
      "Awaiting approval: True\n",
      "Published: True\n"
     ]
    }
   ],
   "source": [
    "updated_list = client.request_list_approval(example_list)\n",
    "\n",
    "print_status(updated_list)"
   ]
  },
  {
   "cell_type": "markdown",
   "id": "a4591b84",
   "metadata": {},
   "source": [
    "Use the ``unpublish_list`` method to withdraw a record list."
   ]
  },
  {
   "cell_type": "code",
   "execution_count": 10,
   "id": "fb149f29",
   "metadata": {
    "execution": {
     "iopub.execute_input": "2024-05-07T12:59:01.042253Z",
     "iopub.status.busy": "2024-05-07T12:59:01.041886Z",
     "iopub.status.idle": "2024-05-07T12:59:01.106317Z",
     "shell.execute_reply": "2024-05-07T12:59:01.105745Z"
    },
    "tags": []
   },
   "outputs": [
    {
     "name": "stdout",
     "output_type": "stream",
     "text": [
      "Awaiting approval: False\n",
      "Published: False\n"
     ]
    }
   ],
   "source": [
    "updated_list = client.unpublish_list(example_list)\n",
    "\n",
    "print_status(updated_list)"
   ]
  },
  {
   "cell_type": "code",
   "execution_count": 11,
   "id": "d22c1995",
   "metadata": {
    "execution": {
     "iopub.execute_input": "2024-05-07T12:59:01.108674Z",
     "iopub.status.busy": "2024-05-07T12:59:01.108332Z",
     "iopub.status.idle": "2024-05-07T12:59:01.161249Z",
     "shell.execute_reply": "2024-05-07T12:59:01.160635Z"
    },
    "nbsphinx": "hidden"
   },
   "outputs": [],
   "source": [
    "client.delete_list(example_list)"
   ]
  }
 ],
 "metadata": {
  "jupytext": {
   "formats": "ipynb,py:light"
  },
  "kernelspec": {
   "display_name": "Python 3 (ipykernel)",
   "language": "python",
   "name": "python3"
  },
  "language_info": {
   "codemirror_mode": {
    "name": "ipython",
    "version": 3
   },
   "file_extension": ".py",
   "mimetype": "text/x-python",
   "name": "python",
   "nbconvert_exporter": "python",
   "pygments_lexer": "ipython3",
   "version": "3.10.14"
  }
 },
 "nbformat": 4,
 "nbformat_minor": 5
}
