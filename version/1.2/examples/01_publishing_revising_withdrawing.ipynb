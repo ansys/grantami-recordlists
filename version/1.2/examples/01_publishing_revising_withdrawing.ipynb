{
 "cells": [
  {
   "cell_type": "markdown",
   "id": "98051794",
   "metadata": {},
   "source": [
    "# Publishing, revising, and withdrawing record lists\n",
    "This example shows how to connect to Granta MI and perform advanced operations on record lists,\n",
    "such as publishing, withdrawing, and revising a list. For more information about the concepts\n",
    "discussed here, see the Help in the Granta MI Favorites app."
   ]
  },
  {
   "cell_type": "markdown",
   "id": "cf1045eb",
   "metadata": {},
   "source": [
    ".. note:: Running this notebook requires permissions to request publication of, to publish, and to\n",
    "revise a record list. Contact your Granta MI administrator for more information."
   ]
  },
  {
   "cell_type": "markdown",
   "id": "9ab4cad0",
   "metadata": {},
   "source": [
    "## Connect to Granta MI and create a record list"
   ]
  },
  {
   "cell_type": "markdown",
   "id": "04605338",
   "metadata": {},
   "source": [
    "Import the ``Connection`` class and create the connection. See the\n",
    "[Getting started](00_basic_usage.ipynb) example for more details."
   ]
  },
  {
   "cell_type": "code",
   "execution_count": 1,
   "id": "cdab549c",
   "metadata": {
    "execution": {
     "iopub.execute_input": "2024-05-02T16:35:32.817372Z",
     "iopub.status.busy": "2024-05-02T16:35:32.817176Z",
     "iopub.status.idle": "2024-05-02T16:35:35.797716Z",
     "shell.execute_reply": "2024-05-02T16:35:35.797043Z"
    },
    "tags": []
   },
   "outputs": [],
   "source": [
    "from ansys.grantami.recordlists import Connection\n",
    "\n",
    "connection = Connection(\"http://my_grantami_server/mi_servicelayer\").with_autologon()\n",
    "client = connection.connect()"
   ]
  },
  {
   "cell_type": "markdown",
   "id": "03566925",
   "metadata": {},
   "source": [
    "Create a record list for use in this example."
   ]
  },
  {
   "cell_type": "code",
   "execution_count": 2,
   "id": "ae2de33d",
   "metadata": {
    "execution": {
     "iopub.execute_input": "2024-05-02T16:35:35.801049Z",
     "iopub.status.busy": "2024-05-02T16:35:35.800535Z",
     "iopub.status.idle": "2024-05-02T16:35:35.873003Z",
     "shell.execute_reply": "2024-05-02T16:35:35.872308Z"
    },
    "tags": []
   },
   "outputs": [
    {
     "data": {
      "text/plain": [
       "<RecordList name: Example list>"
      ]
     },
     "execution_count": 2,
     "metadata": {},
     "output_type": "execute_result"
    }
   ],
   "source": [
    "example_list = client.create_list(\n",
    "    name=\"Example list\",\n",
    "    description=f\"Created by example 01_Advanced_usage\",\n",
    ")\n",
    "example_list"
   ]
  },
  {
   "cell_type": "markdown",
   "id": "0b487679",
   "metadata": {
    "lines_to_next_cell": 2
   },
   "source": [
    "Record lists include two properties describing two aspects of their status: whether they are\n",
    "awaiting approval to be published, and whether they are currently published.\n",
    "Define a function to display the status properties."
   ]
  },
  {
   "cell_type": "code",
   "execution_count": 3,
   "id": "7b5b857f",
   "metadata": {
    "execution": {
     "iopub.execute_input": "2024-05-02T16:35:35.875907Z",
     "iopub.status.busy": "2024-05-02T16:35:35.875462Z",
     "iopub.status.idle": "2024-05-02T16:35:35.879798Z",
     "shell.execute_reply": "2024-05-02T16:35:35.879165Z"
    },
    "tags": []
   },
   "outputs": [
    {
     "name": "stdout",
     "output_type": "stream",
     "text": [
      "Awaiting approval: False\n",
      "Published: False\n"
     ]
    }
   ],
   "source": [
    "def print_status(record_list):\n",
    "    print(f\"Awaiting approval: {record_list.awaiting_approval}\")\n",
    "    print(f\"Published: {record_list.published}\")\n",
    "\n",
    "\n",
    "print_status(example_list)"
   ]
  },
  {
   "cell_type": "markdown",
   "id": "d78b3f8e",
   "metadata": {},
   "source": [
    "## Publish a record list"
   ]
  },
  {
   "cell_type": "markdown",
   "id": "313292b8",
   "metadata": {},
   "source": [
    "A record list is proposed for publication by calling the ``request_list_approval`` method with the\n",
    "record list to be published."
   ]
  },
  {
   "cell_type": "code",
   "execution_count": 4,
   "id": "a3a5e836",
   "metadata": {
    "execution": {
     "iopub.execute_input": "2024-05-02T16:35:35.882273Z",
     "iopub.status.busy": "2024-05-02T16:35:35.882065Z",
     "iopub.status.idle": "2024-05-02T16:35:35.964740Z",
     "shell.execute_reply": "2024-05-02T16:35:35.964166Z"
    },
    "tags": []
   },
   "outputs": [
    {
     "name": "stdout",
     "output_type": "stream",
     "text": [
      "Awaiting approval: True\n",
      "Published: False\n"
     ]
    }
   ],
   "source": [
    "updated_list = client.request_list_approval(example_list)\n",
    "\n",
    "print_status(updated_list)"
   ]
  },
  {
   "cell_type": "markdown",
   "id": "0b298706",
   "metadata": {},
   "source": [
    "Publish the record list by using the ``publish_list`` method."
   ]
  },
  {
   "cell_type": "code",
   "execution_count": 5,
   "id": "cb5bbb25",
   "metadata": {
    "execution": {
     "iopub.execute_input": "2024-05-02T16:35:35.967068Z",
     "iopub.status.busy": "2024-05-02T16:35:35.966870Z",
     "iopub.status.idle": "2024-05-02T16:35:36.057690Z",
     "shell.execute_reply": "2024-05-02T16:35:36.057119Z"
    },
    "tags": []
   },
   "outputs": [
    {
     "name": "stdout",
     "output_type": "stream",
     "text": [
      "Awaiting approval: False\n",
      "Published: True\n"
     ]
    }
   ],
   "source": [
    "updated_list = client.publish_list(example_list)\n",
    "\n",
    "print_status(updated_list)"
   ]
  },
  {
   "cell_type": "markdown",
   "id": "29d247ce",
   "metadata": {},
   "source": [
    "## Revise a record list"
   ]
  },
  {
   "cell_type": "markdown",
   "id": "a16e9a72",
   "metadata": {},
   "source": [
    "A published record list cannot be modified directly. Instead, first create a revision of the\n",
    "published record list using the ``revise_list`` method. This creates an editable copy of the\n",
    "original record list (a list revision), and leaves the original record list unchanged."
   ]
  },
  {
   "cell_type": "code",
   "execution_count": 6,
   "id": "3399e3a3",
   "metadata": {
    "execution": {
     "iopub.execute_input": "2024-05-02T16:35:36.060065Z",
     "iopub.status.busy": "2024-05-02T16:35:36.059871Z",
     "iopub.status.idle": "2024-05-02T16:35:36.144545Z",
     "shell.execute_reply": "2024-05-02T16:35:36.143972Z"
    },
    "tags": []
   },
   "outputs": [
    {
     "name": "stdout",
     "output_type": "stream",
     "text": [
      "Awaiting approval: False\n",
      "Published: False\n"
     ]
    }
   ],
   "source": [
    "revision_list = client.revise_list(example_list)\n",
    "\n",
    "print_status(revision_list)"
   ]
  },
  {
   "cell_type": "markdown",
   "id": "c4b99681",
   "metadata": {},
   "source": [
    "The record list revision includes a property tracking the parent record list:"
   ]
  },
  {
   "cell_type": "code",
   "execution_count": 7,
   "id": "9a19ac87",
   "metadata": {
    "execution": {
     "iopub.execute_input": "2024-05-02T16:35:36.147095Z",
     "iopub.status.busy": "2024-05-02T16:35:36.146737Z",
     "iopub.status.idle": "2024-05-02T16:35:36.150412Z",
     "shell.execute_reply": "2024-05-02T16:35:36.149767Z"
    },
    "tags": []
   },
   "outputs": [
    {
     "name": "stdout",
     "output_type": "stream",
     "text": [
      "Is revision: True\n",
      "Parent identifier: ff0ff8b5-3f97-4cbf-ad4a-ff85551c7a89\n"
     ]
    }
   ],
   "source": [
    "print(f\"Is revision: {revision_list.is_revision}\")\n",
    "print(f\"Parent identifier: {revision_list.parent_record_list_identifier}\")"
   ]
  },
  {
   "cell_type": "markdown",
   "id": "a654d2f4",
   "metadata": {},
   "source": [
    "Modifications made to the list revision are applied to the original list when the list revision\n",
    "is published. Once the original list is updated, the list revision is deleted and is no longer\n",
    "available."
   ]
  },
  {
   "cell_type": "code",
   "execution_count": 8,
   "id": "614c6361",
   "metadata": {
    "execution": {
     "iopub.execute_input": "2024-05-02T16:35:36.152698Z",
     "iopub.status.busy": "2024-05-02T16:35:36.152509Z",
     "iopub.status.idle": "2024-05-02T16:35:36.405002Z",
     "shell.execute_reply": "2024-05-02T16:35:36.404421Z"
    },
    "tags": []
   },
   "outputs": [
    {
     "name": "stdout",
     "output_type": "stream",
     "text": [
      "Notes: None\n",
      "Is published: True\n"
     ]
    }
   ],
   "source": [
    "updated_revision_list = client.update_list(revision_list, notes=\"Added during revision process\")\n",
    "updated_revision_list = client.request_list_approval(updated_revision_list)\n",
    "updated_original_list = client.publish_list(updated_revision_list)\n",
    "\n",
    "# When publishing a revision list, the returned object is the updated parent list.\n",
    "# Check the notes of the list to confirm the revisions were made successfully.\n",
    "print(f\"Notes: {updated_original_list.notes}\")\n",
    "print(f\"Is published: {updated_original_list.published}\")"
   ]
  },
  {
   "cell_type": "markdown",
   "id": "68a4f1c5",
   "metadata": {},
   "source": [
    "## Withdraw a record list\n",
    "When a record list is in the published state, calling ``request_list_approval`` requests the\n",
    "withdrawal of that list."
   ]
  },
  {
   "cell_type": "code",
   "execution_count": 9,
   "id": "95887b6f",
   "metadata": {
    "execution": {
     "iopub.execute_input": "2024-05-02T16:35:36.407364Z",
     "iopub.status.busy": "2024-05-02T16:35:36.407169Z",
     "iopub.status.idle": "2024-05-02T16:35:36.491811Z",
     "shell.execute_reply": "2024-05-02T16:35:36.491252Z"
    },
    "tags": []
   },
   "outputs": [
    {
     "name": "stdout",
     "output_type": "stream",
     "text": [
      "Awaiting approval: True\n",
      "Published: True\n"
     ]
    }
   ],
   "source": [
    "updated_list = client.request_list_approval(example_list)\n",
    "\n",
    "print_status(updated_list)"
   ]
  },
  {
   "cell_type": "markdown",
   "id": "0e85ab6a",
   "metadata": {},
   "source": [
    "Use the ``unpublish_list`` method to withdraw a record list."
   ]
  },
  {
   "cell_type": "code",
   "execution_count": 10,
   "id": "a555bb44",
   "metadata": {
    "execution": {
     "iopub.execute_input": "2024-05-02T16:35:36.494092Z",
     "iopub.status.busy": "2024-05-02T16:35:36.493899Z",
     "iopub.status.idle": "2024-05-02T16:35:36.583063Z",
     "shell.execute_reply": "2024-05-02T16:35:36.582377Z"
    },
    "tags": []
   },
   "outputs": [
    {
     "name": "stdout",
     "output_type": "stream",
     "text": [
      "Awaiting approval: False\n",
      "Published: False\n"
     ]
    }
   ],
   "source": [
    "updated_list = client.unpublish_list(example_list)\n",
    "\n",
    "print_status(updated_list)"
   ]
  },
  {
   "cell_type": "code",
   "execution_count": 11,
   "id": "366e09d9",
   "metadata": {
    "execution": {
     "iopub.execute_input": "2024-05-02T16:35:36.585534Z",
     "iopub.status.busy": "2024-05-02T16:35:36.585173Z",
     "iopub.status.idle": "2024-05-02T16:35:36.663678Z",
     "shell.execute_reply": "2024-05-02T16:35:36.663022Z"
    },
    "nbsphinx": "hidden"
   },
   "outputs": [],
   "source": [
    "client.delete_list(example_list)"
   ]
  }
 ],
 "metadata": {
  "jupytext": {
   "formats": "ipynb,py:light"
  },
  "kernelspec": {
   "display_name": "Python 3 (ipykernel)",
   "language": "python",
   "name": "python3"
  },
  "language_info": {
   "codemirror_mode": {
    "name": "ipython",
    "version": 3
   },
   "file_extension": ".py",
   "mimetype": "text/x-python",
   "name": "python",
   "nbconvert_exporter": "python",
   "pygments_lexer": "ipython3",
   "version": "3.10.14"
  }
 },
 "nbformat": 4,
 "nbformat_minor": 5
}
