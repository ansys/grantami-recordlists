{
 "cells": [
  {
   "cell_type": "markdown",
   "id": "811f637d",
   "metadata": {},
   "source": [
    "# Getting started\n",
    "This example shows how to connect to Granta MI and perform basic operations on record lists."
   ]
  },
  {
   "cell_type": "markdown",
   "id": "f0860624",
   "metadata": {},
   "source": [
    "## Connect to Granta MI"
   ]
  },
  {
   "cell_type": "markdown",
   "id": "e70609f4",
   "metadata": {},
   "source": [
    "First, use the ``ansys.grantami.recordlists.Connection`` class to connect to the Granta MI\n",
    "server. The ``Connection`` class uses a fluent interface to build the connection, which is\n",
    "always invoked in the following sequence:\n",
    "\n",
    "1. Specify your Granta MI Service Layer URL as a parameter to the ``Connection`` class.\n",
    "2. Specify the authentication method using a ``Connection.with_...()`` method.\n",
    "3. Use the ``Connection.connect()`` method to finalize the connection.\n",
    "\n",
    "This returns a client object, called ``client`` in these examples."
   ]
  },
  {
   "cell_type": "code",
   "execution_count": 1,
   "id": "2278535c",
   "metadata": {
    "execution": {
     "iopub.execute_input": "2024-05-07T12:58:50.327806Z",
     "iopub.status.busy": "2024-05-07T12:58:50.327612Z",
     "iopub.status.idle": "2024-05-07T12:58:52.729686Z",
     "shell.execute_reply": "2024-05-07T12:58:52.729070Z"
    },
    "tags": []
   },
   "outputs": [],
   "source": [
    "from ansys.grantami.recordlists import Connection, RecordListItem\n",
    "\n",
    "connection = Connection(\"http://my_grantami_server/mi_servicelayer\").with_autologon()\n",
    "client = connection.connect()"
   ]
  },
  {
   "cell_type": "markdown",
   "id": "2343716b",
   "metadata": {},
   "source": [
    "## Create a new record list\n",
    "API operations expect a ``RecordList`` instance as input. For the purpose of this example, create\n",
    "a new record list, using the ``create_list`` method. It returns a ``RecordList`` instance."
   ]
  },
  {
   "cell_type": "code",
   "execution_count": 2,
   "id": "9c408237",
   "metadata": {
    "execution": {
     "iopub.execute_input": "2024-05-07T12:58:52.732742Z",
     "iopub.status.busy": "2024-05-07T12:58:52.732310Z",
     "iopub.status.idle": "2024-05-07T12:58:52.780998Z",
     "shell.execute_reply": "2024-05-07T12:58:52.780436Z"
    },
    "tags": []
   },
   "outputs": [
    {
     "data": {
      "text/plain": [
       "<RecordList name: Example list>"
      ]
     },
     "execution_count": 2,
     "metadata": {},
     "output_type": "execute_result"
    }
   ],
   "source": [
    "example_list = client.create_list(\n",
    "    name=\"Example list\",\n",
    "    description=f\"Created by example 00_Basic_usage\",\n",
    ")\n",
    "example_list"
   ]
  },
  {
   "cell_type": "markdown",
   "id": "ad0851c9",
   "metadata": {},
   "source": [
    "## Get the details of an existing record list\n",
    "The ``get_list`` method allows obtaining a ``RecordList`` instance from an existing record list\n",
    "unique identifier. This can be useful when the identifier is already known, for example if it has\n",
    "been obtained from the Favorites application or if it is hard-coded in the script configuration."
   ]
  },
  {
   "cell_type": "code",
   "execution_count": 3,
   "id": "f9695113",
   "metadata": {
    "execution": {
     "iopub.execute_input": "2024-05-07T12:58:52.783296Z",
     "iopub.status.busy": "2024-05-07T12:58:52.783094Z",
     "iopub.status.idle": "2024-05-07T12:58:52.829244Z",
     "shell.execute_reply": "2024-05-07T12:58:52.828616Z"
    },
    "tags": []
   },
   "outputs": [
    {
     "data": {
      "text/plain": [
       "<RecordList name: Example list>"
      ]
     },
     "execution_count": 3,
     "metadata": {},
     "output_type": "execute_result"
    }
   ],
   "source": [
    "list_details = client.get_list(example_list.identifier)\n",
    "list_details"
   ]
  },
  {
   "cell_type": "code",
   "execution_count": 4,
   "id": "dfc76433",
   "metadata": {
    "execution": {
     "iopub.execute_input": "2024-05-07T12:58:52.831743Z",
     "iopub.status.busy": "2024-05-07T12:58:52.831387Z",
     "iopub.status.idle": "2024-05-07T12:58:52.835468Z",
     "shell.execute_reply": "2024-05-07T12:58:52.834894Z"
    },
    "tags": []
   },
   "outputs": [
    {
     "name": "stdout",
     "output_type": "stream",
     "text": [
      "Name: Example list\n",
      "Identifier: 3526baae-9601-4081-b5bf-e1e172cca3ef\n",
      "Notes: None\n",
      "Description: Created by example 00_Basic_usage\n",
      "Created timestamp: 2024-05-07 12:58:52.757000+00:00\n"
     ]
    }
   ],
   "source": [
    "print(f\"Name: {list_details.name}\")\n",
    "print(f\"Identifier: {list_details.identifier}\")\n",
    "print(f\"Notes: {list_details.notes}\")\n",
    "print(f\"Description: {list_details.description}\")\n",
    "print(f\"Created timestamp: {list_details.created_timestamp}\")"
   ]
  },
  {
   "cell_type": "markdown",
   "id": "6590cdc8",
   "metadata": {},
   "source": [
    "## Get all record lists"
   ]
  },
  {
   "cell_type": "code",
   "execution_count": 5,
   "id": "a5b0b95b",
   "metadata": {
    "execution": {
     "iopub.execute_input": "2024-05-07T12:58:52.837727Z",
     "iopub.status.busy": "2024-05-07T12:58:52.837538Z",
     "iopub.status.idle": "2024-05-07T12:58:52.887219Z",
     "shell.execute_reply": "2024-05-07T12:58:52.886590Z"
    },
    "tags": []
   },
   "outputs": [
    {
     "data": {
      "text/plain": [
       "[<RecordList name: IntegrationTestList_6f35d35c-ee80-44e9-b100-c35606b8f4bc>,\n",
       " <RecordList name: IntegrationTestList_19a0adca-179e-4b52-a0eb-52bd853d87d4>,\n",
       " <RecordList name: IntegrationTestList_6bfe2a72-1baa-4adc-94f7-9ec5f110a6d0>,\n",
       " <RecordList name: IntegrationTestList_ef8fb6be-49c9-4e85-9ecb-c2f0dd3de499>,\n",
       " <RecordList name: Example list>]"
      ]
     },
     "execution_count": 5,
     "metadata": {},
     "output_type": "execute_result"
    }
   ],
   "source": [
    "all_lists = client.get_all_lists()\n",
    "all_lists"
   ]
  },
  {
   "cell_type": "markdown",
   "id": "356fefe1",
   "metadata": {},
   "source": [
    "## Copy a record list"
   ]
  },
  {
   "cell_type": "code",
   "execution_count": 6,
   "id": "027e1fa9",
   "metadata": {
    "execution": {
     "iopub.execute_input": "2024-05-07T12:58:52.889803Z",
     "iopub.status.busy": "2024-05-07T12:58:52.889437Z",
     "iopub.status.idle": "2024-05-07T12:58:52.945819Z",
     "shell.execute_reply": "2024-05-07T12:58:52.945181Z"
    },
    "tags": []
   },
   "outputs": [
    {
     "data": {
      "text/plain": [
       "<RecordList name: Example list copy_20240507085852>"
      ]
     },
     "execution_count": 6,
     "metadata": {},
     "output_type": "execute_result"
    }
   ],
   "source": [
    "list_copy = client.copy_list(example_list)\n",
    "list_copy"
   ]
  },
  {
   "cell_type": "markdown",
   "id": "62cf5263",
   "metadata": {},
   "source": [
    "## Update a record list"
   ]
  },
  {
   "cell_type": "code",
   "execution_count": 7,
   "id": "c9eff560",
   "metadata": {
    "execution": {
     "iopub.execute_input": "2024-05-07T12:58:52.948263Z",
     "iopub.status.busy": "2024-05-07T12:58:52.948064Z",
     "iopub.status.idle": "2024-05-07T12:58:53.003692Z",
     "shell.execute_reply": "2024-05-07T12:58:53.003168Z"
    },
    "tags": []
   },
   "outputs": [
    {
     "name": "stdout",
     "output_type": "stream",
     "text": [
      "Name: Copied - Example List\n",
      "Identifier: 8d73517a-9fc6-492d-83d2-de74a443ef56\n",
      "Notes: Copy of the example list\n",
      "Description: None\n",
      "Created timestamp: 2024-05-07 12:58:52.923000+00:00\n"
     ]
    }
   ],
   "source": [
    "updated_list_copy = client.update_list(\n",
    "    list_copy,\n",
    "    name=\"Copied - Example List\",\n",
    "    description=None,\n",
    "    notes=\"Copy of the example list\",\n",
    ")\n",
    "print(f\"Name: {updated_list_copy.name}\")\n",
    "print(f\"Identifier: {updated_list_copy.identifier}\")\n",
    "print(f\"Notes: {updated_list_copy.notes}\")\n",
    "print(f\"Description: {updated_list_copy.description}\")\n",
    "print(f\"Created timestamp: {updated_list_copy.created_timestamp}\")"
   ]
  },
  {
   "cell_type": "markdown",
   "id": "76f34255",
   "metadata": {},
   "source": [
    "## Delete a record list"
   ]
  },
  {
   "cell_type": "code",
   "execution_count": 8,
   "id": "a33c25d0",
   "metadata": {
    "execution": {
     "iopub.execute_input": "2024-05-07T12:58:53.006231Z",
     "iopub.status.busy": "2024-05-07T12:58:53.005864Z",
     "iopub.status.idle": "2024-05-07T12:58:53.059559Z",
     "shell.execute_reply": "2024-05-07T12:58:53.059001Z"
    },
    "tags": []
   },
   "outputs": [],
   "source": [
    "client.delete_list(updated_list_copy)"
   ]
  },
  {
   "cell_type": "markdown",
   "id": "61334459",
   "metadata": {},
   "source": [
    "## Read the items in a record list\n",
    "The list was created at the beginning of this example, so the list is currently empty."
   ]
  },
  {
   "cell_type": "code",
   "execution_count": 9,
   "id": "3d3b3119",
   "metadata": {
    "execution": {
     "iopub.execute_input": "2024-05-07T12:58:53.062078Z",
     "iopub.status.busy": "2024-05-07T12:58:53.061596Z",
     "iopub.status.idle": "2024-05-07T12:58:53.114183Z",
     "shell.execute_reply": "2024-05-07T12:58:53.113634Z"
    },
    "tags": []
   },
   "outputs": [
    {
     "data": {
      "text/plain": [
       "[]"
      ]
     },
     "execution_count": 9,
     "metadata": {},
     "output_type": "execute_result"
    }
   ],
   "source": [
    "items = client.get_list_items(example_list)\n",
    "items"
   ]
  },
  {
   "cell_type": "markdown",
   "id": "d4e47e7e",
   "metadata": {},
   "source": [
    "## Add items to a record list\n",
    "Add items to a list using ``add_items_to_list``.\n",
    "Items are described using the database GUID, table GUID, and record history GUID."
   ]
  },
  {
   "cell_type": "code",
   "execution_count": 10,
   "id": "7aa6de58",
   "metadata": {
    "execution": {
     "iopub.execute_input": "2024-05-07T12:58:53.116436Z",
     "iopub.status.busy": "2024-05-07T12:58:53.116244Z",
     "iopub.status.idle": "2024-05-07T12:58:53.182117Z",
     "shell.execute_reply": "2024-05-07T12:58:53.181508Z"
    },
    "tags": []
   },
   "outputs": [
    {
     "data": {
      "text/plain": [
       "[<RecordListItem(database_guid='e595fe23-b450-4d18-8c08-4a0f378ef095', record_history_guid='3bc2b82f-0199-4f3b-a7af-8d520250b180')>]"
      ]
     },
     "execution_count": 10,
     "metadata": {},
     "output_type": "execute_result"
    }
   ],
   "source": [
    "client.add_items_to_list(\n",
    "    example_list,\n",
    "    items=[\n",
    "        RecordListItem(\n",
    "            database_guid=\"e595fe23-b450-4d18-8c08-4a0f378ef095\",\n",
    "            table_guid=\"81dff531-0254-4fbe-9621-174b10aaee3d\",\n",
    "            record_history_guid=\"3bc2b82f-0199-4f3b-a7af-8d520250b180\",\n",
    "        ),\n",
    "    ],\n",
    ")"
   ]
  },
  {
   "cell_type": "markdown",
   "id": "4e4ca749",
   "metadata": {},
   "source": [
    "Then retrieve the items and confirm that the record list now includes the added items."
   ]
  },
  {
   "cell_type": "code",
   "execution_count": 11,
   "id": "7a94a069",
   "metadata": {
    "execution": {
     "iopub.execute_input": "2024-05-07T12:58:53.184723Z",
     "iopub.status.busy": "2024-05-07T12:58:53.184276Z",
     "iopub.status.idle": "2024-05-07T12:58:53.235193Z",
     "shell.execute_reply": "2024-05-07T12:58:53.234674Z"
    },
    "tags": []
   },
   "outputs": [
    {
     "data": {
      "text/plain": [
       "[<RecordListItem(database_guid='e595fe23-b450-4d18-8c08-4a0f378ef095', record_history_guid='3bc2b82f-0199-4f3b-a7af-8d520250b180')>]"
      ]
     },
     "execution_count": 11,
     "metadata": {},
     "output_type": "execute_result"
    }
   ],
   "source": [
    "list_items = client.get_list_items(example_list)\n",
    "list_items"
   ]
  },
  {
   "cell_type": "markdown",
   "id": "a399af43",
   "metadata": {},
   "source": [
    "## Remove items from a record list\n",
    "Remove items from a record list using ``remove_items_from_list``."
   ]
  },
  {
   "cell_type": "code",
   "execution_count": 12,
   "id": "9efb8cfb",
   "metadata": {
    "execution": {
     "iopub.execute_input": "2024-05-07T12:58:53.237525Z",
     "iopub.status.busy": "2024-05-07T12:58:53.237153Z",
     "iopub.status.idle": "2024-05-07T12:58:53.298176Z",
     "shell.execute_reply": "2024-05-07T12:58:53.297657Z"
    },
    "tags": []
   },
   "outputs": [
    {
     "data": {
      "text/plain": [
       "[]"
      ]
     },
     "execution_count": 12,
     "metadata": {},
     "output_type": "execute_result"
    }
   ],
   "source": [
    "client.remove_items_from_list(\n",
    "    example_list,\n",
    "    items=list_items,\n",
    ")"
   ]
  },
  {
   "cell_type": "markdown",
   "id": "5e9f23e0",
   "metadata": {},
   "source": [
    "Then retrieve the items again and confirm that the record list is empty."
   ]
  },
  {
   "cell_type": "code",
   "execution_count": 13,
   "id": "aaaf1bb1",
   "metadata": {
    "execution": {
     "iopub.execute_input": "2024-05-07T12:58:53.300625Z",
     "iopub.status.busy": "2024-05-07T12:58:53.300253Z",
     "iopub.status.idle": "2024-05-07T12:58:53.349181Z",
     "shell.execute_reply": "2024-05-07T12:58:53.348553Z"
    },
    "lines_to_next_cell": 2,
    "tags": []
   },
   "outputs": [
    {
     "data": {
      "text/plain": [
       "[]"
      ]
     },
     "execution_count": 13,
     "metadata": {},
     "output_type": "execute_result"
    }
   ],
   "source": [
    "items = client.get_list_items(example_list)\n",
    "items"
   ]
  },
  {
   "cell_type": "code",
   "execution_count": 14,
   "id": "e4b6be35",
   "metadata": {
    "execution": {
     "iopub.execute_input": "2024-05-07T12:58:53.351598Z",
     "iopub.status.busy": "2024-05-07T12:58:53.351240Z",
     "iopub.status.idle": "2024-05-07T12:58:53.409423Z",
     "shell.execute_reply": "2024-05-07T12:58:53.408885Z"
    },
    "nbsphinx": "hidden"
   },
   "outputs": [],
   "source": [
    "client.delete_list(example_list)"
   ]
  }
 ],
 "metadata": {
  "jupytext": {
   "formats": "ipynb,py:light"
  },
  "kernelspec": {
   "display_name": "Python 3 (ipykernel)",
   "language": "python",
   "name": "python3"
  },
  "language_info": {
   "codemirror_mode": {
    "name": "ipython",
    "version": 3
   },
   "file_extension": ".py",
   "mimetype": "text/x-python",
   "name": "python",
   "nbconvert_exporter": "python",
   "pygments_lexer": "ipython3",
   "version": "3.10.14"
  }
 },
 "nbformat": 4,
 "nbformat_minor": 5
}
