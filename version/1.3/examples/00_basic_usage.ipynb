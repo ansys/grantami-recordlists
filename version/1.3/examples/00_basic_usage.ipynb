{
 "cells": [
  {
   "cell_type": "markdown",
   "id": "79510fa7",
   "metadata": {},
   "source": [
    "# Getting started\n",
    "This example shows how to connect to Granta MI and perform basic operations on record lists."
   ]
  },
  {
   "cell_type": "markdown",
   "id": "2c25ccfe",
   "metadata": {},
   "source": [
    "## Connect to Granta MI"
   ]
  },
  {
   "cell_type": "markdown",
   "id": "92c90cdc",
   "metadata": {},
   "source": [
    "First, use the ``ansys.grantami.recordlists.Connection`` class to connect to the Granta MI\n",
    "server. The ``Connection`` class uses a fluent interface to build the connection, which is\n",
    "always invoked in the following sequence:\n",
    "\n",
    "1. Specify your Granta MI Service Layer URL as a parameter to the ``Connection`` class.\n",
    "2. Specify the authentication method using a ``Connection.with_...()`` method.\n",
    "3. Use the ``Connection.connect()`` method to finalize the connection.\n",
    "\n",
    "This returns a client object, called ``client`` in these examples."
   ]
  },
  {
   "cell_type": "code",
   "execution_count": 1,
   "id": "f8d70d64",
   "metadata": {
    "execution": {
     "iopub.execute_input": "2024-12-13T15:47:09.394004Z",
     "iopub.status.busy": "2024-12-13T15:47:09.393436Z",
     "iopub.status.idle": "2024-12-13T15:47:13.846291Z",
     "shell.execute_reply": "2024-12-13T15:47:13.845559Z"
    },
    "tags": []
   },
   "outputs": [],
   "source": [
    "from ansys.grantami.recordlists import Connection, RecordListItem\n",
    "\n",
    "connection = Connection(\"http://my_grantami_server/mi_servicelayer\").with_autologon()\n",
    "client = connection.connect()"
   ]
  },
  {
   "cell_type": "markdown",
   "id": "456b3e67",
   "metadata": {},
   "source": [
    "## Create a new record list\n",
    "API operations expect a ``RecordList`` instance as input. For the purpose of this example, create\n",
    "a new record list, using the ``create_list`` method. It returns a ``RecordList`` instance."
   ]
  },
  {
   "cell_type": "code",
   "execution_count": 2,
   "id": "e5995007",
   "metadata": {
    "execution": {
     "iopub.execute_input": "2024-12-13T15:47:13.848669Z",
     "iopub.status.busy": "2024-12-13T15:47:13.848268Z",
     "iopub.status.idle": "2024-12-13T15:47:13.947588Z",
     "shell.execute_reply": "2024-12-13T15:47:13.946887Z"
    },
    "tags": []
   },
   "outputs": [
    {
     "data": {
      "text/plain": [
       "<RecordList name: Example list>"
      ]
     },
     "execution_count": 2,
     "metadata": {},
     "output_type": "execute_result"
    }
   ],
   "source": [
    "example_list = client.create_list(\n",
    "    name=\"Example list\",\n",
    "    description=f\"Created by example 00_Basic_usage\",\n",
    ")\n",
    "example_list"
   ]
  },
  {
   "cell_type": "markdown",
   "id": "8fca331e",
   "metadata": {},
   "source": [
    "## Get the details of an existing record list\n",
    "The ``get_list`` method allows obtaining a ``RecordList`` instance from an existing record list\n",
    "unique identifier. This can be useful when the identifier is already known, for example if it has\n",
    "been obtained from the Favorites application or if it is hard-coded in the script configuration."
   ]
  },
  {
   "cell_type": "code",
   "execution_count": 3,
   "id": "63bfc041",
   "metadata": {
    "execution": {
     "iopub.execute_input": "2024-12-13T15:47:13.949681Z",
     "iopub.status.busy": "2024-12-13T15:47:13.949463Z",
     "iopub.status.idle": "2024-12-13T15:47:14.045910Z",
     "shell.execute_reply": "2024-12-13T15:47:14.045281Z"
    },
    "tags": []
   },
   "outputs": [
    {
     "data": {
      "text/plain": [
       "<RecordList name: Example list>"
      ]
     },
     "execution_count": 3,
     "metadata": {},
     "output_type": "execute_result"
    }
   ],
   "source": [
    "list_details = client.get_list(example_list.identifier)\n",
    "list_details"
   ]
  },
  {
   "cell_type": "code",
   "execution_count": 4,
   "id": "65abd56b",
   "metadata": {
    "execution": {
     "iopub.execute_input": "2024-12-13T15:47:14.048178Z",
     "iopub.status.busy": "2024-12-13T15:47:14.047785Z",
     "iopub.status.idle": "2024-12-13T15:47:14.051458Z",
     "shell.execute_reply": "2024-12-13T15:47:14.050928Z"
    },
    "tags": []
   },
   "outputs": [
    {
     "name": "stdout",
     "output_type": "stream",
     "text": [
      "Name: Example list\n",
      "Identifier: 8bc61440-f110-4f63-b6ee-c72bb22ac7a9\n",
      "Notes: None\n",
      "Description: Created by example 00_Basic_usage\n",
      "Created timestamp: 2024-12-13 15:47:13.900000+00:00\n"
     ]
    }
   ],
   "source": [
    "print(f\"Name: {list_details.name}\")\n",
    "print(f\"Identifier: {list_details.identifier}\")\n",
    "print(f\"Notes: {list_details.notes}\")\n",
    "print(f\"Description: {list_details.description}\")\n",
    "print(f\"Created timestamp: {list_details.created_timestamp}\")"
   ]
  },
  {
   "cell_type": "markdown",
   "id": "7eeeebb7",
   "metadata": {},
   "source": [
    "## Get all record lists"
   ]
  },
  {
   "cell_type": "code",
   "execution_count": 5,
   "id": "58ff0d49",
   "metadata": {
    "execution": {
     "iopub.execute_input": "2024-12-13T15:47:14.053577Z",
     "iopub.status.busy": "2024-12-13T15:47:14.053191Z",
     "iopub.status.idle": "2024-12-13T15:47:14.158481Z",
     "shell.execute_reply": "2024-12-13T15:47:14.157868Z"
    },
    "tags": []
   },
   "outputs": [
    {
     "data": {
      "text/plain": [
       "[<RecordList name: Example list>]"
      ]
     },
     "execution_count": 5,
     "metadata": {},
     "output_type": "execute_result"
    }
   ],
   "source": [
    "all_lists = client.get_all_lists()\n",
    "all_lists"
   ]
  },
  {
   "cell_type": "markdown",
   "id": "963ed3b7",
   "metadata": {},
   "source": [
    "## Copy a record list"
   ]
  },
  {
   "cell_type": "code",
   "execution_count": 6,
   "id": "c9acc812",
   "metadata": {
    "execution": {
     "iopub.execute_input": "2024-12-13T15:47:14.160719Z",
     "iopub.status.busy": "2024-12-13T15:47:14.160236Z",
     "iopub.status.idle": "2024-12-13T15:47:14.272309Z",
     "shell.execute_reply": "2024-12-13T15:47:14.271646Z"
    },
    "tags": []
   },
   "outputs": [
    {
     "data": {
      "text/plain": [
       "<RecordList name: Example list copy_20241213104714>"
      ]
     },
     "execution_count": 6,
     "metadata": {},
     "output_type": "execute_result"
    }
   ],
   "source": [
    "list_copy = client.copy_list(example_list)\n",
    "list_copy"
   ]
  },
  {
   "cell_type": "markdown",
   "id": "0235c4b1",
   "metadata": {},
   "source": [
    "## Update a record list"
   ]
  },
  {
   "cell_type": "code",
   "execution_count": 7,
   "id": "123fa919",
   "metadata": {
    "execution": {
     "iopub.execute_input": "2024-12-13T15:47:14.274298Z",
     "iopub.status.busy": "2024-12-13T15:47:14.274096Z",
     "iopub.status.idle": "2024-12-13T15:47:14.388217Z",
     "shell.execute_reply": "2024-12-13T15:47:14.387601Z"
    },
    "tags": []
   },
   "outputs": [
    {
     "name": "stdout",
     "output_type": "stream",
     "text": [
      "Name: Copied - Example List\n",
      "Identifier: 32bbcf29-2375-433f-94a6-5f89ab2a9d0e\n",
      "Notes: Copy of the example list\n",
      "Description: None\n",
      "Created timestamp: 2024-12-13 15:47:14.223000+00:00\n"
     ]
    }
   ],
   "source": [
    "updated_list_copy = client.update_list(\n",
    "    list_copy,\n",
    "    name=\"Copied - Example List\",\n",
    "    description=None,\n",
    "    notes=\"Copy of the example list\",\n",
    ")\n",
    "print(f\"Name: {updated_list_copy.name}\")\n",
    "print(f\"Identifier: {updated_list_copy.identifier}\")\n",
    "print(f\"Notes: {updated_list_copy.notes}\")\n",
    "print(f\"Description: {updated_list_copy.description}\")\n",
    "print(f\"Created timestamp: {updated_list_copy.created_timestamp}\")"
   ]
  },
  {
   "cell_type": "markdown",
   "id": "8c993b12",
   "metadata": {},
   "source": [
    "## Delete a record list"
   ]
  },
  {
   "cell_type": "code",
   "execution_count": 8,
   "id": "29d1784c",
   "metadata": {
    "execution": {
     "iopub.execute_input": "2024-12-13T15:47:14.390333Z",
     "iopub.status.busy": "2024-12-13T15:47:14.389956Z",
     "iopub.status.idle": "2024-12-13T15:47:14.497978Z",
     "shell.execute_reply": "2024-12-13T15:47:14.497257Z"
    },
    "tags": []
   },
   "outputs": [],
   "source": [
    "client.delete_list(updated_list_copy)"
   ]
  },
  {
   "cell_type": "markdown",
   "id": "7d3d4098",
   "metadata": {},
   "source": [
    "## Read the items in a record list\n",
    "The list was created at the beginning of this example, so the list is currently empty."
   ]
  },
  {
   "cell_type": "code",
   "execution_count": 9,
   "id": "182fc6bc",
   "metadata": {
    "execution": {
     "iopub.execute_input": "2024-12-13T15:47:14.500415Z",
     "iopub.status.busy": "2024-12-13T15:47:14.500215Z",
     "iopub.status.idle": "2024-12-13T15:47:14.601392Z",
     "shell.execute_reply": "2024-12-13T15:47:14.600808Z"
    },
    "tags": []
   },
   "outputs": [
    {
     "data": {
      "text/plain": [
       "[]"
      ]
     },
     "execution_count": 9,
     "metadata": {},
     "output_type": "execute_result"
    }
   ],
   "source": [
    "items = client.get_list_items(example_list)\n",
    "items"
   ]
  },
  {
   "cell_type": "markdown",
   "id": "5824a21d",
   "metadata": {},
   "source": [
    "## Add items to a record list\n",
    "Add items to a list using ``add_items_to_list``.\n",
    "Items are described using the database GUID, table GUID, and record history GUID."
   ]
  },
  {
   "cell_type": "code",
   "execution_count": 10,
   "id": "de6b8304",
   "metadata": {
    "execution": {
     "iopub.execute_input": "2024-12-13T15:47:14.603711Z",
     "iopub.status.busy": "2024-12-13T15:47:14.603298Z",
     "iopub.status.idle": "2024-12-13T15:47:14.746775Z",
     "shell.execute_reply": "2024-12-13T15:47:14.746096Z"
    },
    "tags": []
   },
   "outputs": [
    {
     "data": {
      "text/plain": [
       "[<RecordListItem(database_guid='e595fe23-b450-4d18-8c08-4a0f378ef095', record_history_guid='3bc2b82f-0199-4f3b-a7af-8d520250b180')>]"
      ]
     },
     "execution_count": 10,
     "metadata": {},
     "output_type": "execute_result"
    }
   ],
   "source": [
    "client.add_items_to_list(\n",
    "    example_list,\n",
    "    items=[\n",
    "        RecordListItem(\n",
    "            database_guid=\"e595fe23-b450-4d18-8c08-4a0f378ef095\",\n",
    "            table_guid=\"81dff531-0254-4fbe-9621-174b10aaee3d\",\n",
    "            record_history_guid=\"3bc2b82f-0199-4f3b-a7af-8d520250b180\",\n",
    "        ),\n",
    "    ],\n",
    ")"
   ]
  },
  {
   "cell_type": "markdown",
   "id": "9ba4f8f1",
   "metadata": {},
   "source": [
    "Then retrieve the items and confirm that the record list now includes the added items."
   ]
  },
  {
   "cell_type": "code",
   "execution_count": 11,
   "id": "3790b3a7",
   "metadata": {
    "execution": {
     "iopub.execute_input": "2024-12-13T15:47:14.749062Z",
     "iopub.status.busy": "2024-12-13T15:47:14.748671Z",
     "iopub.status.idle": "2024-12-13T15:47:14.854013Z",
     "shell.execute_reply": "2024-12-13T15:47:14.853329Z"
    },
    "tags": []
   },
   "outputs": [
    {
     "data": {
      "text/plain": [
       "[<RecordListItem(database_guid='e595fe23-b450-4d18-8c08-4a0f378ef095', record_history_guid='3bc2b82f-0199-4f3b-a7af-8d520250b180')>]"
      ]
     },
     "execution_count": 11,
     "metadata": {},
     "output_type": "execute_result"
    }
   ],
   "source": [
    "list_items = client.get_list_items(example_list)\n",
    "list_items"
   ]
  },
  {
   "cell_type": "markdown",
   "id": "b118d1f7",
   "metadata": {},
   "source": [
    "## Remove items from a record list\n",
    "Remove items from a record list using ``remove_items_from_list``."
   ]
  },
  {
   "cell_type": "code",
   "execution_count": 12,
   "id": "4aa5c516",
   "metadata": {
    "execution": {
     "iopub.execute_input": "2024-12-13T15:47:14.856205Z",
     "iopub.status.busy": "2024-12-13T15:47:14.855802Z",
     "iopub.status.idle": "2024-12-13T15:47:14.967993Z",
     "shell.execute_reply": "2024-12-13T15:47:14.967398Z"
    },
    "tags": []
   },
   "outputs": [
    {
     "data": {
      "text/plain": [
       "[]"
      ]
     },
     "execution_count": 12,
     "metadata": {},
     "output_type": "execute_result"
    }
   ],
   "source": [
    "client.remove_items_from_list(\n",
    "    example_list,\n",
    "    items=list_items,\n",
    ")"
   ]
  },
  {
   "cell_type": "markdown",
   "id": "c5c4a89d",
   "metadata": {},
   "source": [
    "Then retrieve the items again and confirm that the record list is empty."
   ]
  },
  {
   "cell_type": "code",
   "execution_count": 13,
   "id": "f132dccd",
   "metadata": {
    "execution": {
     "iopub.execute_input": "2024-12-13T15:47:14.970147Z",
     "iopub.status.busy": "2024-12-13T15:47:14.969721Z",
     "iopub.status.idle": "2024-12-13T15:47:15.070510Z",
     "shell.execute_reply": "2024-12-13T15:47:15.069826Z"
    },
    "lines_to_next_cell": 2,
    "tags": []
   },
   "outputs": [
    {
     "data": {
      "text/plain": [
       "[]"
      ]
     },
     "execution_count": 13,
     "metadata": {},
     "output_type": "execute_result"
    }
   ],
   "source": [
    "items = client.get_list_items(example_list)\n",
    "items"
   ]
  },
  {
   "cell_type": "code",
   "execution_count": 14,
   "id": "65da8e21",
   "metadata": {
    "execution": {
     "iopub.execute_input": "2024-12-13T15:47:15.072644Z",
     "iopub.status.busy": "2024-12-13T15:47:15.072248Z",
     "iopub.status.idle": "2024-12-13T15:47:15.177538Z",
     "shell.execute_reply": "2024-12-13T15:47:15.176886Z"
    },
    "nbsphinx": "hidden"
   },
   "outputs": [],
   "source": [
    "client.delete_list(example_list)"
   ]
  }
 ],
 "metadata": {
  "jupytext": {
   "formats": "ipynb,py:light"
  },
  "kernelspec": {
   "display_name": "Python 3 (ipykernel)",
   "language": "python",
   "name": "python3"
  },
  "language_info": {
   "codemirror_mode": {
    "name": "ipython",
    "version": 3
   },
   "file_extension": ".py",
   "mimetype": "text/x-python",
   "name": "python",
   "nbconvert_exporter": "python",
   "pygments_lexer": "ipython3",
   "version": "3.10.15"
  }
 },
 "nbformat": 4,
 "nbformat_minor": 5
}
