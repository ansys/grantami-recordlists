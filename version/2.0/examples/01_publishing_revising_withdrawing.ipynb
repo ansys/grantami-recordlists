{
 "cells": [
  {
   "cell_type": "markdown",
   "id": "54ffa24a",
   "metadata": {},
   "source": [
    "# Publishing, revising, and withdrawing record lists\n",
    "This example shows how to connect to Granta MI and perform advanced operations on record lists,\n",
    "such as publishing, withdrawing, and revising a list. For more information about the concepts\n",
    "discussed here, see the Help in the Granta MI Favorites app."
   ]
  },
  {
   "cell_type": "markdown",
   "id": "3f0252fe",
   "metadata": {},
   "source": [
    ".. note:: Running this notebook requires permissions to request publication of, to publish, and to\n",
    "revise a record list. Contact your Granta MI administrator for more information."
   ]
  },
  {
   "cell_type": "markdown",
   "id": "5af5c6ed",
   "metadata": {},
   "source": [
    "## Connect to Granta MI and create a record list"
   ]
  },
  {
   "cell_type": "markdown",
   "id": "48d02912",
   "metadata": {},
   "source": [
    "Import the ``Connection`` class and create the connection. See the\n",
    "[Getting started](00_basic_usage.ipynb) example for more details."
   ]
  },
  {
   "cell_type": "code",
   "execution_count": 1,
   "id": "812bb603",
   "metadata": {
    "execution": {
     "iopub.execute_input": "2025-07-29T16:27:51.577685Z",
     "iopub.status.busy": "2025-07-29T16:27:51.577225Z",
     "iopub.status.idle": "2025-07-29T16:27:51.829137Z",
     "shell.execute_reply": "2025-07-29T16:27:51.828584Z"
    },
    "tags": []
   },
   "outputs": [],
   "source": [
    "from ansys.grantami.recordlists import Connection\n",
    "\n",
    "connection = Connection(\"http://my_grantami_server/mi_servicelayer\").with_autologon()\n",
    "client = connection.connect()"
   ]
  },
  {
   "cell_type": "markdown",
   "id": "5ff2df31",
   "metadata": {},
   "source": [
    "Create a record list for use in this example."
   ]
  },
  {
   "cell_type": "code",
   "execution_count": 2,
   "id": "37b84be9",
   "metadata": {
    "execution": {
     "iopub.execute_input": "2025-07-29T16:27:51.831236Z",
     "iopub.status.busy": "2025-07-29T16:27:51.830882Z",
     "iopub.status.idle": "2025-07-29T16:27:51.896340Z",
     "shell.execute_reply": "2025-07-29T16:27:51.895883Z"
    },
    "tags": []
   },
   "outputs": [
    {
     "data": {
      "text/plain": [
       "<RecordList name: Example list>"
      ]
     },
     "execution_count": 2,
     "metadata": {},
     "output_type": "execute_result"
    }
   ],
   "source": [
    "example_list = client.create_list(\n",
    "    name=\"Example list\",\n",
    "    description=f\"Created by example 01_Advanced_usage\",\n",
    ")\n",
    "example_list"
   ]
  },
  {
   "cell_type": "markdown",
   "id": "554f5a31",
   "metadata": {
    "lines_to_next_cell": 2
   },
   "source": [
    "Record lists include two properties describing two aspects of their status: whether they are\n",
    "awaiting approval to be published, and whether they are currently published.\n",
    "Define a function to display the status properties."
   ]
  },
  {
   "cell_type": "code",
   "execution_count": 3,
   "id": "49ac5a11",
   "metadata": {
    "execution": {
     "iopub.execute_input": "2025-07-29T16:27:51.897896Z",
     "iopub.status.busy": "2025-07-29T16:27:51.897743Z",
     "iopub.status.idle": "2025-07-29T16:27:51.901079Z",
     "shell.execute_reply": "2025-07-29T16:27:51.900636Z"
    },
    "tags": []
   },
   "outputs": [
    {
     "name": "stdout",
     "output_type": "stream",
     "text": [
      "Awaiting approval: False\n",
      "Published: False\n"
     ]
    }
   ],
   "source": [
    "def print_status(record_list):\n",
    "    print(f\"Awaiting approval: {record_list.awaiting_approval}\")\n",
    "    print(f\"Published: {record_list.published}\")\n",
    "\n",
    "\n",
    "print_status(example_list)"
   ]
  },
  {
   "cell_type": "markdown",
   "id": "6504680b",
   "metadata": {},
   "source": [
    "## Publish a record list"
   ]
  },
  {
   "cell_type": "markdown",
   "id": "74603c78",
   "metadata": {},
   "source": [
    "A record list is proposed for publication by calling the ``request_list_approval`` method with the\n",
    "record list to be published."
   ]
  },
  {
   "cell_type": "code",
   "execution_count": 4,
   "id": "7935c572",
   "metadata": {
    "execution": {
     "iopub.execute_input": "2025-07-29T16:27:51.902758Z",
     "iopub.status.busy": "2025-07-29T16:27:51.902443Z",
     "iopub.status.idle": "2025-07-29T16:27:51.997170Z",
     "shell.execute_reply": "2025-07-29T16:27:51.996619Z"
    },
    "tags": []
   },
   "outputs": [
    {
     "name": "stdout",
     "output_type": "stream",
     "text": [
      "Awaiting approval: True\n",
      "Published: False\n"
     ]
    }
   ],
   "source": [
    "updated_list = client.request_list_approval(example_list)\n",
    "\n",
    "print_status(updated_list)"
   ]
  },
  {
   "cell_type": "markdown",
   "id": "132fe9d0",
   "metadata": {},
   "source": [
    "Publish the record list by using the ``publish_list`` method."
   ]
  },
  {
   "cell_type": "code",
   "execution_count": 5,
   "id": "c126b252",
   "metadata": {
    "execution": {
     "iopub.execute_input": "2025-07-29T16:27:51.998944Z",
     "iopub.status.busy": "2025-07-29T16:27:51.998621Z",
     "iopub.status.idle": "2025-07-29T16:27:52.094500Z",
     "shell.execute_reply": "2025-07-29T16:27:52.094051Z"
    },
    "tags": []
   },
   "outputs": [
    {
     "name": "stdout",
     "output_type": "stream",
     "text": [
      "Awaiting approval: False\n",
      "Published: True\n"
     ]
    }
   ],
   "source": [
    "updated_list = client.publish_list(example_list)\n",
    "\n",
    "print_status(updated_list)"
   ]
  },
  {
   "cell_type": "markdown",
   "id": "9c026065",
   "metadata": {},
   "source": [
    "## Revise a record list"
   ]
  },
  {
   "cell_type": "markdown",
   "id": "bf44724c",
   "metadata": {},
   "source": [
    "A published record list cannot be modified directly. Instead, first create a revision of the\n",
    "published record list using the ``revise_list`` method. This creates an editable copy of the\n",
    "original record list (a list revision), and leaves the original record list unchanged."
   ]
  },
  {
   "cell_type": "code",
   "execution_count": 6,
   "id": "a0a1c30d",
   "metadata": {
    "execution": {
     "iopub.execute_input": "2025-07-29T16:27:52.096038Z",
     "iopub.status.busy": "2025-07-29T16:27:52.095855Z",
     "iopub.status.idle": "2025-07-29T16:27:52.186630Z",
     "shell.execute_reply": "2025-07-29T16:27:52.186169Z"
    },
    "tags": []
   },
   "outputs": [
    {
     "name": "stdout",
     "output_type": "stream",
     "text": [
      "Awaiting approval: False\n",
      "Published: False\n"
     ]
    }
   ],
   "source": [
    "revision_list = client.revise_list(example_list)\n",
    "\n",
    "print_status(revision_list)"
   ]
  },
  {
   "cell_type": "markdown",
   "id": "c40ded53",
   "metadata": {},
   "source": [
    "The record list revision includes a property tracking the parent record list:"
   ]
  },
  {
   "cell_type": "code",
   "execution_count": 7,
   "id": "fe134562",
   "metadata": {
    "execution": {
     "iopub.execute_input": "2025-07-29T16:27:52.188351Z",
     "iopub.status.busy": "2025-07-29T16:27:52.188000Z",
     "iopub.status.idle": "2025-07-29T16:27:52.191211Z",
     "shell.execute_reply": "2025-07-29T16:27:52.190746Z"
    },
    "tags": []
   },
   "outputs": [
    {
     "name": "stdout",
     "output_type": "stream",
     "text": [
      "Is revision: True\n",
      "Parent identifier: 78d78240-f2a3-4ab9-ab7d-204a766bbafe\n"
     ]
    }
   ],
   "source": [
    "print(f\"Is revision: {revision_list.is_revision}\")\n",
    "print(f\"Parent identifier: {revision_list.parent_record_list_identifier}\")"
   ]
  },
  {
   "cell_type": "markdown",
   "id": "f438c0e0",
   "metadata": {},
   "source": [
    "Modifications made to the list revision are applied to the original list when the list revision\n",
    "is published. Once the original list is updated, the list revision is deleted and is no longer\n",
    "available."
   ]
  },
  {
   "cell_type": "code",
   "execution_count": 8,
   "id": "9d8bfa5e",
   "metadata": {
    "execution": {
     "iopub.execute_input": "2025-07-29T16:27:52.192750Z",
     "iopub.status.busy": "2025-07-29T16:27:52.192581Z",
     "iopub.status.idle": "2025-07-29T16:27:52.463707Z",
     "shell.execute_reply": "2025-07-29T16:27:52.463197Z"
    },
    "tags": []
   },
   "outputs": [
    {
     "name": "stdout",
     "output_type": "stream",
     "text": [
      "Notes: None\n",
      "Is published: True\n"
     ]
    }
   ],
   "source": [
    "updated_revision_list = client.update_list(revision_list, notes=\"Added during revision process\")\n",
    "updated_revision_list = client.request_list_approval(updated_revision_list)\n",
    "updated_original_list = client.publish_list(updated_revision_list)\n",
    "\n",
    "# When publishing a revision list, the returned object is the updated parent list.\n",
    "# Check the notes of the list to confirm the revisions were made successfully.\n",
    "print(f\"Notes: {updated_original_list.notes}\")\n",
    "print(f\"Is published: {updated_original_list.published}\")"
   ]
  },
  {
   "cell_type": "markdown",
   "id": "abf1b51e",
   "metadata": {},
   "source": [
    "## Withdraw a record list\n",
    "When a record list is in the published state, calling ``request_list_approval`` requests the\n",
    "withdrawal of that list."
   ]
  },
  {
   "cell_type": "code",
   "execution_count": 9,
   "id": "c107d62d",
   "metadata": {
    "execution": {
     "iopub.execute_input": "2025-07-29T16:27:52.465317Z",
     "iopub.status.busy": "2025-07-29T16:27:52.465161Z",
     "iopub.status.idle": "2025-07-29T16:27:52.557592Z",
     "shell.execute_reply": "2025-07-29T16:27:52.557118Z"
    },
    "tags": []
   },
   "outputs": [
    {
     "name": "stdout",
     "output_type": "stream",
     "text": [
      "Awaiting approval: True\n",
      "Published: True\n"
     ]
    }
   ],
   "source": [
    "updated_list = client.request_list_approval(example_list)\n",
    "\n",
    "print_status(updated_list)"
   ]
  },
  {
   "cell_type": "markdown",
   "id": "d9228943",
   "metadata": {},
   "source": [
    "Use the ``unpublish_list`` method to withdraw a record list."
   ]
  },
  {
   "cell_type": "code",
   "execution_count": 10,
   "id": "9377e2a2",
   "metadata": {
    "execution": {
     "iopub.execute_input": "2025-07-29T16:27:52.559220Z",
     "iopub.status.busy": "2025-07-29T16:27:52.558904Z",
     "iopub.status.idle": "2025-07-29T16:27:52.667201Z",
     "shell.execute_reply": "2025-07-29T16:27:52.666634Z"
    },
    "tags": []
   },
   "outputs": [
    {
     "name": "stdout",
     "output_type": "stream",
     "text": [
      "Awaiting approval: False\n",
      "Published: False\n"
     ]
    }
   ],
   "source": [
    "updated_list = client.unpublish_list(example_list)\n",
    "\n",
    "print_status(updated_list)"
   ]
  },
  {
   "cell_type": "code",
   "execution_count": 11,
   "id": "fc5d2b0a",
   "metadata": {
    "execution": {
     "iopub.execute_input": "2025-07-29T16:27:52.668897Z",
     "iopub.status.busy": "2025-07-29T16:27:52.668503Z",
     "iopub.status.idle": "2025-07-29T16:27:52.745121Z",
     "shell.execute_reply": "2025-07-29T16:27:52.744637Z"
    },
    "nbsphinx": "hidden"
   },
   "outputs": [],
   "source": [
    "client.delete_list(example_list)"
   ]
  }
 ],
 "metadata": {
  "jupytext": {
   "formats": "ipynb,py:light"
  },
  "kernelspec": {
   "display_name": "Python 3 (ipykernel)",
   "language": "python",
   "name": "python3"
  },
  "language_info": {
   "codemirror_mode": {
    "name": "ipython",
    "version": 3
   },
   "file_extension": ".py",
   "mimetype": "text/x-python",
   "name": "python",
   "nbconvert_exporter": "python",
   "pygments_lexer": "ipython3",
   "version": "3.11.13"
  }
 },
 "nbformat": 4,
 "nbformat_minor": 5
}
