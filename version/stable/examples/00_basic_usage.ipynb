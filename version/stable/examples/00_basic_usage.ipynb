{
 "cells": [
  {
   "cell_type": "markdown",
   "id": "eb6c190d",
   "metadata": {},
   "source": [
    "# Getting started\n",
    "This example shows how to connect to Granta MI and perform basic operations on record lists."
   ]
  },
  {
   "cell_type": "markdown",
   "id": "3344f8a3",
   "metadata": {},
   "source": [
    "## Connect to Granta MI"
   ]
  },
  {
   "cell_type": "markdown",
   "id": "b1eb7faa",
   "metadata": {},
   "source": [
    "First, use the ``ansys.grantami.recordlists.Connection`` class to connect to the Granta MI\n",
    "server. The ``Connection`` class uses a fluent interface to build the connection, which is\n",
    "always invoked in the following sequence:\n",
    "\n",
    "1. Specify your Granta MI Service Layer URL as a parameter to the ``Connection`` class.\n",
    "2. Specify the authentication method using a ``Connection.with_...()`` method.\n",
    "3. Use the ``Connection.connect()`` method to finalize the connection.\n",
    "\n",
    "This returns a client object, called ``client`` in these examples."
   ]
  },
  {
   "cell_type": "code",
   "execution_count": 1,
   "id": "019c2129",
   "metadata": {
    "execution": {
     "iopub.execute_input": "2025-07-29T16:27:47.713766Z",
     "iopub.status.busy": "2025-07-29T16:27:47.713595Z",
     "iopub.status.idle": "2025-07-29T16:27:47.970354Z",
     "shell.execute_reply": "2025-07-29T16:27:47.969785Z"
    },
    "tags": []
   },
   "outputs": [],
   "source": [
    "from ansys.grantami.recordlists import Connection, RecordListItem\n",
    "\n",
    "connection = Connection(\"http://my_grantami_server/mi_servicelayer\").with_autologon()\n",
    "client = connection.connect()"
   ]
  },
  {
   "cell_type": "markdown",
   "id": "d20fa12e",
   "metadata": {},
   "source": [
    "## Create a new record list\n",
    "API operations expect a ``RecordList`` instance as input. For the purpose of this example, create\n",
    "a new record list, using the ``create_list`` method. It returns a ``RecordList`` instance."
   ]
  },
  {
   "cell_type": "code",
   "execution_count": 2,
   "id": "78c6e439",
   "metadata": {
    "execution": {
     "iopub.execute_input": "2025-07-29T16:27:47.972499Z",
     "iopub.status.busy": "2025-07-29T16:27:47.972160Z",
     "iopub.status.idle": "2025-07-29T16:27:48.034029Z",
     "shell.execute_reply": "2025-07-29T16:27:48.033497Z"
    },
    "tags": []
   },
   "outputs": [
    {
     "data": {
      "text/plain": [
       "<RecordList name: Example list>"
      ]
     },
     "execution_count": 2,
     "metadata": {},
     "output_type": "execute_result"
    }
   ],
   "source": [
    "example_list = client.create_list(\n",
    "    name=\"Example list\",\n",
    "    description=f\"Created by example 00_Basic_usage\",\n",
    ")\n",
    "example_list"
   ]
  },
  {
   "cell_type": "markdown",
   "id": "8e2c7953",
   "metadata": {},
   "source": [
    "## Get the details of an existing record list\n",
    "The ``get_list`` method allows obtaining a ``RecordList`` instance from an existing record list\n",
    "unique identifier. This can be useful when the identifier is already known, for example if it has\n",
    "been obtained from the Favorites application or if it is hard-coded in the script configuration."
   ]
  },
  {
   "cell_type": "code",
   "execution_count": 3,
   "id": "ae45910a",
   "metadata": {
    "execution": {
     "iopub.execute_input": "2025-07-29T16:27:48.035947Z",
     "iopub.status.busy": "2025-07-29T16:27:48.035607Z",
     "iopub.status.idle": "2025-07-29T16:27:48.103196Z",
     "shell.execute_reply": "2025-07-29T16:27:48.102616Z"
    },
    "tags": []
   },
   "outputs": [
    {
     "data": {
      "text/plain": [
       "<RecordList name: Example list>"
      ]
     },
     "execution_count": 3,
     "metadata": {},
     "output_type": "execute_result"
    }
   ],
   "source": [
    "list_details = client.get_list(example_list.identifier)\n",
    "list_details"
   ]
  },
  {
   "cell_type": "code",
   "execution_count": 4,
   "id": "169f3b22",
   "metadata": {
    "execution": {
     "iopub.execute_input": "2025-07-29T16:27:48.105027Z",
     "iopub.status.busy": "2025-07-29T16:27:48.104632Z",
     "iopub.status.idle": "2025-07-29T16:27:48.108192Z",
     "shell.execute_reply": "2025-07-29T16:27:48.107620Z"
    },
    "tags": []
   },
   "outputs": [
    {
     "name": "stdout",
     "output_type": "stream",
     "text": [
      "Name: Example list\n",
      "Identifier: 35aeb8b1-ed98-4da9-81dd-146bd9c78e17\n",
      "Notes: None\n",
      "Description: Created by example 00_Basic_usage\n",
      "Created timestamp: 2025-07-29 16:27:48+00:00\n"
     ]
    }
   ],
   "source": [
    "print(f\"Name: {list_details.name}\")\n",
    "print(f\"Identifier: {list_details.identifier}\")\n",
    "print(f\"Notes: {list_details.notes}\")\n",
    "print(f\"Description: {list_details.description}\")\n",
    "print(f\"Created timestamp: {list_details.created_timestamp}\")"
   ]
  },
  {
   "cell_type": "markdown",
   "id": "da754b9f",
   "metadata": {},
   "source": [
    "## Get all record lists"
   ]
  },
  {
   "cell_type": "code",
   "execution_count": 5,
   "id": "8ded92b0",
   "metadata": {
    "execution": {
     "iopub.execute_input": "2025-07-29T16:27:48.109859Z",
     "iopub.status.busy": "2025-07-29T16:27:48.109538Z",
     "iopub.status.idle": "2025-07-29T16:27:48.176461Z",
     "shell.execute_reply": "2025-07-29T16:27:48.175888Z"
    },
    "tags": []
   },
   "outputs": [
    {
     "data": {
      "text/plain": [
       "[<RecordList name: Example list>]"
      ]
     },
     "execution_count": 5,
     "metadata": {},
     "output_type": "execute_result"
    }
   ],
   "source": [
    "all_lists = client.get_all_lists()\n",
    "all_lists"
   ]
  },
  {
   "cell_type": "markdown",
   "id": "843c83e1",
   "metadata": {},
   "source": [
    "## Copy a record list"
   ]
  },
  {
   "cell_type": "code",
   "execution_count": 6,
   "id": "a8d22b06",
   "metadata": {
    "execution": {
     "iopub.execute_input": "2025-07-29T16:27:48.178172Z",
     "iopub.status.busy": "2025-07-29T16:27:48.177984Z",
     "iopub.status.idle": "2025-07-29T16:27:48.270233Z",
     "shell.execute_reply": "2025-07-29T16:27:48.269781Z"
    },
    "tags": []
   },
   "outputs": [
    {
     "data": {
      "text/plain": [
       "<RecordList name: Example list copy_20250729122748>"
      ]
     },
     "execution_count": 6,
     "metadata": {},
     "output_type": "execute_result"
    }
   ],
   "source": [
    "list_copy = client.copy_list(example_list)\n",
    "list_copy"
   ]
  },
  {
   "cell_type": "markdown",
   "id": "e7116676",
   "metadata": {},
   "source": [
    "## Update a record list"
   ]
  },
  {
   "cell_type": "code",
   "execution_count": 7,
   "id": "48e61c84",
   "metadata": {
    "execution": {
     "iopub.execute_input": "2025-07-29T16:27:48.271751Z",
     "iopub.status.busy": "2025-07-29T16:27:48.271589Z",
     "iopub.status.idle": "2025-07-29T16:27:48.356989Z",
     "shell.execute_reply": "2025-07-29T16:27:48.356565Z"
    },
    "tags": []
   },
   "outputs": [
    {
     "name": "stdout",
     "output_type": "stream",
     "text": [
      "Name: Copied - Example List\n",
      "Identifier: bda00c1d-e6e6-4ab5-9139-872c5e1a8d83\n",
      "Notes: Copy of the example list\n",
      "Description: None\n",
      "Created timestamp: 2025-07-29 16:27:48.237000+00:00\n"
     ]
    }
   ],
   "source": [
    "updated_list_copy = client.update_list(\n",
    "    list_copy,\n",
    "    name=\"Copied - Example List\",\n",
    "    description=None,\n",
    "    notes=\"Copy of the example list\",\n",
    ")\n",
    "print(f\"Name: {updated_list_copy.name}\")\n",
    "print(f\"Identifier: {updated_list_copy.identifier}\")\n",
    "print(f\"Notes: {updated_list_copy.notes}\")\n",
    "print(f\"Description: {updated_list_copy.description}\")\n",
    "print(f\"Created timestamp: {updated_list_copy.created_timestamp}\")"
   ]
  },
  {
   "cell_type": "markdown",
   "id": "416cfb3c",
   "metadata": {},
   "source": [
    "## Delete a record list"
   ]
  },
  {
   "cell_type": "code",
   "execution_count": 8,
   "id": "41f85d45",
   "metadata": {
    "execution": {
     "iopub.execute_input": "2025-07-29T16:27:48.358788Z",
     "iopub.status.busy": "2025-07-29T16:27:48.358363Z",
     "iopub.status.idle": "2025-07-29T16:27:48.430795Z",
     "shell.execute_reply": "2025-07-29T16:27:48.430315Z"
    },
    "tags": []
   },
   "outputs": [],
   "source": [
    "client.delete_list(updated_list_copy)"
   ]
  },
  {
   "cell_type": "markdown",
   "id": "86b19407",
   "metadata": {},
   "source": [
    "## Read the items in a record list\n",
    "The list was created at the beginning of this example, so the list is currently empty."
   ]
  },
  {
   "cell_type": "code",
   "execution_count": 9,
   "id": "e875801b",
   "metadata": {
    "execution": {
     "iopub.execute_input": "2025-07-29T16:27:48.432492Z",
     "iopub.status.busy": "2025-07-29T16:27:48.432179Z",
     "iopub.status.idle": "2025-07-29T16:27:48.498366Z",
     "shell.execute_reply": "2025-07-29T16:27:48.497810Z"
    },
    "tags": []
   },
   "outputs": [
    {
     "data": {
      "text/plain": [
       "[]"
      ]
     },
     "execution_count": 9,
     "metadata": {},
     "output_type": "execute_result"
    }
   ],
   "source": [
    "items = client.get_list_items(example_list)\n",
    "items"
   ]
  },
  {
   "cell_type": "markdown",
   "id": "1033cca3",
   "metadata": {},
   "source": [
    "## Add items to a record list\n",
    "Add items to a list using ``add_items_to_list``.\n",
    "Items are described using the database GUID, table GUID, and record history GUID."
   ]
  },
  {
   "cell_type": "code",
   "execution_count": 10,
   "id": "a68eeaad",
   "metadata": {
    "execution": {
     "iopub.execute_input": "2025-07-29T16:27:48.500027Z",
     "iopub.status.busy": "2025-07-29T16:27:48.499718Z",
     "iopub.status.idle": "2025-07-29T16:27:48.602460Z",
     "shell.execute_reply": "2025-07-29T16:27:48.601952Z"
    },
    "tags": []
   },
   "outputs": [
    {
     "data": {
      "text/plain": [
       "[<RecordListItem(database_guid='e595fe23-b450-4d18-8c08-4a0f378ef095', record_history_guid='3bc2b82f-0199-4f3b-a7af-8d520250b180')>]"
      ]
     },
     "execution_count": 10,
     "metadata": {},
     "output_type": "execute_result"
    }
   ],
   "source": [
    "client.add_items_to_list(\n",
    "    example_list,\n",
    "    items=[\n",
    "        RecordListItem(\n",
    "            database_guid=\"e595fe23-b450-4d18-8c08-4a0f378ef095\",\n",
    "            table_guid=\"81dff531-0254-4fbe-9621-174b10aaee3d\",\n",
    "            record_history_guid=\"3bc2b82f-0199-4f3b-a7af-8d520250b180\",\n",
    "        ),\n",
    "    ],\n",
    ")"
   ]
  },
  {
   "cell_type": "markdown",
   "id": "8a5b9d72",
   "metadata": {},
   "source": [
    "Then retrieve the items and confirm that the record list now includes the added items."
   ]
  },
  {
   "cell_type": "code",
   "execution_count": 11,
   "id": "fa8bf438",
   "metadata": {
    "execution": {
     "iopub.execute_input": "2025-07-29T16:27:48.604165Z",
     "iopub.status.busy": "2025-07-29T16:27:48.603827Z",
     "iopub.status.idle": "2025-07-29T16:27:48.672583Z",
     "shell.execute_reply": "2025-07-29T16:27:48.672023Z"
    },
    "tags": []
   },
   "outputs": [
    {
     "data": {
      "text/plain": [
       "[<RecordListItem(database_guid='e595fe23-b450-4d18-8c08-4a0f378ef095', record_history_guid='3bc2b82f-0199-4f3b-a7af-8d520250b180')>]"
      ]
     },
     "execution_count": 11,
     "metadata": {},
     "output_type": "execute_result"
    }
   ],
   "source": [
    "list_items = client.get_list_items(example_list)\n",
    "list_items"
   ]
  },
  {
   "cell_type": "markdown",
   "id": "ed233d7c",
   "metadata": {},
   "source": [
    "## Remove items from a record list\n",
    "Remove items from a record list using ``remove_items_from_list``."
   ]
  },
  {
   "cell_type": "code",
   "execution_count": 12,
   "id": "cec70976",
   "metadata": {
    "execution": {
     "iopub.execute_input": "2025-07-29T16:27:48.674200Z",
     "iopub.status.busy": "2025-07-29T16:27:48.673874Z",
     "iopub.status.idle": "2025-07-29T16:27:48.761066Z",
     "shell.execute_reply": "2025-07-29T16:27:48.760541Z"
    },
    "tags": []
   },
   "outputs": [
    {
     "data": {
      "text/plain": [
       "[]"
      ]
     },
     "execution_count": 12,
     "metadata": {},
     "output_type": "execute_result"
    }
   ],
   "source": [
    "client.remove_items_from_list(\n",
    "    example_list,\n",
    "    items=list_items,\n",
    ")"
   ]
  },
  {
   "cell_type": "markdown",
   "id": "62eccfa9",
   "metadata": {},
   "source": [
    "Then retrieve the items again and confirm that the record list is empty."
   ]
  },
  {
   "cell_type": "code",
   "execution_count": 13,
   "id": "fd73162c",
   "metadata": {
    "execution": {
     "iopub.execute_input": "2025-07-29T16:27:48.762545Z",
     "iopub.status.busy": "2025-07-29T16:27:48.762387Z",
     "iopub.status.idle": "2025-07-29T16:27:48.827058Z",
     "shell.execute_reply": "2025-07-29T16:27:48.826512Z"
    },
    "lines_to_next_cell": 2,
    "tags": []
   },
   "outputs": [
    {
     "data": {
      "text/plain": [
       "[]"
      ]
     },
     "execution_count": 13,
     "metadata": {},
     "output_type": "execute_result"
    }
   ],
   "source": [
    "items = client.get_list_items(example_list)\n",
    "items"
   ]
  },
  {
   "cell_type": "code",
   "execution_count": 14,
   "id": "1528ce04",
   "metadata": {
    "execution": {
     "iopub.execute_input": "2025-07-29T16:27:48.828643Z",
     "iopub.status.busy": "2025-07-29T16:27:48.828330Z",
     "iopub.status.idle": "2025-07-29T16:27:48.898681Z",
     "shell.execute_reply": "2025-07-29T16:27:48.898112Z"
    },
    "nbsphinx": "hidden"
   },
   "outputs": [],
   "source": [
    "client.delete_list(example_list)"
   ]
  }
 ],
 "metadata": {
  "jupytext": {
   "formats": "ipynb,py:light"
  },
  "kernelspec": {
   "display_name": "Python 3 (ipykernel)",
   "language": "python",
   "name": "python3"
  },
  "language_info": {
   "codemirror_mode": {
    "name": "ipython",
    "version": 3
   },
   "file_extension": ".py",
   "mimetype": "text/x-python",
   "name": "python",
   "nbconvert_exporter": "python",
   "pygments_lexer": "ipython3",
   "version": "3.11.13"
  }
 },
 "nbformat": 4,
 "nbformat_minor": 5
}
