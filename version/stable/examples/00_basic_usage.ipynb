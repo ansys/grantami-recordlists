{
 "cells": [
  {
   "cell_type": "markdown",
   "id": "f5780c15",
   "metadata": {},
   "source": [
    "# Getting started\n",
    "This example shows how to connect to Granta MI and perform basic operations on record lists."
   ]
  },
  {
   "cell_type": "markdown",
   "id": "9364ad39",
   "metadata": {},
   "source": [
    "## Connect to Granta MI"
   ]
  },
  {
   "cell_type": "markdown",
   "id": "bc637277",
   "metadata": {},
   "source": [
    "First, use the ``ansys.grantami.recordlists.Connection`` class to connect to the Granta MI\n",
    "server. The ``Connection`` class uses a fluent interface to build the connection, which is\n",
    "always invoked in the following sequence:\n",
    "\n",
    "1. Specify your Granta MI Service Layer URL as a parameter to the ``Connection`` class.\n",
    "2. Specify the authentication method using a ``Connection.with_...()`` method.\n",
    "3. Use the ``Connection.connect()`` method to finalize the connection.\n",
    "\n",
    "This returns a client object, called ``client`` in these examples."
   ]
  },
  {
   "cell_type": "code",
   "execution_count": 1,
   "id": "e0e2684c",
   "metadata": {
    "execution": {
     "iopub.execute_input": "2024-05-02T16:35:23.396978Z",
     "iopub.status.busy": "2024-05-02T16:35:23.396779Z",
     "iopub.status.idle": "2024-05-02T16:35:26.383603Z",
     "shell.execute_reply": "2024-05-02T16:35:26.382971Z"
    },
    "tags": []
   },
   "outputs": [],
   "source": [
    "from ansys.grantami.recordlists import Connection, RecordListItem\n",
    "\n",
    "connection = Connection(\"http://my_grantami_server/mi_servicelayer\").with_autologon()\n",
    "client = connection.connect()"
   ]
  },
  {
   "cell_type": "markdown",
   "id": "5141725e",
   "metadata": {},
   "source": [
    "## Create a new record list\n",
    "API operations expect a ``RecordList`` instance as input. For the purpose of this example, create\n",
    "a new record list, using the ``create_list`` method. It returns a ``RecordList`` instance."
   ]
  },
  {
   "cell_type": "code",
   "execution_count": 2,
   "id": "a9e4d318",
   "metadata": {
    "execution": {
     "iopub.execute_input": "2024-05-02T16:35:26.386431Z",
     "iopub.status.busy": "2024-05-02T16:35:26.386159Z",
     "iopub.status.idle": "2024-05-02T16:35:26.463809Z",
     "shell.execute_reply": "2024-05-02T16:35:26.463159Z"
    },
    "tags": []
   },
   "outputs": [
    {
     "data": {
      "text/plain": [
       "<RecordList name: Example list>"
      ]
     },
     "execution_count": 2,
     "metadata": {},
     "output_type": "execute_result"
    }
   ],
   "source": [
    "example_list = client.create_list(\n",
    "    name=\"Example list\",\n",
    "    description=f\"Created by example 00_Basic_usage\",\n",
    ")\n",
    "example_list"
   ]
  },
  {
   "cell_type": "markdown",
   "id": "95d35657",
   "metadata": {},
   "source": [
    "## Get the details of an existing record list\n",
    "The ``get_list`` method allows obtaining a ``RecordList`` instance from an existing record list\n",
    "unique identifier. This can be useful when the identifier is already known, for example if it has\n",
    "been obtained from the Favorites application or if it is hard-coded in the script configuration."
   ]
  },
  {
   "cell_type": "code",
   "execution_count": 3,
   "id": "1b8f85fe",
   "metadata": {
    "execution": {
     "iopub.execute_input": "2024-05-02T16:35:26.466188Z",
     "iopub.status.busy": "2024-05-02T16:35:26.465990Z",
     "iopub.status.idle": "2024-05-02T16:35:26.547644Z",
     "shell.execute_reply": "2024-05-02T16:35:26.546979Z"
    },
    "tags": []
   },
   "outputs": [
    {
     "data": {
      "text/plain": [
       "<RecordList name: Example list>"
      ]
     },
     "execution_count": 3,
     "metadata": {},
     "output_type": "execute_result"
    }
   ],
   "source": [
    "list_details = client.get_list(example_list.identifier)\n",
    "list_details"
   ]
  },
  {
   "cell_type": "code",
   "execution_count": 4,
   "id": "ec276e53",
   "metadata": {
    "execution": {
     "iopub.execute_input": "2024-05-02T16:35:26.549919Z",
     "iopub.status.busy": "2024-05-02T16:35:26.549719Z",
     "iopub.status.idle": "2024-05-02T16:35:26.553514Z",
     "shell.execute_reply": "2024-05-02T16:35:26.552886Z"
    },
    "tags": []
   },
   "outputs": [
    {
     "name": "stdout",
     "output_type": "stream",
     "text": [
      "Name: Example list\n",
      "Identifier: 7787b9a0-7983-4730-927a-4e2b96aa9552\n",
      "Notes: None\n",
      "Description: Created by example 00_Basic_usage\n",
      "Created timestamp: 2024-05-02 16:35:26.427000+00:00\n"
     ]
    }
   ],
   "source": [
    "print(f\"Name: {list_details.name}\")\n",
    "print(f\"Identifier: {list_details.identifier}\")\n",
    "print(f\"Notes: {list_details.notes}\")\n",
    "print(f\"Description: {list_details.description}\")\n",
    "print(f\"Created timestamp: {list_details.created_timestamp}\")"
   ]
  },
  {
   "cell_type": "markdown",
   "id": "3f6060bc",
   "metadata": {},
   "source": [
    "## Get all record lists"
   ]
  },
  {
   "cell_type": "code",
   "execution_count": 5,
   "id": "e236d75e",
   "metadata": {
    "execution": {
     "iopub.execute_input": "2024-05-02T16:35:26.555771Z",
     "iopub.status.busy": "2024-05-02T16:35:26.555580Z",
     "iopub.status.idle": "2024-05-02T16:35:26.627467Z",
     "shell.execute_reply": "2024-05-02T16:35:26.626928Z"
    },
    "tags": []
   },
   "outputs": [
    {
     "data": {
      "text/plain": [
       "[<RecordList name: Example list>,\n",
       " <RecordList name: IntegrationTestList_6f35d35c-ee80-44e9-b100-c35606b8f4bc>,\n",
       " <RecordList name: IntegrationTestList_19a0adca-179e-4b52-a0eb-52bd853d87d4>,\n",
       " <RecordList name: IntegrationTestList_6bfe2a72-1baa-4adc-94f7-9ec5f110a6d0>,\n",
       " <RecordList name: IntegrationTestList_ef8fb6be-49c9-4e85-9ecb-c2f0dd3de499>]"
      ]
     },
     "execution_count": 5,
     "metadata": {},
     "output_type": "execute_result"
    }
   ],
   "source": [
    "all_lists = client.get_all_lists()\n",
    "all_lists"
   ]
  },
  {
   "cell_type": "markdown",
   "id": "1c01ac93",
   "metadata": {},
   "source": [
    "## Copy a record list"
   ]
  },
  {
   "cell_type": "code",
   "execution_count": 6,
   "id": "16ee25bc",
   "metadata": {
    "execution": {
     "iopub.execute_input": "2024-05-02T16:35:26.629675Z",
     "iopub.status.busy": "2024-05-02T16:35:26.629482Z",
     "iopub.status.idle": "2024-05-02T16:35:26.711122Z",
     "shell.execute_reply": "2024-05-02T16:35:26.710439Z"
    },
    "tags": []
   },
   "outputs": [
    {
     "data": {
      "text/plain": [
       "<RecordList name: Example list copy_20240502123526>"
      ]
     },
     "execution_count": 6,
     "metadata": {},
     "output_type": "execute_result"
    }
   ],
   "source": [
    "list_copy = client.copy_list(example_list)\n",
    "list_copy"
   ]
  },
  {
   "cell_type": "markdown",
   "id": "04c68c59",
   "metadata": {},
   "source": [
    "## Update a record list"
   ]
  },
  {
   "cell_type": "code",
   "execution_count": 7,
   "id": "e26b3e3e",
   "metadata": {
    "execution": {
     "iopub.execute_input": "2024-05-02T16:35:26.713513Z",
     "iopub.status.busy": "2024-05-02T16:35:26.713274Z",
     "iopub.status.idle": "2024-05-02T16:35:26.795445Z",
     "shell.execute_reply": "2024-05-02T16:35:26.794866Z"
    },
    "tags": []
   },
   "outputs": [
    {
     "name": "stdout",
     "output_type": "stream",
     "text": [
      "Name: Copied - Example List\n",
      "Identifier: 156195f7-cd80-45d2-b7e8-e7a10d0ec272\n",
      "Notes: Copy of the example list\n",
      "Description: None\n",
      "Created timestamp: 2024-05-02 16:35:26.677000+00:00\n"
     ]
    }
   ],
   "source": [
    "updated_list_copy = client.update_list(\n",
    "    list_copy,\n",
    "    name=\"Copied - Example List\",\n",
    "    description=None,\n",
    "    notes=\"Copy of the example list\",\n",
    ")\n",
    "print(f\"Name: {updated_list_copy.name}\")\n",
    "print(f\"Identifier: {updated_list_copy.identifier}\")\n",
    "print(f\"Notes: {updated_list_copy.notes}\")\n",
    "print(f\"Description: {updated_list_copy.description}\")\n",
    "print(f\"Created timestamp: {updated_list_copy.created_timestamp}\")"
   ]
  },
  {
   "cell_type": "markdown",
   "id": "d310a31a",
   "metadata": {},
   "source": [
    "## Delete a record list"
   ]
  },
  {
   "cell_type": "code",
   "execution_count": 8,
   "id": "bb3988de",
   "metadata": {
    "execution": {
     "iopub.execute_input": "2024-05-02T16:35:26.797697Z",
     "iopub.status.busy": "2024-05-02T16:35:26.797503Z",
     "iopub.status.idle": "2024-05-02T16:35:26.873336Z",
     "shell.execute_reply": "2024-05-02T16:35:26.872719Z"
    },
    "tags": []
   },
   "outputs": [],
   "source": [
    "client.delete_list(updated_list_copy)"
   ]
  },
  {
   "cell_type": "markdown",
   "id": "ff760a04",
   "metadata": {},
   "source": [
    "## Read the items in a record list\n",
    "The list was created at the beginning of this example, so the list is currently empty."
   ]
  },
  {
   "cell_type": "code",
   "execution_count": 9,
   "id": "175d174e",
   "metadata": {
    "execution": {
     "iopub.execute_input": "2024-05-02T16:35:26.875921Z",
     "iopub.status.busy": "2024-05-02T16:35:26.875723Z",
     "iopub.status.idle": "2024-05-02T16:35:26.950670Z",
     "shell.execute_reply": "2024-05-02T16:35:26.949953Z"
    },
    "tags": []
   },
   "outputs": [
    {
     "data": {
      "text/plain": [
       "[]"
      ]
     },
     "execution_count": 9,
     "metadata": {},
     "output_type": "execute_result"
    }
   ],
   "source": [
    "items = client.get_list_items(example_list)\n",
    "items"
   ]
  },
  {
   "cell_type": "markdown",
   "id": "e0912597",
   "metadata": {},
   "source": [
    "## Add items to a record list\n",
    "Add items to a list using ``add_items_to_list``.\n",
    "Items are described using the database GUID, table GUID, and record history GUID."
   ]
  },
  {
   "cell_type": "code",
   "execution_count": 10,
   "id": "1b4d5cd9",
   "metadata": {
    "execution": {
     "iopub.execute_input": "2024-05-02T16:35:26.953038Z",
     "iopub.status.busy": "2024-05-02T16:35:26.952833Z",
     "iopub.status.idle": "2024-05-02T16:35:27.041318Z",
     "shell.execute_reply": "2024-05-02T16:35:27.040668Z"
    },
    "tags": []
   },
   "outputs": [
    {
     "data": {
      "text/plain": [
       "[<RecordListItem(database_guid='e595fe23-b450-4d18-8c08-4a0f378ef095', record_history_guid='3bc2b82f-0199-4f3b-a7af-8d520250b180')>]"
      ]
     },
     "execution_count": 10,
     "metadata": {},
     "output_type": "execute_result"
    }
   ],
   "source": [
    "client.add_items_to_list(\n",
    "    example_list,\n",
    "    items=[\n",
    "        RecordListItem(\n",
    "            database_guid=\"e595fe23-b450-4d18-8c08-4a0f378ef095\",\n",
    "            table_guid=\"81dff531-0254-4fbe-9621-174b10aaee3d\",\n",
    "            record_history_guid=\"3bc2b82f-0199-4f3b-a7af-8d520250b180\",\n",
    "        ),\n",
    "    ],\n",
    ")"
   ]
  },
  {
   "cell_type": "markdown",
   "id": "fd552b61",
   "metadata": {},
   "source": [
    "Then retrieve the items and confirm that the record list now includes the added items."
   ]
  },
  {
   "cell_type": "code",
   "execution_count": 11,
   "id": "c732e21c",
   "metadata": {
    "execution": {
     "iopub.execute_input": "2024-05-02T16:35:27.043720Z",
     "iopub.status.busy": "2024-05-02T16:35:27.043519Z",
     "iopub.status.idle": "2024-05-02T16:35:27.118109Z",
     "shell.execute_reply": "2024-05-02T16:35:27.117515Z"
    },
    "tags": []
   },
   "outputs": [
    {
     "data": {
      "text/plain": [
       "[<RecordListItem(database_guid='e595fe23-b450-4d18-8c08-4a0f378ef095', record_history_guid='3bc2b82f-0199-4f3b-a7af-8d520250b180')>]"
      ]
     },
     "execution_count": 11,
     "metadata": {},
     "output_type": "execute_result"
    }
   ],
   "source": [
    "list_items = client.get_list_items(example_list)\n",
    "list_items"
   ]
  },
  {
   "cell_type": "markdown",
   "id": "fdb31aad",
   "metadata": {},
   "source": [
    "## Remove items from a record list\n",
    "Remove items from a record list using ``remove_items_from_list``."
   ]
  },
  {
   "cell_type": "code",
   "execution_count": 12,
   "id": "276bc61d",
   "metadata": {
    "execution": {
     "iopub.execute_input": "2024-05-02T16:35:27.120537Z",
     "iopub.status.busy": "2024-05-02T16:35:27.120339Z",
     "iopub.status.idle": "2024-05-02T16:35:27.207833Z",
     "shell.execute_reply": "2024-05-02T16:35:27.207181Z"
    },
    "tags": []
   },
   "outputs": [
    {
     "data": {
      "text/plain": [
       "[]"
      ]
     },
     "execution_count": 12,
     "metadata": {},
     "output_type": "execute_result"
    }
   ],
   "source": [
    "client.remove_items_from_list(\n",
    "    example_list,\n",
    "    items=list_items,\n",
    ")"
   ]
  },
  {
   "cell_type": "markdown",
   "id": "b01efd02",
   "metadata": {},
   "source": [
    "Then retrieve the items again and confirm that the record list is empty."
   ]
  },
  {
   "cell_type": "code",
   "execution_count": 13,
   "id": "f5c47c48",
   "metadata": {
    "execution": {
     "iopub.execute_input": "2024-05-02T16:35:27.210247Z",
     "iopub.status.busy": "2024-05-02T16:35:27.210049Z",
     "iopub.status.idle": "2024-05-02T16:35:27.284740Z",
     "shell.execute_reply": "2024-05-02T16:35:27.284177Z"
    },
    "lines_to_next_cell": 2,
    "tags": []
   },
   "outputs": [
    {
     "data": {
      "text/plain": [
       "[]"
      ]
     },
     "execution_count": 13,
     "metadata": {},
     "output_type": "execute_result"
    }
   ],
   "source": [
    "items = client.get_list_items(example_list)\n",
    "items"
   ]
  },
  {
   "cell_type": "code",
   "execution_count": 14,
   "id": "b913ccd1",
   "metadata": {
    "execution": {
     "iopub.execute_input": "2024-05-02T16:35:27.286918Z",
     "iopub.status.busy": "2024-05-02T16:35:27.286726Z",
     "iopub.status.idle": "2024-05-02T16:35:27.363889Z",
     "shell.execute_reply": "2024-05-02T16:35:27.363193Z"
    },
    "nbsphinx": "hidden"
   },
   "outputs": [],
   "source": [
    "client.delete_list(example_list)"
   ]
  }
 ],
 "metadata": {
  "jupytext": {
   "formats": "ipynb,py:light"
  },
  "kernelspec": {
   "display_name": "Python 3 (ipykernel)",
   "language": "python",
   "name": "python3"
  },
  "language_info": {
   "codemirror_mode": {
    "name": "ipython",
    "version": 3
   },
   "file_extension": ".py",
   "mimetype": "text/x-python",
   "name": "python",
   "nbconvert_exporter": "python",
   "pygments_lexer": "ipython3",
   "version": "3.10.14"
  }
 },
 "nbformat": 4,
 "nbformat_minor": 5
}
