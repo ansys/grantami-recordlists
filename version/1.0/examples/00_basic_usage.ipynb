{
 "cells": [
  {
   "cell_type": "markdown",
   "id": "466e91fe",
   "metadata": {},
   "source": [
    "# Getting started\n",
    "This example shows how to connect to Granta MI and perform basic operations on record lists."
   ]
  },
  {
   "cell_type": "markdown",
   "id": "a0fcd5b3",
   "metadata": {},
   "source": [
    "## Connect to Granta MI"
   ]
  },
  {
   "cell_type": "markdown",
   "id": "5e7abc52",
   "metadata": {},
   "source": [
    "First, use the ``ansys.grantami.recordlists.Connection`` class to connect to the Granta MI\n",
    "server. The ``Connection`` class uses a fluent interface to build the connection, which is\n",
    "always invoked in the following sequence:\n",
    "\n",
    "1. Specify your Granta MI Service Layer URL as a parameter to the ``Connection`` class.\n",
    "2. Specify the authentication method using a ``Connection.with_...()`` method.\n",
    "3. Use the ``Connection.connect()`` method to finalize the connection.\n",
    "\n",
    "This returns a client object, called ``client`` in these examples."
   ]
  },
  {
   "cell_type": "code",
   "execution_count": 1,
   "id": "5e6b0be4",
   "metadata": {
    "execution": {
     "iopub.execute_input": "2023-06-19T09:19:50.335644Z",
     "iopub.status.busy": "2023-06-19T09:19:50.335029Z",
     "iopub.status.idle": "2023-06-19T09:19:53.120490Z",
     "shell.execute_reply": "2023-06-19T09:19:53.119515Z"
    },
    "tags": []
   },
   "outputs": [],
   "source": [
    "from ansys.grantami.recordlists import Connection, RecordListItem\n",
    "\n",
    "connection = Connection(\"http://my_grantami_server/mi_servicelayer\").with_autologon()\n",
    "client = connection.connect()"
   ]
  },
  {
   "cell_type": "markdown",
   "id": "d906dae2",
   "metadata": {},
   "source": [
    "## Create a new record list\n",
    "API operations expect a ``RecordList`` instance as input. For the purpose of this example, create\n",
    "a new record list, using the ``create_list`` method. It returns a ``RecordList`` instance."
   ]
  },
  {
   "cell_type": "code",
   "execution_count": 2,
   "id": "b33261fc",
   "metadata": {
    "execution": {
     "iopub.execute_input": "2023-06-19T09:19:53.125126Z",
     "iopub.status.busy": "2023-06-19T09:19:53.124571Z",
     "iopub.status.idle": "2023-06-19T09:19:53.329491Z",
     "shell.execute_reply": "2023-06-19T09:19:53.328503Z"
    },
    "tags": []
   },
   "outputs": [
    {
     "data": {
      "text/plain": [
       "<RecordList name: Example list>"
      ]
     },
     "execution_count": 2,
     "metadata": {},
     "output_type": "execute_result"
    }
   ],
   "source": [
    "example_list = client.create_list(\n",
    "    name=\"Example list\",\n",
    "    description=f\"Created by example 00_Basic_usage\",\n",
    ")\n",
    "example_list"
   ]
  },
  {
   "cell_type": "markdown",
   "id": "f3d91db6",
   "metadata": {},
   "source": [
    "## Get the details of an existing record list\n",
    "The ``get_list`` method allows obtaining a ``RecordList`` instance from an existing record list\n",
    "unique identifier. This can be useful when the identifier is already known, for example if it has\n",
    "been obtained from the Favorites application or if it is hard-coded in the script configuration."
   ]
  },
  {
   "cell_type": "code",
   "execution_count": 3,
   "id": "0ae0c703",
   "metadata": {
    "execution": {
     "iopub.execute_input": "2023-06-19T09:19:53.335073Z",
     "iopub.status.busy": "2023-06-19T09:19:53.334558Z",
     "iopub.status.idle": "2023-06-19T09:19:53.528753Z",
     "shell.execute_reply": "2023-06-19T09:19:53.527487Z"
    },
    "tags": []
   },
   "outputs": [
    {
     "data": {
      "text/plain": [
       "<RecordList name: Example list>"
      ]
     },
     "execution_count": 3,
     "metadata": {},
     "output_type": "execute_result"
    }
   ],
   "source": [
    "list_details = client.get_list(example_list.identifier)\n",
    "list_details"
   ]
  },
  {
   "cell_type": "code",
   "execution_count": 4,
   "id": "d3c59182",
   "metadata": {
    "execution": {
     "iopub.execute_input": "2023-06-19T09:19:53.535884Z",
     "iopub.status.busy": "2023-06-19T09:19:53.535013Z",
     "iopub.status.idle": "2023-06-19T09:19:53.541164Z",
     "shell.execute_reply": "2023-06-19T09:19:53.540012Z"
    },
    "tags": []
   },
   "outputs": [
    {
     "name": "stdout",
     "output_type": "stream",
     "text": [
      "Name: Example list\n",
      "Identifier: da527afb-b05e-4e2e-87b4-b594b37e9b73\n",
      "Notes: None\n",
      "Description: Created by example 00_Basic_usage\n",
      "Created timestamp: 2023-06-19 09:19:53.210000+00:00\n"
     ]
    }
   ],
   "source": [
    "print(f\"Name: {list_details.name}\")\n",
    "print(f\"Identifier: {list_details.identifier}\")\n",
    "print(f\"Notes: {list_details.notes}\")\n",
    "print(f\"Description: {list_details.description}\")\n",
    "print(f\"Created timestamp: {list_details.created_timestamp}\")"
   ]
  },
  {
   "cell_type": "markdown",
   "id": "758ad535",
   "metadata": {},
   "source": [
    "## Get all record lists"
   ]
  },
  {
   "cell_type": "code",
   "execution_count": 5,
   "id": "a296919c",
   "metadata": {
    "execution": {
     "iopub.execute_input": "2023-06-19T09:19:53.545693Z",
     "iopub.status.busy": "2023-06-19T09:19:53.545101Z",
     "iopub.status.idle": "2023-06-19T09:19:53.746187Z",
     "shell.execute_reply": "2023-06-19T09:19:53.745207Z"
    },
    "tags": []
   },
   "outputs": [
    {
     "data": {
      "text/plain": [
       "[<RecordList name: Example list>]"
      ]
     },
     "execution_count": 5,
     "metadata": {},
     "output_type": "execute_result"
    }
   ],
   "source": [
    "all_lists = client.get_all_lists()\n",
    "all_lists"
   ]
  },
  {
   "cell_type": "markdown",
   "id": "bed5da6e",
   "metadata": {},
   "source": [
    "## Copy a record list"
   ]
  },
  {
   "cell_type": "code",
   "execution_count": 6,
   "id": "4502726f",
   "metadata": {
    "execution": {
     "iopub.execute_input": "2023-06-19T09:19:53.750628Z",
     "iopub.status.busy": "2023-06-19T09:19:53.750027Z",
     "iopub.status.idle": "2023-06-19T09:19:53.955924Z",
     "shell.execute_reply": "2023-06-19T09:19:53.955010Z"
    },
    "tags": []
   },
   "outputs": [
    {
     "data": {
      "text/plain": [
       "<RecordList name: Example list copy_20230619091953>"
      ]
     },
     "execution_count": 6,
     "metadata": {},
     "output_type": "execute_result"
    }
   ],
   "source": [
    "list_copy = client.copy_list(example_list)\n",
    "list_copy"
   ]
  },
  {
   "cell_type": "markdown",
   "id": "1b611d1e",
   "metadata": {},
   "source": [
    "## Update a record list"
   ]
  },
  {
   "cell_type": "code",
   "execution_count": 7,
   "id": "22e1719a",
   "metadata": {
    "execution": {
     "iopub.execute_input": "2023-06-19T09:19:53.959898Z",
     "iopub.status.busy": "2023-06-19T09:19:53.959333Z",
     "iopub.status.idle": "2023-06-19T09:19:54.174320Z",
     "shell.execute_reply": "2023-06-19T09:19:54.173057Z"
    },
    "tags": []
   },
   "outputs": [
    {
     "name": "stdout",
     "output_type": "stream",
     "text": [
      "Name: Copied - Example List\n",
      "Identifier: 5bd93a83-063f-40a5-813f-5cd62018c3f5\n",
      "Notes: Copy of the example list\n",
      "Description: None\n",
      "Created timestamp: 2023-06-19 09:19:53.840000+00:00\n"
     ]
    }
   ],
   "source": [
    "updated_list_copy = client.update_list(\n",
    "    list_copy,\n",
    "    name=\"Copied - Example List\",\n",
    "    description=None,\n",
    "    notes=\"Copy of the example list\",\n",
    ")\n",
    "print(f\"Name: {updated_list_copy.name}\")\n",
    "print(f\"Identifier: {updated_list_copy.identifier}\")\n",
    "print(f\"Notes: {updated_list_copy.notes}\")\n",
    "print(f\"Description: {updated_list_copy.description}\")\n",
    "print(f\"Created timestamp: {updated_list_copy.created_timestamp}\")"
   ]
  },
  {
   "cell_type": "markdown",
   "id": "aa93db42",
   "metadata": {},
   "source": [
    "## Delete a record list"
   ]
  },
  {
   "cell_type": "code",
   "execution_count": 8,
   "id": "7fdf6d25",
   "metadata": {
    "execution": {
     "iopub.execute_input": "2023-06-19T09:19:54.178879Z",
     "iopub.status.busy": "2023-06-19T09:19:54.178260Z",
     "iopub.status.idle": "2023-06-19T09:19:54.378429Z",
     "shell.execute_reply": "2023-06-19T09:19:54.377056Z"
    },
    "tags": []
   },
   "outputs": [],
   "source": [
    "client.delete_list(updated_list_copy)"
   ]
  },
  {
   "cell_type": "markdown",
   "id": "3e150118",
   "metadata": {},
   "source": [
    "## Read the items in a record list\n",
    "The list was created at the beginning of this example, so the list is currently empty."
   ]
  },
  {
   "cell_type": "code",
   "execution_count": 9,
   "id": "63650c22",
   "metadata": {
    "execution": {
     "iopub.execute_input": "2023-06-19T09:19:54.382919Z",
     "iopub.status.busy": "2023-06-19T09:19:54.382314Z",
     "iopub.status.idle": "2023-06-19T09:19:54.575997Z",
     "shell.execute_reply": "2023-06-19T09:19:54.574858Z"
    },
    "tags": []
   },
   "outputs": [
    {
     "data": {
      "text/plain": [
       "[]"
      ]
     },
     "execution_count": 9,
     "metadata": {},
     "output_type": "execute_result"
    }
   ],
   "source": [
    "items = client.get_list_items(example_list)\n",
    "items"
   ]
  },
  {
   "cell_type": "markdown",
   "id": "00eecf09",
   "metadata": {},
   "source": [
    "## Add items to a record list\n",
    "Add items to a list using ``add_items_to_list``.\n",
    "Items are described using the database GUID, table GUID, and record history GUID."
   ]
  },
  {
   "cell_type": "code",
   "execution_count": 10,
   "id": "7e8e38f3",
   "metadata": {
    "execution": {
     "iopub.execute_input": "2023-06-19T09:19:54.581413Z",
     "iopub.status.busy": "2023-06-19T09:19:54.580437Z",
     "iopub.status.idle": "2023-06-19T09:19:54.789726Z",
     "shell.execute_reply": "2023-06-19T09:19:54.788517Z"
    },
    "tags": []
   },
   "outputs": [
    {
     "data": {
      "text/plain": [
       "[<RecordListItem(database_guid='e595fe23-b450-4d18-8c08-4a0f378ef095', record_history_guid='3bc2b82f-0199-4f3b-a7af-8d520250b180')>]"
      ]
     },
     "execution_count": 10,
     "metadata": {},
     "output_type": "execute_result"
    }
   ],
   "source": [
    "client.add_items_to_list(\n",
    "    example_list,\n",
    "    items=[\n",
    "        RecordListItem(\n",
    "            database_guid=\"e595fe23-b450-4d18-8c08-4a0f378ef095\",\n",
    "            table_guid=\"81dff531-0254-4fbe-9621-174b10aaee3d\",\n",
    "            record_history_guid=\"3bc2b82f-0199-4f3b-a7af-8d520250b180\",\n",
    "        ),\n",
    "    ],\n",
    ")"
   ]
  },
  {
   "cell_type": "markdown",
   "id": "817f0b81",
   "metadata": {},
   "source": [
    "Then retrieve the items and confirm that the record list now includes the added items."
   ]
  },
  {
   "cell_type": "code",
   "execution_count": 11,
   "id": "059fd757",
   "metadata": {
    "execution": {
     "iopub.execute_input": "2023-06-19T09:19:54.796135Z",
     "iopub.status.busy": "2023-06-19T09:19:54.795307Z",
     "iopub.status.idle": "2023-06-19T09:19:54.991004Z",
     "shell.execute_reply": "2023-06-19T09:19:54.989948Z"
    },
    "tags": []
   },
   "outputs": [
    {
     "data": {
      "text/plain": [
       "[<RecordListItem(database_guid='e595fe23-b450-4d18-8c08-4a0f378ef095', record_history_guid='3bc2b82f-0199-4f3b-a7af-8d520250b180')>]"
      ]
     },
     "execution_count": 11,
     "metadata": {},
     "output_type": "execute_result"
    }
   ],
   "source": [
    "list_items = client.get_list_items(example_list)\n",
    "list_items"
   ]
  },
  {
   "cell_type": "markdown",
   "id": "98ac7f4b",
   "metadata": {},
   "source": [
    "## Remove items from a record list\n",
    "Remove items from a record list using ``remove_items_from_list``."
   ]
  },
  {
   "cell_type": "code",
   "execution_count": 12,
   "id": "cd1022a5",
   "metadata": {
    "execution": {
     "iopub.execute_input": "2023-06-19T09:19:54.995176Z",
     "iopub.status.busy": "2023-06-19T09:19:54.994636Z",
     "iopub.status.idle": "2023-06-19T09:19:55.205785Z",
     "shell.execute_reply": "2023-06-19T09:19:55.204818Z"
    },
    "tags": []
   },
   "outputs": [
    {
     "data": {
      "text/plain": [
       "[]"
      ]
     },
     "execution_count": 12,
     "metadata": {},
     "output_type": "execute_result"
    }
   ],
   "source": [
    "client.remove_items_from_list(\n",
    "    example_list,\n",
    "    items=list_items,\n",
    ")"
   ]
  },
  {
   "cell_type": "markdown",
   "id": "52155f0f",
   "metadata": {},
   "source": [
    "Then retrieve the items again and confirm that the record list is empty."
   ]
  },
  {
   "cell_type": "code",
   "execution_count": 13,
   "id": "acdb3fa3",
   "metadata": {
    "execution": {
     "iopub.execute_input": "2023-06-19T09:19:55.210264Z",
     "iopub.status.busy": "2023-06-19T09:19:55.209656Z",
     "iopub.status.idle": "2023-06-19T09:19:55.401819Z",
     "shell.execute_reply": "2023-06-19T09:19:55.400703Z"
    },
    "lines_to_next_cell": 2,
    "tags": []
   },
   "outputs": [
    {
     "data": {
      "text/plain": [
       "[]"
      ]
     },
     "execution_count": 13,
     "metadata": {},
     "output_type": "execute_result"
    }
   ],
   "source": [
    "items = client.get_list_items(example_list)\n",
    "items"
   ]
  },
  {
   "cell_type": "code",
   "execution_count": 14,
   "id": "2d712256",
   "metadata": {
    "execution": {
     "iopub.execute_input": "2023-06-19T09:19:55.406155Z",
     "iopub.status.busy": "2023-06-19T09:19:55.405748Z",
     "iopub.status.idle": "2023-06-19T09:19:55.602770Z",
     "shell.execute_reply": "2023-06-19T09:19:55.601553Z"
    },
    "nbsphinx": "hidden"
   },
   "outputs": [],
   "source": [
    "client.delete_list(example_list)"
   ]
  }
 ],
 "metadata": {
  "jupytext": {
   "formats": "ipynb,py:light"
  },
  "kernelspec": {
   "display_name": "Python 3 (ipykernel)",
   "language": "python",
   "name": "python3"
  },
  "language_info": {
   "codemirror_mode": {
    "name": "ipython",
    "version": 3
   },
   "file_extension": ".py",
   "mimetype": "text/x-python",
   "name": "python",
   "nbconvert_exporter": "python",
   "pygments_lexer": "ipython3",
   "version": "3.10.12"
  }
 },
 "nbformat": 4,
 "nbformat_minor": 5
}
