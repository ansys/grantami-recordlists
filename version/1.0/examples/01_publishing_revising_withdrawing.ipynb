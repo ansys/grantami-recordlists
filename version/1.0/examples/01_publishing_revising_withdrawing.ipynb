{
 "cells": [
  {
   "cell_type": "markdown",
   "id": "c806fc64",
   "metadata": {},
   "source": [
    "# Publishing, revising, and withdrawing record lists\n",
    "This example shows how to connect to Granta MI and perform advanced operations on record lists,\n",
    "such as publishing, withdrawing, and revising a list. For more information about the concepts\n",
    "discussed here, see the Help in the Granta MI Favorites app."
   ]
  },
  {
   "cell_type": "markdown",
   "id": "a6d92fc2",
   "metadata": {},
   "source": [
    ".. note:: Running this notebook requires permissions to request publication of, to publish, and to\n",
    "revise a record list. Contact your Granta MI administrator for more information."
   ]
  },
  {
   "cell_type": "markdown",
   "id": "2b85e631",
   "metadata": {},
   "source": [
    "## Connect to Granta MI and create a record list"
   ]
  },
  {
   "cell_type": "markdown",
   "id": "b09fd079",
   "metadata": {},
   "source": [
    "Import the ``Connection`` class and create the connection. See the\n",
    "[Getting started](00_basic_usage.ipynb) example for more details."
   ]
  },
  {
   "cell_type": "code",
   "execution_count": 1,
   "id": "1a45ed62",
   "metadata": {
    "execution": {
     "iopub.execute_input": "2023-06-19T09:20:01.607827Z",
     "iopub.status.busy": "2023-06-19T09:20:01.607213Z",
     "iopub.status.idle": "2023-06-19T09:20:03.933837Z",
     "shell.execute_reply": "2023-06-19T09:20:03.932322Z"
    },
    "tags": []
   },
   "outputs": [],
   "source": [
    "from ansys.grantami.recordlists import Connection\n",
    "\n",
    "connection = Connection(\"http://my_grantami_server/mi_servicelayer\").with_autologon()\n",
    "client = connection.connect()"
   ]
  },
  {
   "cell_type": "markdown",
   "id": "b1827ef2",
   "metadata": {},
   "source": [
    "Create a record list for use in this example."
   ]
  },
  {
   "cell_type": "code",
   "execution_count": 2,
   "id": "3987b78d",
   "metadata": {
    "execution": {
     "iopub.execute_input": "2023-06-19T09:20:03.940722Z",
     "iopub.status.busy": "2023-06-19T09:20:03.939822Z",
     "iopub.status.idle": "2023-06-19T09:20:04.141715Z",
     "shell.execute_reply": "2023-06-19T09:20:04.140537Z"
    },
    "tags": []
   },
   "outputs": [
    {
     "data": {
      "text/plain": [
       "<RecordList name: Example list>"
      ]
     },
     "execution_count": 2,
     "metadata": {},
     "output_type": "execute_result"
    }
   ],
   "source": [
    "example_list = client.create_list(\n",
    "    name=\"Example list\",\n",
    "    description=f\"Created by example 01_Advanced_usage\",\n",
    ")\n",
    "example_list"
   ]
  },
  {
   "cell_type": "markdown",
   "id": "d56199d2",
   "metadata": {
    "lines_to_next_cell": 2
   },
   "source": [
    "Record lists include two properties describing two aspects of their status: whether they are\n",
    "awaiting approval to be published, and whether they are currently published.\n",
    "Define a function to display the status properties."
   ]
  },
  {
   "cell_type": "code",
   "execution_count": 3,
   "id": "afa47d86",
   "metadata": {
    "execution": {
     "iopub.execute_input": "2023-06-19T09:20:04.146186Z",
     "iopub.status.busy": "2023-06-19T09:20:04.145574Z",
     "iopub.status.idle": "2023-06-19T09:20:04.152031Z",
     "shell.execute_reply": "2023-06-19T09:20:04.151131Z"
    },
    "tags": []
   },
   "outputs": [
    {
     "name": "stdout",
     "output_type": "stream",
     "text": [
      "Awaiting approval: False\n",
      "Published: False\n"
     ]
    }
   ],
   "source": [
    "def print_status(record_list):\n",
    "    print(f\"Awaiting approval: {record_list.awaiting_approval}\")\n",
    "    print(f\"Published: {record_list.published}\")\n",
    "\n",
    "\n",
    "print_status(example_list)"
   ]
  },
  {
   "cell_type": "markdown",
   "id": "ed4d8a0b",
   "metadata": {},
   "source": [
    "## Publish a record list"
   ]
  },
  {
   "cell_type": "markdown",
   "id": "f62e9890",
   "metadata": {},
   "source": [
    "A record list is proposed for publication by calling the ``request_list_approval`` method with the\n",
    "record list to be published."
   ]
  },
  {
   "cell_type": "code",
   "execution_count": 4,
   "id": "9202d81f",
   "metadata": {
    "execution": {
     "iopub.execute_input": "2023-06-19T09:20:04.159822Z",
     "iopub.status.busy": "2023-06-19T09:20:04.159473Z",
     "iopub.status.idle": "2023-06-19T09:20:04.365919Z",
     "shell.execute_reply": "2023-06-19T09:20:04.364933Z"
    },
    "tags": []
   },
   "outputs": [
    {
     "name": "stdout",
     "output_type": "stream",
     "text": [
      "Awaiting approval: True\n",
      "Published: False\n"
     ]
    }
   ],
   "source": [
    "updated_list = client.request_list_approval(example_list)\n",
    "\n",
    "print_status(updated_list)"
   ]
  },
  {
   "cell_type": "markdown",
   "id": "6cbc7da9",
   "metadata": {},
   "source": [
    "Publish the record list by using the ``publish_list`` method."
   ]
  },
  {
   "cell_type": "code",
   "execution_count": 5,
   "id": "2976b848",
   "metadata": {
    "execution": {
     "iopub.execute_input": "2023-06-19T09:20:04.370504Z",
     "iopub.status.busy": "2023-06-19T09:20:04.369970Z",
     "iopub.status.idle": "2023-06-19T09:20:04.581801Z",
     "shell.execute_reply": "2023-06-19T09:20:04.580831Z"
    },
    "tags": []
   },
   "outputs": [
    {
     "name": "stdout",
     "output_type": "stream",
     "text": [
      "Awaiting approval: False\n",
      "Published: True\n"
     ]
    }
   ],
   "source": [
    "updated_list = client.publish_list(example_list)\n",
    "\n",
    "print_status(updated_list)"
   ]
  },
  {
   "cell_type": "markdown",
   "id": "10d24802",
   "metadata": {},
   "source": [
    "## Revise a record list"
   ]
  },
  {
   "cell_type": "markdown",
   "id": "780c610e",
   "metadata": {},
   "source": [
    "A published record list cannot be modified directly. Instead, first create a revision of the\n",
    "published record list using the ``revise_list`` method. This creates an editable copy of the\n",
    "original record list (a list revision), and leaves the original record list unchanged."
   ]
  },
  {
   "cell_type": "code",
   "execution_count": 6,
   "id": "cdf02c25",
   "metadata": {
    "execution": {
     "iopub.execute_input": "2023-06-19T09:20:04.586456Z",
     "iopub.status.busy": "2023-06-19T09:20:04.585937Z",
     "iopub.status.idle": "2023-06-19T09:20:04.788681Z",
     "shell.execute_reply": "2023-06-19T09:20:04.787660Z"
    },
    "tags": []
   },
   "outputs": [
    {
     "name": "stdout",
     "output_type": "stream",
     "text": [
      "Awaiting approval: False\n",
      "Published: False\n"
     ]
    }
   ],
   "source": [
    "revision_list = client.revise_list(example_list)\n",
    "\n",
    "print_status(revision_list)"
   ]
  },
  {
   "cell_type": "markdown",
   "id": "0019c09c",
   "metadata": {},
   "source": [
    "The record list revision includes a property tracking the parent record list:"
   ]
  },
  {
   "cell_type": "code",
   "execution_count": 7,
   "id": "5ab5b467",
   "metadata": {
    "execution": {
     "iopub.execute_input": "2023-06-19T09:20:04.793126Z",
     "iopub.status.busy": "2023-06-19T09:20:04.792612Z",
     "iopub.status.idle": "2023-06-19T09:20:04.801332Z",
     "shell.execute_reply": "2023-06-19T09:20:04.799493Z"
    },
    "tags": []
   },
   "outputs": [
    {
     "name": "stdout",
     "output_type": "stream",
     "text": [
      "Is revision: True\n",
      "Parent identifier: 82b32ad2-d2ca-4999-9784-d3037b32aae7\n"
     ]
    }
   ],
   "source": [
    "print(f\"Is revision: {revision_list.is_revision}\")\n",
    "print(f\"Parent identifier: {revision_list.parent_record_list_identifier}\")"
   ]
  },
  {
   "cell_type": "markdown",
   "id": "90bc0ab7",
   "metadata": {},
   "source": [
    "Modifications made to the list revision are applied to the original list when the list revision\n",
    "is published. Once the original list is updated, the list revision is deleted and is no longer\n",
    "available."
   ]
  },
  {
   "cell_type": "code",
   "execution_count": 8,
   "id": "0ab06152",
   "metadata": {
    "execution": {
     "iopub.execute_input": "2023-06-19T09:20:04.806247Z",
     "iopub.status.busy": "2023-06-19T09:20:04.805662Z",
     "iopub.status.idle": "2023-06-19T09:20:05.437160Z",
     "shell.execute_reply": "2023-06-19T09:20:05.436205Z"
    },
    "tags": []
   },
   "outputs": [
    {
     "name": "stdout",
     "output_type": "stream",
     "text": [
      "Notes: None\n",
      "Is published: True\n"
     ]
    }
   ],
   "source": [
    "updated_revision_list = client.update_list(revision_list, notes=\"Added during revision process\")\n",
    "updated_revision_list = client.request_list_approval(updated_revision_list)\n",
    "updated_original_list = client.publish_list(updated_revision_list)\n",
    "\n",
    "# When publishing a revision list, the returned object is the updated parent list.\n",
    "# Check the notes of the list to confirm the revisions were made successfully.\n",
    "print(f\"Notes: {updated_original_list.notes}\")\n",
    "print(f\"Is published: {updated_original_list.published}\")"
   ]
  },
  {
   "cell_type": "markdown",
   "id": "33ee2d8b",
   "metadata": {},
   "source": [
    "## Withdraw a record list\n",
    "When a record list is in the published state, calling ``request_list_approval`` requests the\n",
    "withdrawal of that list."
   ]
  },
  {
   "cell_type": "code",
   "execution_count": 9,
   "id": "9b5ee293",
   "metadata": {
    "execution": {
     "iopub.execute_input": "2023-06-19T09:20:05.441835Z",
     "iopub.status.busy": "2023-06-19T09:20:05.440908Z",
     "iopub.status.idle": "2023-06-19T09:20:05.649237Z",
     "shell.execute_reply": "2023-06-19T09:20:05.644804Z"
    },
    "tags": []
   },
   "outputs": [
    {
     "name": "stdout",
     "output_type": "stream",
     "text": [
      "Awaiting approval: True\n",
      "Published: True\n"
     ]
    }
   ],
   "source": [
    "updated_list = client.request_list_approval(example_list)\n",
    "\n",
    "print_status(updated_list)"
   ]
  },
  {
   "cell_type": "markdown",
   "id": "dcd777d2",
   "metadata": {},
   "source": [
    "Use the ``unpublish_list`` method to withdraw a record list."
   ]
  },
  {
   "cell_type": "code",
   "execution_count": 10,
   "id": "6554d975",
   "metadata": {
    "execution": {
     "iopub.execute_input": "2023-06-19T09:20:05.653685Z",
     "iopub.status.busy": "2023-06-19T09:20:05.653172Z",
     "iopub.status.idle": "2023-06-19T09:20:05.864490Z",
     "shell.execute_reply": "2023-06-19T09:20:05.863457Z"
    },
    "tags": []
   },
   "outputs": [
    {
     "name": "stdout",
     "output_type": "stream",
     "text": [
      "Awaiting approval: False\n",
      "Published: False\n"
     ]
    }
   ],
   "source": [
    "updated_list = client.unpublish_list(example_list)\n",
    "\n",
    "print_status(updated_list)"
   ]
  },
  {
   "cell_type": "code",
   "execution_count": 11,
   "id": "e6631af8",
   "metadata": {
    "execution": {
     "iopub.execute_input": "2023-06-19T09:20:05.868982Z",
     "iopub.status.busy": "2023-06-19T09:20:05.868476Z",
     "iopub.status.idle": "2023-06-19T09:20:06.066206Z",
     "shell.execute_reply": "2023-06-19T09:20:06.065269Z"
    },
    "nbsphinx": "hidden"
   },
   "outputs": [],
   "source": [
    "client.delete_list(example_list)"
   ]
  }
 ],
 "metadata": {
  "jupytext": {
   "formats": "ipynb,py:light"
  },
  "kernelspec": {
   "display_name": "Python 3 (ipykernel)",
   "language": "python",
   "name": "python3"
  },
  "language_info": {
   "codemirror_mode": {
    "name": "ipython",
    "version": 3
   },
   "file_extension": ".py",
   "mimetype": "text/x-python",
   "name": "python",
   "nbconvert_exporter": "python",
   "pygments_lexer": "ipython3",
   "version": "3.10.12"
  }
 },
 "nbformat": 4,
 "nbformat_minor": 5
}
